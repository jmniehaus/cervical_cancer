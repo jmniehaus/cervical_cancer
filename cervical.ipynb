{
 "cells": [
  {
   "cell_type": "code",
   "execution_count": 3,
   "metadata": {},
   "outputs": [],
   "source": [
    "# schiller test --> iodine that stains different on abnormal cells on cervix\n",
    "# hinsellman --> coloscopy using scope on cervix\n",
    "# cytology --> pap smear\n",
    "# biopsy --> biopsy \n",
    "# These indicate the RESULTS of these tests, assuming they were carried out. 1 means suspect screening, 0 means okay screening. \n",
    "\n",
    "# dx columns mean previous cervical diagnosis \n",
    "# stds_number is the sum over all std columns\n",
    "# Cant figure out what stds_n_diagnosis is, though. "
   ]
  },
  {
   "cell_type": "code",
   "execution_count": 4,
   "metadata": {},
   "outputs": [],
   "source": [
    "import pandas as pd\n",
    "import numpy as np\n",
    "from sklearn.base import BaseEstimator, TransformerMixin\n",
    "from sklearn.preprocessing import StandardScaler\n",
    "from sklearn.decomposition import PCA\n",
    "from sklearn.model_selection import train_test_split, StratifiedKFold, cross_val_score, GridSearchCV, RandomizedSearchCV\n",
    "from sklearn.pipeline import Pipeline, FeatureUnion\n",
    "from sklearn.metrics import classification_report, RocCurveDisplay, PrecisionRecallDisplay\n",
    "from sklearn.impute import MissingIndicator, SimpleImputer\n",
    "import matplotlib.pyplot as plt\n",
    "import miceforest as mf\n",
    "from miceforest import mean_match_default\n",
    "import seaborn as sns\n",
    "from lightgbm import LGBMClassifier\n",
    "import inspect \n",
    "import warnings\n",
    "import scipy.stats as stats\n",
    "from tempfile import mkdtemp\n",
    "from shutil import rmtree\n",
    "from mice_imputer import *"
   ]
  },
  {
   "cell_type": "code",
   "execution_count": 5,
   "metadata": {},
   "outputs": [],
   "source": [
    "df = pd.read_csv(\"./data.csv\")"
   ]
  },
  {
   "attachments": {},
   "cell_type": "markdown",
   "metadata": {},
   "source": [
    "# Encode missings"
   ]
  },
  {
   "cell_type": "code",
   "execution_count": 6,
   "metadata": {},
   "outputs": [],
   "source": [
    "df = df.replace({\"?\": pd.NA})"
   ]
  },
  {
   "attachments": {},
   "cell_type": "markdown",
   "metadata": {},
   "source": [
    "# Rename columns to be more manageable"
   ]
  },
  {
   "cell_type": "code",
   "execution_count": 7,
   "metadata": {},
   "outputs": [
    {
     "data": {
      "text/plain": [
       "array(['Age', 'Number of sexual partners', 'First sexual intercourse',\n",
       "       'Num of pregnancies', 'Smokes', 'Smokes (years)',\n",
       "       'Smokes (packs/year)', 'Hormonal Contraceptives',\n",
       "       'Hormonal Contraceptives (years)', 'IUD', 'IUD (years)', 'STDs',\n",
       "       'STDs (number)', 'STDs:condylomatosis',\n",
       "       'STDs:cervical condylomatosis', 'STDs:vaginal condylomatosis',\n",
       "       'STDs:vulvo-perineal condylomatosis', 'STDs:syphilis',\n",
       "       'STDs:pelvic inflammatory disease', 'STDs:genital herpes',\n",
       "       'STDs:molluscum contagiosum', 'STDs:AIDS', 'STDs:HIV',\n",
       "       'STDs:Hepatitis B', 'STDs:HPV', 'STDs: Number of diagnosis',\n",
       "       'STDs: Time since first diagnosis',\n",
       "       'STDs: Time since last diagnosis', 'Dx:Cancer', 'Dx:CIN', 'Dx:HPV',\n",
       "       'Dx', 'Hinselmann', 'Schiller', 'Citology', 'Biopsy'], dtype=object)"
      ]
     },
     "execution_count": 7,
     "metadata": {},
     "output_type": "execute_result"
    }
   ],
   "source": [
    "df.columns.values"
   ]
  },
  {
   "cell_type": "code",
   "execution_count": 8,
   "metadata": {},
   "outputs": [
    {
     "data": {
      "text/plain": [
       "array(['age', 'n_sexual_partners', 'first_sexual_intercourse',\n",
       "       'n_pregnancies', 'smokes', 'smokes_years', 'smokes_packs_year',\n",
       "       'hormonal_bc', 'hormonal_bc_years', 'iud', 'iud_years', 'stds',\n",
       "       'stds_number', 'stds_condylomatosis',\n",
       "       'stds_cervical_condylomatosis', 'stds_vaginal_condylomatosis',\n",
       "       'stds_vulvo_perineal_condylomatosis', 'stds_syphilis',\n",
       "       'stds_pelvic_inflammatory_disease', 'stds_genital_herpes',\n",
       "       'stds_molluscum_contagiosum', 'stds_aids', 'stds_hiv',\n",
       "       'stds_hepatitis_b', 'stds_hpv', 'stds_n_diagnosis',\n",
       "       'stds_time_since_first_diagnosis',\n",
       "       'stds_time_since_last_diagnosis', 'dx_cancer', 'dx_cin', 'dx_hpv',\n",
       "       'dx', 'hinselmann', 'schiller', 'citology', 'biopsy'], dtype=object)"
      ]
     },
     "execution_count": 8,
     "metadata": {},
     "output_type": "execute_result"
    }
   ],
   "source": [
    "new_names = df.columns \n",
    "to_rep = {\n",
    "    \"Number\" : \"n\",\n",
    "    \"Contraceptives\" : \"bc\", \n",
    "    \"Num\" : \"n\",\n",
    "    \"-\" : \"_\",\n",
    "    \"of\" : \"\",\n",
    "    \" \" : \"_\", \n",
    "    \"(\" : \"\",\n",
    "    \")\" : \"\",\n",
    "    \"/\" : \"_\",\n",
    "    \":\" : \"_\", \n",
    "    \"__\" : \"_\"\n",
    "\n",
    "}\n",
    "\n",
    "for key, value in to_rep.items(): \n",
    "    new_names = new_names.str.replace(key, value, regex = True)\n",
    "\n",
    "new_names = new_names.str.lower()\n",
    "\n",
    "df = df.set_axis(new_names, axis = 1)\n",
    "\n",
    "df.columns.values\n"
   ]
  },
  {
   "cell_type": "code",
   "execution_count": 9,
   "metadata": {},
   "outputs": [],
   "source": [
    "df = df.apply(pd.to_numeric, axis = 1).convert_dtypes() # convert_dtypes not working without the apply() call. Probably due to the earlier replace statement, but fiddled for an hour and no dice."
   ]
  },
  {
   "attachments": {},
   "cell_type": "markdown",
   "metadata": {},
   "source": [
    "# Verifies that the count of stds is the sum over all std columns. "
   ]
  },
  {
   "cell_type": "code",
   "execution_count": 10,
   "metadata": {},
   "outputs": [
    {
     "data": {
      "text/html": [
       "<div>\n",
       "<style scoped>\n",
       "    .dataframe tbody tr th:only-of-type {\n",
       "        vertical-align: middle;\n",
       "    }\n",
       "\n",
       "    .dataframe tbody tr th {\n",
       "        vertical-align: top;\n",
       "    }\n",
       "\n",
       "    .dataframe thead th {\n",
       "        text-align: right;\n",
       "    }\n",
       "</style>\n",
       "<table border=\"1\" class=\"dataframe\">\n",
       "  <thead>\n",
       "    <tr style=\"text-align: right;\">\n",
       "      <th></th>\n",
       "      <th>stds_number</th>\n",
       "      <th>stds_condylomatosis</th>\n",
       "      <th>stds_cervical_condylomatosis</th>\n",
       "      <th>stds_vaginal_condylomatosis</th>\n",
       "      <th>stds_vulvo_perineal_condylomatosis</th>\n",
       "      <th>stds_syphilis</th>\n",
       "      <th>stds_pelvic_inflammatory_disease</th>\n",
       "      <th>stds_genital_herpes</th>\n",
       "      <th>stds_molluscum_contagiosum</th>\n",
       "      <th>stds_aids</th>\n",
       "      <th>stds_hiv</th>\n",
       "      <th>stds_hepatitis_b</th>\n",
       "      <th>stds_hpv</th>\n",
       "      <th>stds_n_diagnosis</th>\n",
       "      <th>stds_time_since_first_diagnosis</th>\n",
       "      <th>stds_time_since_last_diagnosis</th>\n",
       "    </tr>\n",
       "  </thead>\n",
       "  <tbody>\n",
       "    <tr>\n",
       "      <th>0</th>\n",
       "      <td>0</td>\n",
       "      <td>0</td>\n",
       "      <td>0</td>\n",
       "      <td>0</td>\n",
       "      <td>0</td>\n",
       "      <td>0</td>\n",
       "      <td>0</td>\n",
       "      <td>0</td>\n",
       "      <td>0</td>\n",
       "      <td>0</td>\n",
       "      <td>0</td>\n",
       "      <td>0</td>\n",
       "      <td>0</td>\n",
       "      <td>0</td>\n",
       "      <td>&lt;NA&gt;</td>\n",
       "      <td>&lt;NA&gt;</td>\n",
       "    </tr>\n",
       "    <tr>\n",
       "      <th>1</th>\n",
       "      <td>0</td>\n",
       "      <td>0</td>\n",
       "      <td>0</td>\n",
       "      <td>0</td>\n",
       "      <td>0</td>\n",
       "      <td>0</td>\n",
       "      <td>0</td>\n",
       "      <td>0</td>\n",
       "      <td>0</td>\n",
       "      <td>0</td>\n",
       "      <td>0</td>\n",
       "      <td>0</td>\n",
       "      <td>0</td>\n",
       "      <td>0</td>\n",
       "      <td>&lt;NA&gt;</td>\n",
       "      <td>&lt;NA&gt;</td>\n",
       "    </tr>\n",
       "    <tr>\n",
       "      <th>2</th>\n",
       "      <td>0</td>\n",
       "      <td>0</td>\n",
       "      <td>0</td>\n",
       "      <td>0</td>\n",
       "      <td>0</td>\n",
       "      <td>0</td>\n",
       "      <td>0</td>\n",
       "      <td>0</td>\n",
       "      <td>0</td>\n",
       "      <td>0</td>\n",
       "      <td>0</td>\n",
       "      <td>0</td>\n",
       "      <td>0</td>\n",
       "      <td>0</td>\n",
       "      <td>&lt;NA&gt;</td>\n",
       "      <td>&lt;NA&gt;</td>\n",
       "    </tr>\n",
       "    <tr>\n",
       "      <th>3</th>\n",
       "      <td>0</td>\n",
       "      <td>0</td>\n",
       "      <td>0</td>\n",
       "      <td>0</td>\n",
       "      <td>0</td>\n",
       "      <td>0</td>\n",
       "      <td>0</td>\n",
       "      <td>0</td>\n",
       "      <td>0</td>\n",
       "      <td>0</td>\n",
       "      <td>0</td>\n",
       "      <td>0</td>\n",
       "      <td>0</td>\n",
       "      <td>0</td>\n",
       "      <td>&lt;NA&gt;</td>\n",
       "      <td>&lt;NA&gt;</td>\n",
       "    </tr>\n",
       "    <tr>\n",
       "      <th>4</th>\n",
       "      <td>0</td>\n",
       "      <td>0</td>\n",
       "      <td>0</td>\n",
       "      <td>0</td>\n",
       "      <td>0</td>\n",
       "      <td>0</td>\n",
       "      <td>0</td>\n",
       "      <td>0</td>\n",
       "      <td>0</td>\n",
       "      <td>0</td>\n",
       "      <td>0</td>\n",
       "      <td>0</td>\n",
       "      <td>0</td>\n",
       "      <td>0</td>\n",
       "      <td>&lt;NA&gt;</td>\n",
       "      <td>&lt;NA&gt;</td>\n",
       "    </tr>\n",
       "    <tr>\n",
       "      <th>...</th>\n",
       "      <td>...</td>\n",
       "      <td>...</td>\n",
       "      <td>...</td>\n",
       "      <td>...</td>\n",
       "      <td>...</td>\n",
       "      <td>...</td>\n",
       "      <td>...</td>\n",
       "      <td>...</td>\n",
       "      <td>...</td>\n",
       "      <td>...</td>\n",
       "      <td>...</td>\n",
       "      <td>...</td>\n",
       "      <td>...</td>\n",
       "      <td>...</td>\n",
       "      <td>...</td>\n",
       "      <td>...</td>\n",
       "    </tr>\n",
       "    <tr>\n",
       "      <th>853</th>\n",
       "      <td>0</td>\n",
       "      <td>0</td>\n",
       "      <td>0</td>\n",
       "      <td>0</td>\n",
       "      <td>0</td>\n",
       "      <td>0</td>\n",
       "      <td>0</td>\n",
       "      <td>0</td>\n",
       "      <td>0</td>\n",
       "      <td>0</td>\n",
       "      <td>0</td>\n",
       "      <td>0</td>\n",
       "      <td>0</td>\n",
       "      <td>0</td>\n",
       "      <td>&lt;NA&gt;</td>\n",
       "      <td>&lt;NA&gt;</td>\n",
       "    </tr>\n",
       "    <tr>\n",
       "      <th>854</th>\n",
       "      <td>0</td>\n",
       "      <td>0</td>\n",
       "      <td>0</td>\n",
       "      <td>0</td>\n",
       "      <td>0</td>\n",
       "      <td>0</td>\n",
       "      <td>0</td>\n",
       "      <td>0</td>\n",
       "      <td>0</td>\n",
       "      <td>0</td>\n",
       "      <td>0</td>\n",
       "      <td>0</td>\n",
       "      <td>0</td>\n",
       "      <td>0</td>\n",
       "      <td>&lt;NA&gt;</td>\n",
       "      <td>&lt;NA&gt;</td>\n",
       "    </tr>\n",
       "    <tr>\n",
       "      <th>855</th>\n",
       "      <td>0</td>\n",
       "      <td>0</td>\n",
       "      <td>0</td>\n",
       "      <td>0</td>\n",
       "      <td>0</td>\n",
       "      <td>0</td>\n",
       "      <td>0</td>\n",
       "      <td>0</td>\n",
       "      <td>0</td>\n",
       "      <td>0</td>\n",
       "      <td>0</td>\n",
       "      <td>0</td>\n",
       "      <td>0</td>\n",
       "      <td>0</td>\n",
       "      <td>&lt;NA&gt;</td>\n",
       "      <td>&lt;NA&gt;</td>\n",
       "    </tr>\n",
       "    <tr>\n",
       "      <th>856</th>\n",
       "      <td>0</td>\n",
       "      <td>0</td>\n",
       "      <td>0</td>\n",
       "      <td>0</td>\n",
       "      <td>0</td>\n",
       "      <td>0</td>\n",
       "      <td>0</td>\n",
       "      <td>0</td>\n",
       "      <td>0</td>\n",
       "      <td>0</td>\n",
       "      <td>0</td>\n",
       "      <td>0</td>\n",
       "      <td>0</td>\n",
       "      <td>0</td>\n",
       "      <td>&lt;NA&gt;</td>\n",
       "      <td>&lt;NA&gt;</td>\n",
       "    </tr>\n",
       "    <tr>\n",
       "      <th>857</th>\n",
       "      <td>0</td>\n",
       "      <td>0</td>\n",
       "      <td>0</td>\n",
       "      <td>0</td>\n",
       "      <td>0</td>\n",
       "      <td>0</td>\n",
       "      <td>0</td>\n",
       "      <td>0</td>\n",
       "      <td>0</td>\n",
       "      <td>0</td>\n",
       "      <td>0</td>\n",
       "      <td>0</td>\n",
       "      <td>0</td>\n",
       "      <td>0</td>\n",
       "      <td>&lt;NA&gt;</td>\n",
       "      <td>&lt;NA&gt;</td>\n",
       "    </tr>\n",
       "  </tbody>\n",
       "</table>\n",
       "<p>858 rows × 16 columns</p>\n",
       "</div>"
      ],
      "text/plain": [
       "     stds_number  stds_condylomatosis  stds_cervical_condylomatosis  \\\n",
       "0              0                    0                             0   \n",
       "1              0                    0                             0   \n",
       "2              0                    0                             0   \n",
       "3              0                    0                             0   \n",
       "4              0                    0                             0   \n",
       "..           ...                  ...                           ...   \n",
       "853            0                    0                             0   \n",
       "854            0                    0                             0   \n",
       "855            0                    0                             0   \n",
       "856            0                    0                             0   \n",
       "857            0                    0                             0   \n",
       "\n",
       "     stds_vaginal_condylomatosis  stds_vulvo_perineal_condylomatosis  \\\n",
       "0                              0                                   0   \n",
       "1                              0                                   0   \n",
       "2                              0                                   0   \n",
       "3                              0                                   0   \n",
       "4                              0                                   0   \n",
       "..                           ...                                 ...   \n",
       "853                            0                                   0   \n",
       "854                            0                                   0   \n",
       "855                            0                                   0   \n",
       "856                            0                                   0   \n",
       "857                            0                                   0   \n",
       "\n",
       "     stds_syphilis  stds_pelvic_inflammatory_disease  stds_genital_herpes  \\\n",
       "0                0                                 0                    0   \n",
       "1                0                                 0                    0   \n",
       "2                0                                 0                    0   \n",
       "3                0                                 0                    0   \n",
       "4                0                                 0                    0   \n",
       "..             ...                               ...                  ...   \n",
       "853              0                                 0                    0   \n",
       "854              0                                 0                    0   \n",
       "855              0                                 0                    0   \n",
       "856              0                                 0                    0   \n",
       "857              0                                 0                    0   \n",
       "\n",
       "     stds_molluscum_contagiosum  stds_aids  stds_hiv  stds_hepatitis_b  \\\n",
       "0                             0          0         0                 0   \n",
       "1                             0          0         0                 0   \n",
       "2                             0          0         0                 0   \n",
       "3                             0          0         0                 0   \n",
       "4                             0          0         0                 0   \n",
       "..                          ...        ...       ...               ...   \n",
       "853                           0          0         0                 0   \n",
       "854                           0          0         0                 0   \n",
       "855                           0          0         0                 0   \n",
       "856                           0          0         0                 0   \n",
       "857                           0          0         0                 0   \n",
       "\n",
       "     stds_hpv  stds_n_diagnosis  stds_time_since_first_diagnosis  \\\n",
       "0           0                 0                             <NA>   \n",
       "1           0                 0                             <NA>   \n",
       "2           0                 0                             <NA>   \n",
       "3           0                 0                             <NA>   \n",
       "4           0                 0                             <NA>   \n",
       "..        ...               ...                              ...   \n",
       "853         0                 0                             <NA>   \n",
       "854         0                 0                             <NA>   \n",
       "855         0                 0                             <NA>   \n",
       "856         0                 0                             <NA>   \n",
       "857         0                 0                             <NA>   \n",
       "\n",
       "     stds_time_since_last_diagnosis  \n",
       "0                              <NA>  \n",
       "1                              <NA>  \n",
       "2                              <NA>  \n",
       "3                              <NA>  \n",
       "4                              <NA>  \n",
       "..                              ...  \n",
       "853                            <NA>  \n",
       "854                            <NA>  \n",
       "855                            <NA>  \n",
       "856                            <NA>  \n",
       "857                            <NA>  \n",
       "\n",
       "[858 rows x 16 columns]"
      ]
     },
     "execution_count": 10,
     "metadata": {},
     "output_type": "execute_result"
    }
   ],
   "source": [
    "df[df.columns[df.columns.str.startswith(\"stds_\")]]"
   ]
  },
  {
   "cell_type": "code",
   "execution_count": 11,
   "metadata": {},
   "outputs": [
    {
     "data": {
      "text/plain": [
       "True"
      ]
     },
     "execution_count": 11,
     "metadata": {},
     "output_type": "execute_result"
    }
   ],
   "source": [
    "all((df[df.columns[df.columns.str.startswith(\"stds_\")]].drop([\"stds_time_since_first_diagnosis\", \"stds_time_since_last_diagnosis\", \"stds_n_diagnosis\", \"stds_number\"], axis = 1).sum(axis = 1) == df.stds_number).dropna())"
   ]
  },
  {
   "attachments": {},
   "cell_type": "markdown",
   "metadata": {},
   "source": [
    "# Drop n_diagnosis col"
   ]
  },
  {
   "cell_type": "code",
   "execution_count": 12,
   "metadata": {},
   "outputs": [],
   "source": [
    "df.drop([\"stds_n_diagnosis\"], axis = 1, inplace = True)"
   ]
  },
  {
   "attachments": {},
   "cell_type": "markdown",
   "metadata": {},
   "source": [
    "# Check missingness "
   ]
  },
  {
   "cell_type": "code",
   "execution_count": 13,
   "metadata": {},
   "outputs": [
    {
     "data": {
      "text/plain": [
       "stds_time_since_last_diagnosis        0.917249\n",
       "stds_time_since_first_diagnosis       0.917249\n",
       "iud                                   0.136364\n",
       "iud_years                             0.136364\n",
       "hormonal_bc                           0.125874\n",
       "hormonal_bc_years                     0.125874\n",
       "stds_syphilis                         0.122378\n",
       "stds_vulvo_perineal_condylomatosis    0.122378\n",
       "stds_hpv                              0.122378\n",
       "stds_hepatitis_b                      0.122378\n",
       "stds_hiv                              0.122378\n",
       "stds_aids                             0.122378\n",
       "stds_molluscum_contagiosum            0.122378\n",
       "stds_genital_herpes                   0.122378\n",
       "stds_pelvic_inflammatory_disease      0.122378\n",
       "stds_vaginal_condylomatosis           0.122378\n",
       "stds_cervical_condylomatosis          0.122378\n",
       "stds_condylomatosis                   0.122378\n",
       "stds_number                           0.122378\n",
       "stds                                  0.122378\n",
       "n_pregnancies                         0.065268\n",
       "n_sexual_partners                     0.030303\n",
       "smokes_packs_year                     0.015152\n",
       "smokes_years                          0.015152\n",
       "smokes                                0.015152\n",
       "first_sexual_intercourse              0.008159\n",
       "dx                                    0.000000\n",
       "citology                              0.000000\n",
       "schiller                              0.000000\n",
       "hinselmann                            0.000000\n",
       "age                                   0.000000\n",
       "dx_hpv                                0.000000\n",
       "dx_cin                                0.000000\n",
       "dx_cancer                             0.000000\n",
       "biopsy                                0.000000\n",
       "dtype: float64"
      ]
     },
     "execution_count": 13,
     "metadata": {},
     "output_type": "execute_result"
    }
   ],
   "source": [
    "df.isna().mean().sort_values(ascending = False)"
   ]
  },
  {
   "attachments": {},
   "cell_type": "markdown",
   "metadata": {},
   "source": [
    "# Drop time since std diagnoses"
   ]
  },
  {
   "cell_type": "code",
   "execution_count": 14,
   "metadata": {},
   "outputs": [],
   "source": [
    "df.drop(df.columns.values[df.columns.str.startswith(\"stds_time\")], axis = 1, inplace = True)"
   ]
  },
  {
   "attachments": {},
   "cell_type": "markdown",
   "metadata": {},
   "source": [
    "# Check for constant columns"
   ]
  },
  {
   "cell_type": "code",
   "execution_count": 15,
   "metadata": {},
   "outputs": [
    {
     "name": "stdout",
     "output_type": "stream",
     "text": [
      "Deleting constant columns: ['stds_cervical_condylomatosis' 'stds_aids']\n"
     ]
    }
   ],
   "source": [
    "const = df.nunique() == 1\n",
    "\n",
    "if any(const):\n",
    "    print(\"Deleting constant columns: {}\".format(df.columns.values[const]))\n",
    "    df.drop(df.columns.values[const], axis = 1, inplace = True)"
   ]
  },
  {
   "attachments": {},
   "cell_type": "markdown",
   "metadata": {},
   "source": [
    "# Iud/smoking years are always >0 if you have an IUD/smoke."
   ]
  },
  {
   "cell_type": "code",
   "execution_count": 16,
   "metadata": {},
   "outputs": [
    {
     "data": {
      "text/html": [
       "<div>\n",
       "<style scoped>\n",
       "    .dataframe tbody tr th:only-of-type {\n",
       "        vertical-align: middle;\n",
       "    }\n",
       "\n",
       "    .dataframe tbody tr th {\n",
       "        vertical-align: top;\n",
       "    }\n",
       "\n",
       "    .dataframe thead th {\n",
       "        text-align: right;\n",
       "    }\n",
       "</style>\n",
       "<table border=\"1\" class=\"dataframe\">\n",
       "  <thead>\n",
       "    <tr style=\"text-align: right;\">\n",
       "      <th></th>\n",
       "      <th>age</th>\n",
       "      <th>n_sexual_partners</th>\n",
       "      <th>first_sexual_intercourse</th>\n",
       "      <th>n_pregnancies</th>\n",
       "      <th>smokes</th>\n",
       "      <th>smokes_years</th>\n",
       "      <th>smokes_packs_year</th>\n",
       "      <th>hormonal_bc</th>\n",
       "      <th>hormonal_bc_years</th>\n",
       "      <th>iud</th>\n",
       "      <th>...</th>\n",
       "      <th>stds_hepatitis_b</th>\n",
       "      <th>stds_hpv</th>\n",
       "      <th>dx_cancer</th>\n",
       "      <th>dx_cin</th>\n",
       "      <th>dx_hpv</th>\n",
       "      <th>dx</th>\n",
       "      <th>hinselmann</th>\n",
       "      <th>schiller</th>\n",
       "      <th>citology</th>\n",
       "      <th>biopsy</th>\n",
       "    </tr>\n",
       "  </thead>\n",
       "  <tbody>\n",
       "  </tbody>\n",
       "</table>\n",
       "<p>0 rows × 31 columns</p>\n",
       "</div>"
      ],
      "text/plain": [
       "Empty DataFrame\n",
       "Columns: [age, n_sexual_partners, first_sexual_intercourse, n_pregnancies, smokes, smokes_years, smokes_packs_year, hormonal_bc, hormonal_bc_years, iud, iud_years, stds, stds_number, stds_condylomatosis, stds_vaginal_condylomatosis, stds_vulvo_perineal_condylomatosis, stds_syphilis, stds_pelvic_inflammatory_disease, stds_genital_herpes, stds_molluscum_contagiosum, stds_hiv, stds_hepatitis_b, stds_hpv, dx_cancer, dx_cin, dx_hpv, dx, hinselmann, schiller, citology, biopsy]\n",
       "Index: []\n",
       "\n",
       "[0 rows x 31 columns]"
      ]
     },
     "execution_count": 16,
     "metadata": {},
     "output_type": "execute_result"
    }
   ],
   "source": [
    "df.loc[(df.iud == 1) & (df.iud_years == 0)]"
   ]
  },
  {
   "cell_type": "code",
   "execution_count": 17,
   "metadata": {},
   "outputs": [
    {
     "data": {
      "text/html": [
       "<div>\n",
       "<style scoped>\n",
       "    .dataframe tbody tr th:only-of-type {\n",
       "        vertical-align: middle;\n",
       "    }\n",
       "\n",
       "    .dataframe tbody tr th {\n",
       "        vertical-align: top;\n",
       "    }\n",
       "\n",
       "    .dataframe thead th {\n",
       "        text-align: right;\n",
       "    }\n",
       "</style>\n",
       "<table border=\"1\" class=\"dataframe\">\n",
       "  <thead>\n",
       "    <tr style=\"text-align: right;\">\n",
       "      <th></th>\n",
       "      <th>age</th>\n",
       "      <th>n_sexual_partners</th>\n",
       "      <th>first_sexual_intercourse</th>\n",
       "      <th>n_pregnancies</th>\n",
       "      <th>smokes</th>\n",
       "      <th>smokes_years</th>\n",
       "      <th>smokes_packs_year</th>\n",
       "      <th>hormonal_bc</th>\n",
       "      <th>hormonal_bc_years</th>\n",
       "      <th>iud</th>\n",
       "      <th>...</th>\n",
       "      <th>stds_hepatitis_b</th>\n",
       "      <th>stds_hpv</th>\n",
       "      <th>dx_cancer</th>\n",
       "      <th>dx_cin</th>\n",
       "      <th>dx_hpv</th>\n",
       "      <th>dx</th>\n",
       "      <th>hinselmann</th>\n",
       "      <th>schiller</th>\n",
       "      <th>citology</th>\n",
       "      <th>biopsy</th>\n",
       "    </tr>\n",
       "  </thead>\n",
       "  <tbody>\n",
       "  </tbody>\n",
       "</table>\n",
       "<p>0 rows × 31 columns</p>\n",
       "</div>"
      ],
      "text/plain": [
       "Empty DataFrame\n",
       "Columns: [age, n_sexual_partners, first_sexual_intercourse, n_pregnancies, smokes, smokes_years, smokes_packs_year, hormonal_bc, hormonal_bc_years, iud, iud_years, stds, stds_number, stds_condylomatosis, stds_vaginal_condylomatosis, stds_vulvo_perineal_condylomatosis, stds_syphilis, stds_pelvic_inflammatory_disease, stds_genital_herpes, stds_molluscum_contagiosum, stds_hiv, stds_hepatitis_b, stds_hpv, dx_cancer, dx_cin, dx_hpv, dx, hinselmann, schiller, citology, biopsy]\n",
       "Index: []\n",
       "\n",
       "[0 rows x 31 columns]"
      ]
     },
     "execution_count": 17,
     "metadata": {},
     "output_type": "execute_result"
    }
   ],
   "source": [
    "df.loc[(df.smokes == 1) & (df.smokes_years == 0)]"
   ]
  },
  {
   "cell_type": "markdown",
   "metadata": {},
   "source": [
    "# PCA on STD Columns"
   ]
  },
  {
   "cell_type": "code",
   "execution_count": 18,
   "metadata": {},
   "outputs": [],
   "source": [
    "stds = df[df.columns.values[df.columns.str.startswith(\"stds_\")]].drop(\"stds_number\", axis = 1).dropna()"
   ]
  },
  {
   "cell_type": "code",
   "execution_count": 19,
   "metadata": {},
   "outputs": [
    {
     "data": {
      "text/html": [
       "<style>#sk-container-id-1 {color: black;background-color: white;}#sk-container-id-1 pre{padding: 0;}#sk-container-id-1 div.sk-toggleable {background-color: white;}#sk-container-id-1 label.sk-toggleable__label {cursor: pointer;display: block;width: 100%;margin-bottom: 0;padding: 0.3em;box-sizing: border-box;text-align: center;}#sk-container-id-1 label.sk-toggleable__label-arrow:before {content: \"▸\";float: left;margin-right: 0.25em;color: #696969;}#sk-container-id-1 label.sk-toggleable__label-arrow:hover:before {color: black;}#sk-container-id-1 div.sk-estimator:hover label.sk-toggleable__label-arrow:before {color: black;}#sk-container-id-1 div.sk-toggleable__content {max-height: 0;max-width: 0;overflow: hidden;text-align: left;background-color: #f0f8ff;}#sk-container-id-1 div.sk-toggleable__content pre {margin: 0.2em;color: black;border-radius: 0.25em;background-color: #f0f8ff;}#sk-container-id-1 input.sk-toggleable__control:checked~div.sk-toggleable__content {max-height: 200px;max-width: 100%;overflow: auto;}#sk-container-id-1 input.sk-toggleable__control:checked~label.sk-toggleable__label-arrow:before {content: \"▾\";}#sk-container-id-1 div.sk-estimator input.sk-toggleable__control:checked~label.sk-toggleable__label {background-color: #d4ebff;}#sk-container-id-1 div.sk-label input.sk-toggleable__control:checked~label.sk-toggleable__label {background-color: #d4ebff;}#sk-container-id-1 input.sk-hidden--visually {border: 0;clip: rect(1px 1px 1px 1px);clip: rect(1px, 1px, 1px, 1px);height: 1px;margin: -1px;overflow: hidden;padding: 0;position: absolute;width: 1px;}#sk-container-id-1 div.sk-estimator {font-family: monospace;background-color: #f0f8ff;border: 1px dotted black;border-radius: 0.25em;box-sizing: border-box;margin-bottom: 0.5em;}#sk-container-id-1 div.sk-estimator:hover {background-color: #d4ebff;}#sk-container-id-1 div.sk-parallel-item::after {content: \"\";width: 100%;border-bottom: 1px solid gray;flex-grow: 1;}#sk-container-id-1 div.sk-label:hover label.sk-toggleable__label {background-color: #d4ebff;}#sk-container-id-1 div.sk-serial::before {content: \"\";position: absolute;border-left: 1px solid gray;box-sizing: border-box;top: 0;bottom: 0;left: 50%;z-index: 0;}#sk-container-id-1 div.sk-serial {display: flex;flex-direction: column;align-items: center;background-color: white;padding-right: 0.2em;padding-left: 0.2em;position: relative;}#sk-container-id-1 div.sk-item {position: relative;z-index: 1;}#sk-container-id-1 div.sk-parallel {display: flex;align-items: stretch;justify-content: center;background-color: white;position: relative;}#sk-container-id-1 div.sk-item::before, #sk-container-id-1 div.sk-parallel-item::before {content: \"\";position: absolute;border-left: 1px solid gray;box-sizing: border-box;top: 0;bottom: 0;left: 50%;z-index: -1;}#sk-container-id-1 div.sk-parallel-item {display: flex;flex-direction: column;z-index: 1;position: relative;background-color: white;}#sk-container-id-1 div.sk-parallel-item:first-child::after {align-self: flex-end;width: 50%;}#sk-container-id-1 div.sk-parallel-item:last-child::after {align-self: flex-start;width: 50%;}#sk-container-id-1 div.sk-parallel-item:only-child::after {width: 0;}#sk-container-id-1 div.sk-dashed-wrapped {border: 1px dashed gray;margin: 0 0.4em 0.5em 0.4em;box-sizing: border-box;padding-bottom: 0.4em;background-color: white;}#sk-container-id-1 div.sk-label label {font-family: monospace;font-weight: bold;display: inline-block;line-height: 1.2em;}#sk-container-id-1 div.sk-label-container {text-align: center;}#sk-container-id-1 div.sk-container {/* jupyter's `normalize.less` sets `[hidden] { display: none; }` but bootstrap.min.css set `[hidden] { display: none !important; }` so we also need the `!important` here to be able to override the default hidden behavior on the sphinx rendered scikit-learn.org. See: https://github.com/scikit-learn/scikit-learn/issues/21755 */display: inline-block !important;position: relative;}#sk-container-id-1 div.sk-text-repr-fallback {display: none;}</style><div id=\"sk-container-id-1\" class=\"sk-top-container\"><div class=\"sk-text-repr-fallback\"><pre>PCA()</pre><b>In a Jupyter environment, please rerun this cell to show the HTML representation or trust the notebook. <br />On GitHub, the HTML representation is unable to render, please try loading this page with nbviewer.org.</b></div><div class=\"sk-container\" hidden><div class=\"sk-item\"><div class=\"sk-estimator sk-toggleable\"><input class=\"sk-toggleable__control sk-hidden--visually\" id=\"sk-estimator-id-1\" type=\"checkbox\" checked><label for=\"sk-estimator-id-1\" class=\"sk-toggleable__label sk-toggleable__label-arrow\">PCA</label><div class=\"sk-toggleable__content\"><pre>PCA()</pre></div></div></div></div></div>"
      ],
      "text/plain": [
       "PCA()"
      ]
     },
     "execution_count": 19,
     "metadata": {},
     "output_type": "execute_result"
    }
   ],
   "source": [
    "scaler = StandardScaler()\n",
    "pc = PCA()\n",
    "stds_s = scaler.fit_transform(stds)\n",
    "pc.fit(stds_s)"
   ]
  },
  {
   "cell_type": "code",
   "execution_count": 20,
   "metadata": {},
   "outputs": [
    {
     "name": "stdout",
     "output_type": "stream",
     "text": [
      "[0.21281557 0.33578793 0.43706542 0.53727932 0.6374123  0.73754528\n",
      " 0.83624698 0.92480148 0.99909275 1.        ]\n"
     ]
    }
   ],
   "source": [
    "eigs = pc.explained_variance_ratio_\n",
    "eigs_cum = np.cumsum(eigs)\n",
    "ind = [i + 1 for i in range(len(eigs))]\n",
    "print(eigs_cum)"
   ]
  },
  {
   "cell_type": "code",
   "execution_count": 21,
   "metadata": {},
   "outputs": [
    {
     "data": {
      "text/plain": [
       "[<matplotlib.lines.Line2D at 0x7f19e073d300>]"
      ]
     },
     "execution_count": 21,
     "metadata": {},
     "output_type": "execute_result"
    },
    {
     "data": {
      "image/png": "[encoded data removed]",
      "text/plain": [
       "<Figure size 640x480 with 1 Axes>"
      ]
     },
     "metadata": {},
     "output_type": "display_data"
    }
   ],
   "source": [
    "plt.plot(ind, eigs)\n",
    "plt.plot(ind, eigs_cum)"
   ]
  },
  {
   "cell_type": "code",
   "execution_count": 22,
   "metadata": {},
   "outputs": [
    {
     "data": {
      "text/plain": [
       "array([2.13098567, 1.23135892, 1.01412168])"
      ]
     },
     "execution_count": 22,
     "metadata": {},
     "output_type": "execute_result"
    }
   ],
   "source": [
    "pc.explained_variance_[0:3]"
   ]
  },
  {
   "cell_type": "code",
   "execution_count": 23,
   "metadata": {},
   "outputs": [
    {
     "data": {
      "text/html": [
       "<div>\n",
       "<style scoped>\n",
       "    .dataframe tbody tr th:only-of-type {\n",
       "        vertical-align: middle;\n",
       "    }\n",
       "\n",
       "    .dataframe tbody tr th {\n",
       "        vertical-align: top;\n",
       "    }\n",
       "\n",
       "    .dataframe thead th {\n",
       "        text-align: right;\n",
       "    }\n",
       "</style>\n",
       "<table border=\"1\" class=\"dataframe\">\n",
       "  <thead>\n",
       "    <tr style=\"text-align: right;\">\n",
       "      <th></th>\n",
       "      <th>PC1</th>\n",
       "      <th>PC2</th>\n",
       "      <th>PC3</th>\n",
       "    </tr>\n",
       "  </thead>\n",
       "  <tbody>\n",
       "    <tr>\n",
       "      <th>stds_condylomatosis</th>\n",
       "      <td>0.9809</td>\n",
       "      <td>-0.0569</td>\n",
       "      <td>-0.0001</td>\n",
       "    </tr>\n",
       "    <tr>\n",
       "      <th>stds_vaginal_condylomatosis</th>\n",
       "      <td>0.4394</td>\n",
       "      <td>-0.1656</td>\n",
       "      <td>0.1930</td>\n",
       "    </tr>\n",
       "    <tr>\n",
       "      <th>stds_vulvo_perineal_condylomatosis</th>\n",
       "      <td>0.9656</td>\n",
       "      <td>-0.0452</td>\n",
       "      <td>-0.0155</td>\n",
       "    </tr>\n",
       "    <tr>\n",
       "      <th>stds_syphilis</th>\n",
       "      <td>0.0632</td>\n",
       "      <td>0.0832</td>\n",
       "      <td>-0.8210</td>\n",
       "    </tr>\n",
       "    <tr>\n",
       "      <th>stds_pelvic_inflammatory_disease</th>\n",
       "      <td>-0.0179</td>\n",
       "      <td>-0.0192</td>\n",
       "      <td>0.2231</td>\n",
       "    </tr>\n",
       "    <tr>\n",
       "      <th>stds_genital_herpes</th>\n",
       "      <td>-0.0179</td>\n",
       "      <td>-0.0192</td>\n",
       "      <td>0.2231</td>\n",
       "    </tr>\n",
       "    <tr>\n",
       "      <th>stds_molluscum_contagiosum</th>\n",
       "      <td>-0.0179</td>\n",
       "      <td>-0.0192</td>\n",
       "      <td>0.2231</td>\n",
       "    </tr>\n",
       "    <tr>\n",
       "      <th>stds_hiv</th>\n",
       "      <td>0.1929</td>\n",
       "      <td>0.7636</td>\n",
       "      <td>-0.0030</td>\n",
       "    </tr>\n",
       "    <tr>\n",
       "      <th>stds_hepatitis_b</th>\n",
       "      <td>0.0230</td>\n",
       "      <td>0.7790</td>\n",
       "      <td>0.1598</td>\n",
       "    </tr>\n",
       "    <tr>\n",
       "      <th>stds_hpv</th>\n",
       "      <td>-0.0253</td>\n",
       "      <td>-0.0273</td>\n",
       "      <td>0.3573</td>\n",
       "    </tr>\n",
       "  </tbody>\n",
       "</table>\n",
       "</div>"
      ],
      "text/plain": [
       "                                       PC1     PC2     PC3\n",
       "stds_condylomatosis                 0.9809 -0.0569 -0.0001\n",
       "stds_vaginal_condylomatosis         0.4394 -0.1656  0.1930\n",
       "stds_vulvo_perineal_condylomatosis  0.9656 -0.0452 -0.0155\n",
       "stds_syphilis                       0.0632  0.0832 -0.8210\n",
       "stds_pelvic_inflammatory_disease   -0.0179 -0.0192  0.2231\n",
       "stds_genital_herpes                -0.0179 -0.0192  0.2231\n",
       "stds_molluscum_contagiosum         -0.0179 -0.0192  0.2231\n",
       "stds_hiv                            0.1929  0.7636 -0.0030\n",
       "stds_hepatitis_b                    0.0230  0.7790  0.1598\n",
       "stds_hpv                           -0.0253 -0.0273  0.3573"
      ]
     },
     "execution_count": 23,
     "metadata": {},
     "output_type": "execute_result"
    }
   ],
   "source": [
    "loadings = pc.components_[0:3].T * np.sqrt(pc.explained_variance_[0:3])\n",
    "\n",
    "loadmat = pd.DataFrame(np.round(loadings, 4), columns=['PC1', 'PC2', 'PC3'], index=stds.columns.values)\n",
    "loadmat\n"
   ]
  },
  {
   "attachments": {},
   "cell_type": "markdown",
   "metadata": {},
   "source": [
    "# Train/Test Data"
   ]
  },
  {
   "cell_type": "code",
   "execution_count": 24,
   "metadata": {},
   "outputs": [],
   "source": [
    "x = df.drop([\"smokes\", \"hormonal_bc\", \"iud\", \"stds\", \"schiller\", \"biopsy\", \"hinselmann\"], axis = 1)\n",
    "x[\"n_stds\"] = x[\"stds_number\"]\n",
    "x.drop(x.columns.values[x.columns.str.startswith(\"stds\")], axis = 1, inplace = True)\n",
    "y = df[[\"biopsy\"]].astype(\"int64\")\n"
   ]
  },
  {
   "cell_type": "code",
   "execution_count": 25,
   "metadata": {},
   "outputs": [
    {
     "data": {
      "text/plain": [
       "age                           Int64\n",
       "n_sexual_partners             Int64\n",
       "first_sexual_intercourse      Int64\n",
       "n_pregnancies                 Int64\n",
       "smokes_years                Float64\n",
       "smokes_packs_year           Float64\n",
       "hormonal_bc_years           Float64\n",
       "iud_years                   Float64\n",
       "dx_cancer                     Int64\n",
       "dx_cin                        Int64\n",
       "dx_hpv                        Int64\n",
       "dx                            Int64\n",
       "citology                      Int64\n",
       "n_stds                        Int64\n",
       "dtype: object"
      ]
     },
     "execution_count": 25,
     "metadata": {},
     "output_type": "execute_result"
    }
   ],
   "source": [
    "x.dtypes"
   ]
  },
  {
   "cell_type": "code",
   "execution_count": 26,
   "metadata": {},
   "outputs": [
    {
     "data": {
      "text/plain": [
       "age                          float64\n",
       "n_sexual_partners            float64\n",
       "first_sexual_intercourse     float64\n",
       "n_pregnancies                float64\n",
       "smokes_years                 float64\n",
       "smokes_packs_year            float64\n",
       "hormonal_bc_years            float64\n",
       "iud_years                    float64\n",
       "dx_cancer                   category\n",
       "dx_cin                      category\n",
       "dx_hpv                      category\n",
       "dx                          category\n",
       "citology                     float64\n",
       "n_stds                       float64\n",
       "dtype: object"
      ]
     },
     "execution_count": 26,
     "metadata": {},
     "output_type": "execute_result"
    }
   ],
   "source": [
    "x[x.select_dtypes(include=['Int64', 'Float64']).columns.values] = x.select_dtypes(include=['Int64', 'Float64']).astype('float')\n",
    "x[x.columns.values[x.columns.str.startswith(\"dx\")]] = x[x.columns.values[x.columns.str.startswith(\"dx\")]].astype(\"category\")\n",
    "x.dtypes"
   ]
  },
  {
   "cell_type": "code",
   "execution_count": 27,
   "metadata": {},
   "outputs": [],
   "source": [
    "x_train, x_test, y_train, y_test = train_test_split(x, y)"
   ]
  },
  {
   "cell_type": "code",
   "execution_count": 28,
   "metadata": {},
   "outputs": [
    {
     "name": "stdout",
     "output_type": "stream",
     "text": [
      "(643, 1) (215, 1)\n"
     ]
    },
    {
     "data": {
      "text/html": [
       "<div>\n",
       "<style scoped>\n",
       "    .dataframe tbody tr th:only-of-type {\n",
       "        vertical-align: middle;\n",
       "    }\n",
       "\n",
       "    .dataframe tbody tr th {\n",
       "        vertical-align: top;\n",
       "    }\n",
       "\n",
       "    .dataframe thead th {\n",
       "        text-align: right;\n",
       "    }\n",
       "</style>\n",
       "<table border=\"1\" class=\"dataframe\">\n",
       "  <thead>\n",
       "    <tr style=\"text-align: right;\">\n",
       "      <th></th>\n",
       "      <th>age</th>\n",
       "      <th>n_sexual_partners</th>\n",
       "      <th>first_sexual_intercourse</th>\n",
       "      <th>n_pregnancies</th>\n",
       "      <th>smokes_years</th>\n",
       "      <th>smokes_packs_year</th>\n",
       "      <th>hormonal_bc_years</th>\n",
       "      <th>iud_years</th>\n",
       "      <th>dx_cancer</th>\n",
       "      <th>dx_cin</th>\n",
       "      <th>dx_hpv</th>\n",
       "      <th>dx</th>\n",
       "      <th>citology</th>\n",
       "      <th>n_stds</th>\n",
       "    </tr>\n",
       "  </thead>\n",
       "  <tbody>\n",
       "    <tr>\n",
       "      <th>688</th>\n",
       "      <td>28.0</td>\n",
       "      <td>5.0</td>\n",
       "      <td>15.0</td>\n",
       "      <td>4.0</td>\n",
       "      <td>0.0</td>\n",
       "      <td>0.00</td>\n",
       "      <td>0.0</td>\n",
       "      <td>0.0</td>\n",
       "      <td>0.0</td>\n",
       "      <td>0.0</td>\n",
       "      <td>0.0</td>\n",
       "      <td>0.0</td>\n",
       "      <td>1.0</td>\n",
       "      <td>0.0</td>\n",
       "    </tr>\n",
       "    <tr>\n",
       "      <th>691</th>\n",
       "      <td>26.0</td>\n",
       "      <td>2.0</td>\n",
       "      <td>17.0</td>\n",
       "      <td>NaN</td>\n",
       "      <td>9.0</td>\n",
       "      <td>1.35</td>\n",
       "      <td>3.0</td>\n",
       "      <td>0.0</td>\n",
       "      <td>0.0</td>\n",
       "      <td>0.0</td>\n",
       "      <td>0.0</td>\n",
       "      <td>0.0</td>\n",
       "      <td>0.0</td>\n",
       "      <td>2.0</td>\n",
       "    </tr>\n",
       "    <tr>\n",
       "      <th>118</th>\n",
       "      <td>30.0</td>\n",
       "      <td>2.0</td>\n",
       "      <td>17.0</td>\n",
       "      <td>2.0</td>\n",
       "      <td>0.0</td>\n",
       "      <td>0.00</td>\n",
       "      <td>11.0</td>\n",
       "      <td>0.0</td>\n",
       "      <td>0.0</td>\n",
       "      <td>0.0</td>\n",
       "      <td>0.0</td>\n",
       "      <td>0.0</td>\n",
       "      <td>0.0</td>\n",
       "      <td>0.0</td>\n",
       "    </tr>\n",
       "    <tr>\n",
       "      <th>168</th>\n",
       "      <td>29.0</td>\n",
       "      <td>4.0</td>\n",
       "      <td>16.0</td>\n",
       "      <td>3.0</td>\n",
       "      <td>0.0</td>\n",
       "      <td>0.00</td>\n",
       "      <td>0.0</td>\n",
       "      <td>3.0</td>\n",
       "      <td>0.0</td>\n",
       "      <td>0.0</td>\n",
       "      <td>0.0</td>\n",
       "      <td>0.0</td>\n",
       "      <td>0.0</td>\n",
       "      <td>0.0</td>\n",
       "    </tr>\n",
       "    <tr>\n",
       "      <th>347</th>\n",
       "      <td>19.0</td>\n",
       "      <td>2.0</td>\n",
       "      <td>15.0</td>\n",
       "      <td>2.0</td>\n",
       "      <td>0.0</td>\n",
       "      <td>0.00</td>\n",
       "      <td>0.5</td>\n",
       "      <td>0.0</td>\n",
       "      <td>0.0</td>\n",
       "      <td>0.0</td>\n",
       "      <td>0.0</td>\n",
       "      <td>0.0</td>\n",
       "      <td>0.0</td>\n",
       "      <td>0.0</td>\n",
       "    </tr>\n",
       "  </tbody>\n",
       "</table>\n",
       "</div>"
      ],
      "text/plain": [
       "      age  n_sexual_partners  first_sexual_intercourse  n_pregnancies  \\\n",
       "688  28.0                5.0                      15.0            4.0   \n",
       "691  26.0                2.0                      17.0            NaN   \n",
       "118  30.0                2.0                      17.0            2.0   \n",
       "168  29.0                4.0                      16.0            3.0   \n",
       "347  19.0                2.0                      15.0            2.0   \n",
       "\n",
       "     smokes_years  smokes_packs_year  hormonal_bc_years  iud_years dx_cancer  \\\n",
       "688           0.0               0.00                0.0        0.0       0.0   \n",
       "691           9.0               1.35                3.0        0.0       0.0   \n",
       "118           0.0               0.00               11.0        0.0       0.0   \n",
       "168           0.0               0.00                0.0        3.0       0.0   \n",
       "347           0.0               0.00                0.5        0.0       0.0   \n",
       "\n",
       "    dx_cin dx_hpv   dx  citology  n_stds  \n",
       "688    0.0    0.0  0.0       1.0     0.0  \n",
       "691    0.0    0.0  0.0       0.0     2.0  \n",
       "118    0.0    0.0  0.0       0.0     0.0  \n",
       "168    0.0    0.0  0.0       0.0     0.0  \n",
       "347    0.0    0.0  0.0       0.0     0.0  "
      ]
     },
     "execution_count": 28,
     "metadata": {},
     "output_type": "execute_result"
    }
   ],
   "source": [
    "print(y_train.shape, y_test.shape)\n",
    "x_train.head()"
   ]
  },
  {
   "cell_type": "code",
   "execution_count": 29,
   "metadata": {},
   "outputs": [],
   "source": [
    "if False:\n",
    "    class mice_imputer(BaseEstimator, TransformerMixin):\n",
    "        \"\"\"\n",
    "        Wrapper class for miceimputer around sklearn transformers to avoid error in miceimputer which requires the transform method to be called on the same dataset as the fit method was. This is a problem when trying to fit on a training set and \n",
    "        transform on a validation set within an sklearn pipeline that is called within gridsearchCV. \n",
    "\n",
    "        Pass any arguments as kwargs to this class from miceimputer's ImputationKernel() class, as well as from the ImputationKernel.mice() method. You can also pass arguments onto the underlying LightGBM implementation as keywords to mice. \n",
    "        Appropriate fit and transform methods will then be created such that the miceimputer.trasform method will work on new data. \n",
    "        \"\"\"\n",
    "\n",
    "        def __init__(self, variable_parameters=None, **kwargs):\n",
    "            self.all_kwargs = kwargs\n",
    "            self.lgb_args = {\"num_iterations\", \"learning_rate\", \"num_leaves\",\n",
    "                            \"max_depth\", \"min_data_in_leaf\", \"min_sum_hessian_in_leaf\",\n",
    "                            \"bagging_fraction\", \"colsample_bytree\", \"colsample_bynode\",\n",
    "                            \"lambda_l1\", \"lambda_l2\", \"min_split_gain\", \"cat_smooth\"}\n",
    "            self.lgb_args = self.__arg_intersect(\n",
    "                self.all_kwargs, self.lgb_args, right_fn=False)\n",
    "            self.inst_args = self.__arg_intersect(\n",
    "                self.all_kwargs, mf.ImputationKernel)\n",
    "            self.mice_args = self.__arg_intersect(\n",
    "                self.all_kwargs, mf.ImputationKernel.mice)\n",
    "            self.variable_parameters = variable_parameters\n",
    "            self.kern = []\n",
    "\n",
    "            self.invalid = set(self.all_kwargs.keys()).difference(set(\n",
    "                self.inst_args.keys()).union(set(self.lgb_args.keys()), set(self.mice_args.keys())))\n",
    "\n",
    "            if len(self.invalid) > 0:\n",
    "                warnings.warn(\n",
    "                    \"Invalid **kwargs will be ignored:{}\".format(self.invalid))\n",
    "\n",
    "        def __arg_intersect(self, kwargs_dict, right, right_fn=True):\n",
    "            right = inspect.getfullargspec(right).args if right_fn else right\n",
    "            inter = kwargs_dict.keys() & right\n",
    "            out_dict = {key: kwargs_dict[key] for key in inter}\n",
    "\n",
    "            return out_dict\n",
    "\n",
    "        def __warn_clean(message, category, filename, lineno, file=None, line=None):\n",
    "            return (\"%s:%s %s: %s\\n\") % (filename, lineno, category.__name__, message)\n",
    "        warnings.formatwarning = __warn_clean\n",
    "\n",
    "        def __merge_dict(self, *args):\n",
    "            base = dict()\n",
    "            for i in args:\n",
    "                base.update(i)\n",
    "            return (base)\n",
    "\n",
    "        # Mandatory for sklearn api\n",
    "        def get_params(self, deep=True):\n",
    "            return self.__merge_dict(self.lgb_args, self.inst_args, self.mice_args)\n",
    "\n",
    "        # Mandatory for sklearn api\n",
    "        def set_params(self, **parameters):\n",
    "            for parameter, value in parameters.items():\n",
    "                setattr(self, parameter, value)\n",
    "            return self\n",
    "\n",
    "        def fit(self, X, y=None):\n",
    "            \"\"\" \n",
    "            Will first instantiate miceforest.ImputationKernel with whatever keyword args that are passed to this mice_imputer class at instantiation. Afterwards, it calls ImputationKernel.mice(), again with whatever mice() kwargs were passed at \n",
    "            instantiation, which includes kwargs which are ultimately passed on to the underlying LightGBM fitter that does the imputation. \n",
    "            \"\"\"\n",
    "            self.kern = mf.ImputationKernel(X, save_models=2, **self.inst_args)\n",
    "            self.kern.mice(variable_parameters=self.variable_parameters,\n",
    "                        **self.mice_args, **self.lgb_args)\n",
    "            return (self)\n",
    "\n",
    "        def transform(self, X, y=None):\n",
    "            return self.kern.impute_new_data(X, copy_data=True).complete_data(inplace=False)\n",
    "\n",
    "        def fit_transform(self, X, y=None):\n",
    "            return self.fit(X).transform(X)\n"
   ]
  },
  {
   "cell_type": "code",
   "execution_count": 30,
   "metadata": {},
   "outputs": [
    {
     "data": {
      "text/plain": [
       "2499.9999999999995"
      ]
     },
     "execution_count": 30,
     "metadata": {},
     "output_type": "execute_result"
    }
   ],
   "source": [
    "125*(.8/.2**2)"
   ]
  },
  {
   "cell_type": "code",
   "execution_count": 31,
   "metadata": {},
   "outputs": [
    {
     "data": {
      "text/plain": [
       "[<matplotlib.lines.Line2D at 0x7f19e09e1450>]"
      ]
     },
     "execution_count": 31,
     "metadata": {},
     "output_type": "execute_result"
    },
    {
     "data": {
      "image/png": "[encoded data removed]",
      "text/plain": [
       "<Figure size 640x480 with 1 Axes>"
      ]
     },
     "metadata": {},
     "output_type": "display_data"
    }
   ],
   "source": [
    "n = 2\n",
    "p = .0075\n",
    "# x = stats.nbinom.rvs(n = n, p=p, size = 10000)\n",
    "# plt.hist(x,density=True, bins = 100)\n",
    "xl = np.floor(np.linspace(0, 1000, 1000))\n",
    "plt.plot(xl, stats.nbinom.pmf(xl, n = n, p = p))"
   ]
  },
  {
   "cell_type": "code",
   "execution_count": 32,
   "metadata": {},
   "outputs": [
    {
     "data": {
      "text/plain": [
       "[<matplotlib.lines.Line2D at 0x7f19e0b5c9a0>]"
      ]
     },
     "execution_count": 32,
     "metadata": {},
     "output_type": "execute_result"
    },
    {
     "data": {
      "image/png": "[encoded data removed]",
      "text/plain": [
       "<Figure size 640x480 with 1 Axes>"
      ]
     },
     "metadata": {},
     "output_type": "display_data"
    }
   ],
   "source": [
    "xl = np.linspace(0, 1, 1000)\n",
    "plt.plot(xl, stats.beta.pdf(xl, 1.75, 8))"
   ]
  },
  {
   "cell_type": "code",
   "execution_count": 33,
   "metadata": {},
   "outputs": [],
   "source": [
    "folds = StratifiedKFold(7, shuffle = True)"
   ]
  },
  {
   "cell_type": "code",
   "execution_count": 34,
   "metadata": {},
   "outputs": [],
   "source": [
    "clf = LGBMClassifier(objective = \"binary\")"
   ]
  },
  {
   "cell_type": "code",
   "execution_count": 35,
   "metadata": {},
   "outputs": [],
   "source": [
    "# impute_grid_poisson_template = {\n",
    "#     \"objective\" : \"poisson\"\n",
    "# }\n",
    "\n",
    "# impute_grid_reg_template = {\n",
    "#     \"objective\" : \"mse\"\n",
    "# }\n",
    "\n",
    "# impute_grid_pois = {}\n",
    "# impute_grid_mse = {}\n",
    "# keys = x.columns.values[x.isna().any()] \n",
    "\n",
    "# for i in keys: \n",
    "\n",
    "#     impute_grid_pois[i] = impute_grid_poisson_template.copy()\n",
    "\n",
    "#     if \"dx\" in i: \n",
    "#         impute_grid_pois[i][\"objective\"] = \"binary\"\n",
    "\n",
    "    "
   ]
  },
  {
   "cell_type": "code",
   "execution_count": 36,
   "metadata": {},
   "outputs": [],
   "source": [
    "mean_match = mean_match_default.copy()\n",
    "mean_match.set_mean_match_candidates(5)"
   ]
  },
  {
   "cell_type": "code",
   "execution_count": 37,
   "metadata": {},
   "outputs": [],
   "source": [
    "grid = {\n",
    "    \"imputer__datasets\" : stats.randint(1, 10),\n",
    "    \"imputer__iterations\" : stats.randint(1, 12),\n",
    "    \"imputer__objective\" : [\"poisson\", \"mse\"],\n",
    "    \"imputer__num_iterations\" : stats.nbinom(n = 2, p = .0075),\n",
    "    \"imputer__learning_rate\" : stats.beta(1.75, 8),\n",
    "    \"imputer__max_depth\" : stats.randint(1, 10),\n",
    "    \"classifier__n_estimators\" : stats.nbinom(n = 2, p = .0075),\n",
    "    \"classifier__max_depth\" : stats.randint(1, 10),\n",
    "    \"classifier__learning_rate\" : stats.beta(1.75, 8),\n",
    "    \"classifier__min_child_samples\" : stats.randint(5, 50)\n",
    "}"
   ]
  },
  {
   "cell_type": "code",
   "execution_count": 44,
   "metadata": {},
   "outputs": [
    {
     "name": "stderr",
     "output_type": "stream",
     "text": [
      "/home/john/.conda/envs/cervical/lib/python3.10/site-packages/sklearn/model_selection/_validation.py:378 FitFailedWarning: \n",
      "7 fits failed out of a total of 70000.\n",
      "The score on these train-test partitions for these parameters will be set to nan.\n",
      "If these failures are not expected, you can try to debug them by setting error_score='raise'.\n",
      "\n",
      "Below are more details about the failures:\n",
      "--------------------------------------------------------------------------------\n",
      "7 fits failed with the following error:\n",
      "Traceback (most recent call last):\n",
      "  File \"/home/john/.conda/envs/cervical/lib/python3.10/site-packages/sklearn/model_selection/_validation.py\", line 686, in _fit_and_score\n",
      "    estimator.fit(X_train, y_train, **fit_params)\n",
      "  File \"/home/john/.conda/envs/cervical/lib/python3.10/site-packages/sklearn/pipeline.py\", line 405, in fit\n",
      "    self._final_estimator.fit(Xt, y, **fit_params_last_step)\n",
      "  File \"/home/john/.conda/envs/cervical/lib/python3.10/site-packages/lightgbm/sklearn.py\", line 967, in fit\n",
      "    super().fit(X, _y, sample_weight=sample_weight, init_score=init_score, eval_set=valid_sets,\n",
      "  File \"/home/john/.conda/envs/cervical/lib/python3.10/site-packages/lightgbm/sklearn.py\", line 748, in fit\n",
      "    self._Booster = train(\n",
      "  File \"/home/john/.conda/envs/cervical/lib/python3.10/site-packages/lightgbm/engine.py\", line 190, in train\n",
      "    raise ValueError(\"num_boost_round should be greater than zero.\")\n",
      "ValueError: num_boost_round should be greater than zero.\n",
      "\n",
      "/home/john/.conda/envs/cervical/lib/python3.10/site-packages/sklearn/model_selection/_search.py:952 UserWarning: One or more of the test scores are non-finite: [0.08095238 0.         0.         ... 0.08095238 0.07619048 0.05238095]\n",
      "/home/john/.conda/envs/cervical/lib/python3.10/site-packages/sklearn/model_selection/_search.py:952 UserWarning: One or more of the train scores are non-finite: [0.91906682 0.12211982 0.07646889 ... 0.91892281 0.92799539 0.93260369]\n"
     ]
    }
   ],
   "source": [
    "cache = mkdtemp()\n",
    "\n",
    "pipe = Pipeline(\n",
    "    memory = cache,\n",
    "    steps = [\n",
    "        (\"imputer\", mice_imputer(mean_match_scheme = mean_match)),\n",
    "        (\"classifier\", clf)\n",
    "    ]\n",
    ")\n",
    "\n",
    "gcv = RandomizedSearchCV(\n",
    "    estimator = pipe,\n",
    "    param_distributions = grid, \n",
    "    scoring = \"recall\",\n",
    "    refit = True, \n",
    "    cv = folds,\n",
    "    return_train_score = True,\n",
    "    n_jobs = 18,\n",
    "    n_iter = 10000\n",
    ")\n",
    "\n",
    "gcv.fit(x_train, y_train.values.flatten())\n",
    "rmtree(cache)"
   ]
  },
  {
   "cell_type": "code",
   "execution_count": 46,
   "metadata": {},
   "outputs": [
    {
     "data": {
      "text/plain": [
       "{'classifier__learning_rate': 0.40465756888172993,\n",
       " 'classifier__max_depth': 2,\n",
       " 'classifier__min_child_samples': 17,\n",
       " 'classifier__n_estimators': 536,\n",
       " 'imputer__datasets': 4,\n",
       " 'imputer__iterations': 11,\n",
       " 'imputer__learning_rate': 0.12471971476798172,\n",
       " 'imputer__max_depth': 3,\n",
       " 'imputer__num_iterations': 629,\n",
       " 'imputer__objective': 'poisson'}"
      ]
     },
     "execution_count": 46,
     "metadata": {},
     "output_type": "execute_result"
    }
   ],
   "source": [
    "gcv.best_params_"
   ]
  }
 ],
 "metadata": {
  "kernelspec": {
   "display_name": "cervical",
   "language": "python",
   "name": "python3"
  },
  "language_info": {
   "codemirror_mode": {
    "name": "ipython",
    "version": 3
   },
   "file_extension": ".py",
   "mimetype": "text/x-python",
   "name": "python",
   "nbconvert_exporter": "python",
   "pygments_lexer": "ipython3",
   "version": "3.10.9"
  },
  "orig_nbformat": 4,
  "vscode": {
   "interpreter": {
    "hash": "36a4d8ebaadf09211e7ea3eda12f34cb65c6aa2c0258225f56eef2ad8727d175"
   }
  }
 },
 "nbformat": 4,
 "nbformat_minor": 2
}
