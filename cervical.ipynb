{
 "cells": [
  {
   "cell_type": "code",
   "execution_count": 2,
   "metadata": {},
   "outputs": [],
   "source": [
    "# schiller test --> iodine that stains different on abnormal cells on cervix\n",
    "# hinsellman --> coloscopy using scope on cervix\n",
    "# cytology --> pap smear\n",
    "# biopsy --> biopsy \n",
    "# These indicate the RESULTS of these tests, assuming they were carried out. 1 means suspect screening, 0 means okay screening. \n",
    "\n",
    "# dx columns mean previous cervical diagnosis \n",
    "# stds_number is the sum over all std columns\n",
    "# Cant figure out what stds_n_diagnosis is, though. "
   ]
  },
  {
   "cell_type": "code",
   "execution_count": 3,
   "metadata": {},
   "outputs": [],
   "source": [
    "import gc \n",
    "import pandas as pd\n",
    "import numpy as np\n",
    "from sklearn.base import BaseEstimator, TransformerMixin\n",
    "from sklearn.preprocessing import StandardScaler\n",
    "from sklearn.decomposition import PCA\n",
    "from sklearn.compose import ColumnTransformer\n",
    "from sklearn.model_selection import train_test_split, RepeatedStratifiedKFold, cross_val_score, GridSearchCV, RandomizedSearchCV, cross_validate, StratifiedKFold\n",
    "from sklearn.pipeline import Pipeline, FeatureUnion\n",
    "from sklearn.metrics import classification_report, RocCurveDisplay, PrecisionRecallDisplay, fbeta_score, make_scorer, average_precision_score, log_loss\n",
    "from sklearn.impute import MissingIndicator, SimpleImputer\n",
    "import matplotlib.pyplot as plt\n",
    "import miceforest as mf\n",
    "from miceforest import mean_match_default\n",
    "import seaborn as sns\n",
    "from lightgbm import LGBMClassifier\n",
    "import inspect \n",
    "import warnings\n",
    "import scipy.stats as stats\n",
    "from tempfile import mkdtemp\n",
    "from joblib import Memory\n",
    "from shutil import rmtree\n",
    "from mice_imputer import *\n",
    "from missing_transformer import *\n",
    "import pickle \n",
    "from sklearn.inspection import permutation_importance, PartialDependenceDisplay\n",
    "import matplotlib as mpl\n",
    "\n"
   ]
  },
  {
   "cell_type": "code",
   "execution_count": 4,
   "metadata": {},
   "outputs": [],
   "source": [
    "df = pd.read_csv(\"https://archive.ics.uci.edu/ml/machine-learning-databases/00383/risk_factors_cervical_cancer.csv\")"
   ]
  },
  {
   "attachments": {},
   "cell_type": "markdown",
   "metadata": {},
   "source": [
    "# Encode missings"
   ]
  },
  {
   "cell_type": "code",
   "execution_count": 5,
   "metadata": {},
   "outputs": [],
   "source": [
    "df = df.replace({\"?\": pd.NA})"
   ]
  },
  {
   "attachments": {},
   "cell_type": "markdown",
   "metadata": {},
   "source": [
    "# Rename columns to be more manageable"
   ]
  },
  {
   "cell_type": "code",
   "execution_count": 6,
   "metadata": {},
   "outputs": [
    {
     "data": {
      "text/plain": [
       "array(['Age', 'Number of sexual partners', 'First sexual intercourse',\n",
       "       'Num of pregnancies', 'Smokes', 'Smokes (years)',\n",
       "       'Smokes (packs/year)', 'Hormonal Contraceptives',\n",
       "       'Hormonal Contraceptives (years)', 'IUD', 'IUD (years)', 'STDs',\n",
       "       'STDs (number)', 'STDs:condylomatosis',\n",
       "       'STDs:cervical condylomatosis', 'STDs:vaginal condylomatosis',\n",
       "       'STDs:vulvo-perineal condylomatosis', 'STDs:syphilis',\n",
       "       'STDs:pelvic inflammatory disease', 'STDs:genital herpes',\n",
       "       'STDs:molluscum contagiosum', 'STDs:AIDS', 'STDs:HIV',\n",
       "       'STDs:Hepatitis B', 'STDs:HPV', 'STDs: Number of diagnosis',\n",
       "       'STDs: Time since first diagnosis',\n",
       "       'STDs: Time since last diagnosis', 'Dx:Cancer', 'Dx:CIN', 'Dx:HPV',\n",
       "       'Dx', 'Hinselmann', 'Schiller', 'Citology', 'Biopsy'], dtype=object)"
      ]
     },
     "execution_count": 6,
     "metadata": {},
     "output_type": "execute_result"
    }
   ],
   "source": [
    "df.columns.values"
   ]
  },
  {
   "cell_type": "code",
   "execution_count": 7,
   "metadata": {},
   "outputs": [
    {
     "data": {
      "text/plain": [
       "array(['age', 'n_sexual_partners', 'first_sexual_intercourse',\n",
       "       'n_pregnancies', 'smokes', 'smokes_years', 'smokes_packs_year',\n",
       "       'hormonal_bc', 'hormonal_bc_years', 'iud', 'iud_years', 'stds',\n",
       "       'stds_number', 'stds_condylomatosis',\n",
       "       'stds_cervical_condylomatosis', 'stds_vaginal_condylomatosis',\n",
       "       'stds_vulvo_perineal_condylomatosis', 'stds_syphilis',\n",
       "       'stds_pelvic_inflammatory_disease', 'stds_genital_herpes',\n",
       "       'stds_molluscum_contagiosum', 'stds_aids', 'stds_hiv',\n",
       "       'stds_hepatitis_b', 'stds_hpv', 'stds_n_diagnosis',\n",
       "       'stds_time_since_first_diagnosis',\n",
       "       'stds_time_since_last_diagnosis', 'dx_cancer', 'dx_cin', 'dx_hpv',\n",
       "       'dx', 'hinselmann', 'schiller', 'citology', 'biopsy'], dtype=object)"
      ]
     },
     "execution_count": 7,
     "metadata": {},
     "output_type": "execute_result"
    }
   ],
   "source": [
    "new_names = df.columns \n",
    "to_rep = {\n",
    "    \"Number\" : \"n\",\n",
    "    \"Contraceptives\" : \"bc\", \n",
    "    \"Num\" : \"n\",\n",
    "    \"-\" : \"_\",\n",
    "    \"of\" : \"\",\n",
    "    \" \" : \"_\", \n",
    "    \"(\" : \"\",\n",
    "    \")\" : \"\",\n",
    "    \"/\" : \"_\",\n",
    "    \":\" : \"_\", \n",
    "    \"__\" : \"_\"\n",
    "}\n",
    "\n",
    "for key, value in to_rep.items(): \n",
    "    new_names = new_names.str.replace(key, value, regex = True)\n",
    "\n",
    "new_names = new_names.str.lower()\n",
    "\n",
    "df = df.set_axis(new_names, axis = 1)\n",
    "\n",
    "df.columns.values"
   ]
  },
  {
   "cell_type": "code",
   "execution_count": 8,
   "metadata": {},
   "outputs": [],
   "source": [
    "df = df.apply(pd.to_numeric, axis = 1).convert_dtypes() # convert_dtypes not working without the apply() call. Probably due to the earlier replace statement, but fiddled for an hour and no dice."
   ]
  },
  {
   "attachments": {},
   "cell_type": "markdown",
   "metadata": {},
   "source": [
    "# Data Exploration"
   ]
  },
  {
   "attachments": {},
   "cell_type": "markdown",
   "metadata": {},
   "source": [
    "## Basic variable description"
   ]
  },
  {
   "cell_type": "code",
   "execution_count": 9,
   "metadata": {},
   "outputs": [
    {
     "data": {
      "text/html": [
       "<div>\n",
       "<style scoped>\n",
       "    .dataframe tbody tr th:only-of-type {\n",
       "        vertical-align: middle;\n",
       "    }\n",
       "\n",
       "    .dataframe tbody tr th {\n",
       "        vertical-align: top;\n",
       "    }\n",
       "\n",
       "    .dataframe thead th {\n",
       "        text-align: right;\n",
       "    }\n",
       "</style>\n",
       "<table border=\"1\" class=\"dataframe\">\n",
       "  <thead>\n",
       "    <tr style=\"text-align: right;\">\n",
       "      <th></th>\n",
       "      <th>count</th>\n",
       "      <th>mean</th>\n",
       "      <th>std</th>\n",
       "      <th>min</th>\n",
       "      <th>25%</th>\n",
       "      <th>50%</th>\n",
       "      <th>75%</th>\n",
       "      <th>max</th>\n",
       "    </tr>\n",
       "  </thead>\n",
       "  <tbody>\n",
       "    <tr>\n",
       "      <th>age</th>\n",
       "      <td>858.0</td>\n",
       "      <td>26.820513</td>\n",
       "      <td>8.497948</td>\n",
       "      <td>13.0</td>\n",
       "      <td>20.0</td>\n",
       "      <td>25.0</td>\n",
       "      <td>32.0</td>\n",
       "      <td>84.0</td>\n",
       "    </tr>\n",
       "    <tr>\n",
       "      <th>n_sexual_partners</th>\n",
       "      <td>832.0</td>\n",
       "      <td>2.527644</td>\n",
       "      <td>1.66776</td>\n",
       "      <td>1.0</td>\n",
       "      <td>2.0</td>\n",
       "      <td>2.0</td>\n",
       "      <td>3.0</td>\n",
       "      <td>28.0</td>\n",
       "    </tr>\n",
       "    <tr>\n",
       "      <th>first_sexual_intercourse</th>\n",
       "      <td>851.0</td>\n",
       "      <td>16.9953</td>\n",
       "      <td>2.803355</td>\n",
       "      <td>10.0</td>\n",
       "      <td>15.0</td>\n",
       "      <td>17.0</td>\n",
       "      <td>18.0</td>\n",
       "      <td>32.0</td>\n",
       "    </tr>\n",
       "    <tr>\n",
       "      <th>n_pregnancies</th>\n",
       "      <td>802.0</td>\n",
       "      <td>2.275561</td>\n",
       "      <td>1.447414</td>\n",
       "      <td>0.0</td>\n",
       "      <td>1.0</td>\n",
       "      <td>2.0</td>\n",
       "      <td>3.0</td>\n",
       "      <td>11.0</td>\n",
       "    </tr>\n",
       "    <tr>\n",
       "      <th>smokes</th>\n",
       "      <td>845.0</td>\n",
       "      <td>0.145562</td>\n",
       "      <td>0.352876</td>\n",
       "      <td>0.0</td>\n",
       "      <td>0.0</td>\n",
       "      <td>0.0</td>\n",
       "      <td>0.0</td>\n",
       "      <td>1.0</td>\n",
       "    </tr>\n",
       "    <tr>\n",
       "      <th>smokes_years</th>\n",
       "      <td>845.0</td>\n",
       "      <td>1.219721</td>\n",
       "      <td>4.089017</td>\n",
       "      <td>0.0</td>\n",
       "      <td>0.0</td>\n",
       "      <td>0.0</td>\n",
       "      <td>0.0</td>\n",
       "      <td>37.0</td>\n",
       "    </tr>\n",
       "    <tr>\n",
       "      <th>smokes_packs_year</th>\n",
       "      <td>845.0</td>\n",
       "      <td>0.453144</td>\n",
       "      <td>2.22661</td>\n",
       "      <td>0.0</td>\n",
       "      <td>0.0</td>\n",
       "      <td>0.0</td>\n",
       "      <td>0.0</td>\n",
       "      <td>37.0</td>\n",
       "    </tr>\n",
       "    <tr>\n",
       "      <th>hormonal_bc</th>\n",
       "      <td>750.0</td>\n",
       "      <td>0.641333</td>\n",
       "      <td>0.479929</td>\n",
       "      <td>0.0</td>\n",
       "      <td>0.0</td>\n",
       "      <td>1.0</td>\n",
       "      <td>1.0</td>\n",
       "      <td>1.0</td>\n",
       "    </tr>\n",
       "    <tr>\n",
       "      <th>hormonal_bc_years</th>\n",
       "      <td>750.0</td>\n",
       "      <td>2.256419</td>\n",
       "      <td>3.764254</td>\n",
       "      <td>0.0</td>\n",
       "      <td>0.0</td>\n",
       "      <td>0.5</td>\n",
       "      <td>3.0</td>\n",
       "      <td>30.0</td>\n",
       "    </tr>\n",
       "    <tr>\n",
       "      <th>iud</th>\n",
       "      <td>741.0</td>\n",
       "      <td>0.112011</td>\n",
       "      <td>0.315593</td>\n",
       "      <td>0.0</td>\n",
       "      <td>0.0</td>\n",
       "      <td>0.0</td>\n",
       "      <td>0.0</td>\n",
       "      <td>1.0</td>\n",
       "    </tr>\n",
       "    <tr>\n",
       "      <th>iud_years</th>\n",
       "      <td>741.0</td>\n",
       "      <td>0.514804</td>\n",
       "      <td>1.943089</td>\n",
       "      <td>0.0</td>\n",
       "      <td>0.0</td>\n",
       "      <td>0.0</td>\n",
       "      <td>0.0</td>\n",
       "      <td>19.0</td>\n",
       "    </tr>\n",
       "    <tr>\n",
       "      <th>stds</th>\n",
       "      <td>753.0</td>\n",
       "      <td>0.104914</td>\n",
       "      <td>0.306646</td>\n",
       "      <td>0.0</td>\n",
       "      <td>0.0</td>\n",
       "      <td>0.0</td>\n",
       "      <td>0.0</td>\n",
       "      <td>1.0</td>\n",
       "    </tr>\n",
       "    <tr>\n",
       "      <th>stds_number</th>\n",
       "      <td>753.0</td>\n",
       "      <td>0.176627</td>\n",
       "      <td>0.561993</td>\n",
       "      <td>0.0</td>\n",
       "      <td>0.0</td>\n",
       "      <td>0.0</td>\n",
       "      <td>0.0</td>\n",
       "      <td>4.0</td>\n",
       "    </tr>\n",
       "    <tr>\n",
       "      <th>stds_condylomatosis</th>\n",
       "      <td>753.0</td>\n",
       "      <td>0.058433</td>\n",
       "      <td>0.234716</td>\n",
       "      <td>0.0</td>\n",
       "      <td>0.0</td>\n",
       "      <td>0.0</td>\n",
       "      <td>0.0</td>\n",
       "      <td>1.0</td>\n",
       "    </tr>\n",
       "    <tr>\n",
       "      <th>stds_cervical_condylomatosis</th>\n",
       "      <td>753.0</td>\n",
       "      <td>0.0</td>\n",
       "      <td>0.0</td>\n",
       "      <td>0.0</td>\n",
       "      <td>0.0</td>\n",
       "      <td>0.0</td>\n",
       "      <td>0.0</td>\n",
       "      <td>0.0</td>\n",
       "    </tr>\n",
       "    <tr>\n",
       "      <th>stds_vaginal_condylomatosis</th>\n",
       "      <td>753.0</td>\n",
       "      <td>0.005312</td>\n",
       "      <td>0.072739</td>\n",
       "      <td>0.0</td>\n",
       "      <td>0.0</td>\n",
       "      <td>0.0</td>\n",
       "      <td>0.0</td>\n",
       "      <td>1.0</td>\n",
       "    </tr>\n",
       "    <tr>\n",
       "      <th>stds_vulvo_perineal_condylomatosis</th>\n",
       "      <td>753.0</td>\n",
       "      <td>0.057105</td>\n",
       "      <td>0.232197</td>\n",
       "      <td>0.0</td>\n",
       "      <td>0.0</td>\n",
       "      <td>0.0</td>\n",
       "      <td>0.0</td>\n",
       "      <td>1.0</td>\n",
       "    </tr>\n",
       "    <tr>\n",
       "      <th>stds_syphilis</th>\n",
       "      <td>753.0</td>\n",
       "      <td>0.023904</td>\n",
       "      <td>0.152853</td>\n",
       "      <td>0.0</td>\n",
       "      <td>0.0</td>\n",
       "      <td>0.0</td>\n",
       "      <td>0.0</td>\n",
       "      <td>1.0</td>\n",
       "    </tr>\n",
       "    <tr>\n",
       "      <th>stds_pelvic_inflammatory_disease</th>\n",
       "      <td>753.0</td>\n",
       "      <td>0.001328</td>\n",
       "      <td>0.036442</td>\n",
       "      <td>0.0</td>\n",
       "      <td>0.0</td>\n",
       "      <td>0.0</td>\n",
       "      <td>0.0</td>\n",
       "      <td>1.0</td>\n",
       "    </tr>\n",
       "    <tr>\n",
       "      <th>stds_genital_herpes</th>\n",
       "      <td>753.0</td>\n",
       "      <td>0.001328</td>\n",
       "      <td>0.036442</td>\n",
       "      <td>0.0</td>\n",
       "      <td>0.0</td>\n",
       "      <td>0.0</td>\n",
       "      <td>0.0</td>\n",
       "      <td>1.0</td>\n",
       "    </tr>\n",
       "    <tr>\n",
       "      <th>stds_molluscum_contagiosum</th>\n",
       "      <td>753.0</td>\n",
       "      <td>0.001328</td>\n",
       "      <td>0.036442</td>\n",
       "      <td>0.0</td>\n",
       "      <td>0.0</td>\n",
       "      <td>0.0</td>\n",
       "      <td>0.0</td>\n",
       "      <td>1.0</td>\n",
       "    </tr>\n",
       "    <tr>\n",
       "      <th>stds_aids</th>\n",
       "      <td>753.0</td>\n",
       "      <td>0.0</td>\n",
       "      <td>0.0</td>\n",
       "      <td>0.0</td>\n",
       "      <td>0.0</td>\n",
       "      <td>0.0</td>\n",
       "      <td>0.0</td>\n",
       "      <td>0.0</td>\n",
       "    </tr>\n",
       "    <tr>\n",
       "      <th>stds_hiv</th>\n",
       "      <td>753.0</td>\n",
       "      <td>0.023904</td>\n",
       "      <td>0.152853</td>\n",
       "      <td>0.0</td>\n",
       "      <td>0.0</td>\n",
       "      <td>0.0</td>\n",
       "      <td>0.0</td>\n",
       "      <td>1.0</td>\n",
       "    </tr>\n",
       "    <tr>\n",
       "      <th>stds_hepatitis_b</th>\n",
       "      <td>753.0</td>\n",
       "      <td>0.001328</td>\n",
       "      <td>0.036442</td>\n",
       "      <td>0.0</td>\n",
       "      <td>0.0</td>\n",
       "      <td>0.0</td>\n",
       "      <td>0.0</td>\n",
       "      <td>1.0</td>\n",
       "    </tr>\n",
       "    <tr>\n",
       "      <th>stds_hpv</th>\n",
       "      <td>753.0</td>\n",
       "      <td>0.002656</td>\n",
       "      <td>0.051503</td>\n",
       "      <td>0.0</td>\n",
       "      <td>0.0</td>\n",
       "      <td>0.0</td>\n",
       "      <td>0.0</td>\n",
       "      <td>1.0</td>\n",
       "    </tr>\n",
       "    <tr>\n",
       "      <th>stds_n_diagnosis</th>\n",
       "      <td>858.0</td>\n",
       "      <td>0.087413</td>\n",
       "      <td>0.302545</td>\n",
       "      <td>0.0</td>\n",
       "      <td>0.0</td>\n",
       "      <td>0.0</td>\n",
       "      <td>0.0</td>\n",
       "      <td>3.0</td>\n",
       "    </tr>\n",
       "    <tr>\n",
       "      <th>stds_time_since_first_diagnosis</th>\n",
       "      <td>71.0</td>\n",
       "      <td>6.140845</td>\n",
       "      <td>5.895024</td>\n",
       "      <td>1.0</td>\n",
       "      <td>2.0</td>\n",
       "      <td>4.0</td>\n",
       "      <td>8.0</td>\n",
       "      <td>22.0</td>\n",
       "    </tr>\n",
       "    <tr>\n",
       "      <th>stds_time_since_last_diagnosis</th>\n",
       "      <td>71.0</td>\n",
       "      <td>5.816901</td>\n",
       "      <td>5.755271</td>\n",
       "      <td>1.0</td>\n",
       "      <td>2.0</td>\n",
       "      <td>3.0</td>\n",
       "      <td>7.5</td>\n",
       "      <td>22.0</td>\n",
       "    </tr>\n",
       "    <tr>\n",
       "      <th>dx_cancer</th>\n",
       "      <td>858.0</td>\n",
       "      <td>0.020979</td>\n",
       "      <td>0.143398</td>\n",
       "      <td>0.0</td>\n",
       "      <td>0.0</td>\n",
       "      <td>0.0</td>\n",
       "      <td>0.0</td>\n",
       "      <td>1.0</td>\n",
       "    </tr>\n",
       "    <tr>\n",
       "      <th>dx_cin</th>\n",
       "      <td>858.0</td>\n",
       "      <td>0.01049</td>\n",
       "      <td>0.101939</td>\n",
       "      <td>0.0</td>\n",
       "      <td>0.0</td>\n",
       "      <td>0.0</td>\n",
       "      <td>0.0</td>\n",
       "      <td>1.0</td>\n",
       "    </tr>\n",
       "    <tr>\n",
       "      <th>dx_hpv</th>\n",
       "      <td>858.0</td>\n",
       "      <td>0.020979</td>\n",
       "      <td>0.143398</td>\n",
       "      <td>0.0</td>\n",
       "      <td>0.0</td>\n",
       "      <td>0.0</td>\n",
       "      <td>0.0</td>\n",
       "      <td>1.0</td>\n",
       "    </tr>\n",
       "    <tr>\n",
       "      <th>dx</th>\n",
       "      <td>858.0</td>\n",
       "      <td>0.027972</td>\n",
       "      <td>0.164989</td>\n",
       "      <td>0.0</td>\n",
       "      <td>0.0</td>\n",
       "      <td>0.0</td>\n",
       "      <td>0.0</td>\n",
       "      <td>1.0</td>\n",
       "    </tr>\n",
       "    <tr>\n",
       "      <th>hinselmann</th>\n",
       "      <td>858.0</td>\n",
       "      <td>0.040793</td>\n",
       "      <td>0.197925</td>\n",
       "      <td>0.0</td>\n",
       "      <td>0.0</td>\n",
       "      <td>0.0</td>\n",
       "      <td>0.0</td>\n",
       "      <td>1.0</td>\n",
       "    </tr>\n",
       "    <tr>\n",
       "      <th>schiller</th>\n",
       "      <td>858.0</td>\n",
       "      <td>0.086247</td>\n",
       "      <td>0.280892</td>\n",
       "      <td>0.0</td>\n",
       "      <td>0.0</td>\n",
       "      <td>0.0</td>\n",
       "      <td>0.0</td>\n",
       "      <td>1.0</td>\n",
       "    </tr>\n",
       "    <tr>\n",
       "      <th>citology</th>\n",
       "      <td>858.0</td>\n",
       "      <td>0.051282</td>\n",
       "      <td>0.220701</td>\n",
       "      <td>0.0</td>\n",
       "      <td>0.0</td>\n",
       "      <td>0.0</td>\n",
       "      <td>0.0</td>\n",
       "      <td>1.0</td>\n",
       "    </tr>\n",
       "    <tr>\n",
       "      <th>biopsy</th>\n",
       "      <td>858.0</td>\n",
       "      <td>0.064103</td>\n",
       "      <td>0.245078</td>\n",
       "      <td>0.0</td>\n",
       "      <td>0.0</td>\n",
       "      <td>0.0</td>\n",
       "      <td>0.0</td>\n",
       "      <td>1.0</td>\n",
       "    </tr>\n",
       "  </tbody>\n",
       "</table>\n",
       "</div>"
      ],
      "text/plain": [
       "                                    count       mean       std   min   25%  \\\n",
       "age                                 858.0  26.820513  8.497948  13.0  20.0   \n",
       "n_sexual_partners                   832.0   2.527644   1.66776   1.0   2.0   \n",
       "first_sexual_intercourse            851.0    16.9953  2.803355  10.0  15.0   \n",
       "n_pregnancies                       802.0   2.275561  1.447414   0.0   1.0   \n",
       "smokes                              845.0   0.145562  0.352876   0.0   0.0   \n",
       "smokes_years                        845.0   1.219721  4.089017   0.0   0.0   \n",
       "smokes_packs_year                   845.0   0.453144   2.22661   0.0   0.0   \n",
       "hormonal_bc                         750.0   0.641333  0.479929   0.0   0.0   \n",
       "hormonal_bc_years                   750.0   2.256419  3.764254   0.0   0.0   \n",
       "iud                                 741.0   0.112011  0.315593   0.0   0.0   \n",
       "iud_years                           741.0   0.514804  1.943089   0.0   0.0   \n",
       "stds                                753.0   0.104914  0.306646   0.0   0.0   \n",
       "stds_number                         753.0   0.176627  0.561993   0.0   0.0   \n",
       "stds_condylomatosis                 753.0   0.058433  0.234716   0.0   0.0   \n",
       "stds_cervical_condylomatosis        753.0        0.0       0.0   0.0   0.0   \n",
       "stds_vaginal_condylomatosis         753.0   0.005312  0.072739   0.0   0.0   \n",
       "stds_vulvo_perineal_condylomatosis  753.0   0.057105  0.232197   0.0   0.0   \n",
       "stds_syphilis                       753.0   0.023904  0.152853   0.0   0.0   \n",
       "stds_pelvic_inflammatory_disease    753.0   0.001328  0.036442   0.0   0.0   \n",
       "stds_genital_herpes                 753.0   0.001328  0.036442   0.0   0.0   \n",
       "stds_molluscum_contagiosum          753.0   0.001328  0.036442   0.0   0.0   \n",
       "stds_aids                           753.0        0.0       0.0   0.0   0.0   \n",
       "stds_hiv                            753.0   0.023904  0.152853   0.0   0.0   \n",
       "stds_hepatitis_b                    753.0   0.001328  0.036442   0.0   0.0   \n",
       "stds_hpv                            753.0   0.002656  0.051503   0.0   0.0   \n",
       "stds_n_diagnosis                    858.0   0.087413  0.302545   0.0   0.0   \n",
       "stds_time_since_first_diagnosis      71.0   6.140845  5.895024   1.0   2.0   \n",
       "stds_time_since_last_diagnosis       71.0   5.816901  5.755271   1.0   2.0   \n",
       "dx_cancer                           858.0   0.020979  0.143398   0.0   0.0   \n",
       "dx_cin                              858.0    0.01049  0.101939   0.0   0.0   \n",
       "dx_hpv                              858.0   0.020979  0.143398   0.0   0.0   \n",
       "dx                                  858.0   0.027972  0.164989   0.0   0.0   \n",
       "hinselmann                          858.0   0.040793  0.197925   0.0   0.0   \n",
       "schiller                            858.0   0.086247  0.280892   0.0   0.0   \n",
       "citology                            858.0   0.051282  0.220701   0.0   0.0   \n",
       "biopsy                              858.0   0.064103  0.245078   0.0   0.0   \n",
       "\n",
       "                                     50%   75%   max  \n",
       "age                                 25.0  32.0  84.0  \n",
       "n_sexual_partners                    2.0   3.0  28.0  \n",
       "first_sexual_intercourse            17.0  18.0  32.0  \n",
       "n_pregnancies                        2.0   3.0  11.0  \n",
       "smokes                               0.0   0.0   1.0  \n",
       "smokes_years                         0.0   0.0  37.0  \n",
       "smokes_packs_year                    0.0   0.0  37.0  \n",
       "hormonal_bc                          1.0   1.0   1.0  \n",
       "hormonal_bc_years                    0.5   3.0  30.0  \n",
       "iud                                  0.0   0.0   1.0  \n",
       "iud_years                            0.0   0.0  19.0  \n",
       "stds                                 0.0   0.0   1.0  \n",
       "stds_number                          0.0   0.0   4.0  \n",
       "stds_condylomatosis                  0.0   0.0   1.0  \n",
       "stds_cervical_condylomatosis         0.0   0.0   0.0  \n",
       "stds_vaginal_condylomatosis          0.0   0.0   1.0  \n",
       "stds_vulvo_perineal_condylomatosis   0.0   0.0   1.0  \n",
       "stds_syphilis                        0.0   0.0   1.0  \n",
       "stds_pelvic_inflammatory_disease     0.0   0.0   1.0  \n",
       "stds_genital_herpes                  0.0   0.0   1.0  \n",
       "stds_molluscum_contagiosum           0.0   0.0   1.0  \n",
       "stds_aids                            0.0   0.0   0.0  \n",
       "stds_hiv                             0.0   0.0   1.0  \n",
       "stds_hepatitis_b                     0.0   0.0   1.0  \n",
       "stds_hpv                             0.0   0.0   1.0  \n",
       "stds_n_diagnosis                     0.0   0.0   3.0  \n",
       "stds_time_since_first_diagnosis      4.0   8.0  22.0  \n",
       "stds_time_since_last_diagnosis       3.0   7.5  22.0  \n",
       "dx_cancer                            0.0   0.0   1.0  \n",
       "dx_cin                               0.0   0.0   1.0  \n",
       "dx_hpv                               0.0   0.0   1.0  \n",
       "dx                                   0.0   0.0   1.0  \n",
       "hinselmann                           0.0   0.0   1.0  \n",
       "schiller                             0.0   0.0   1.0  \n",
       "citology                             0.0   0.0   1.0  \n",
       "biopsy                               0.0   0.0   1.0  "
      ]
     },
     "execution_count": 9,
     "metadata": {},
     "output_type": "execute_result"
    }
   ],
   "source": [
    "df.describe().T"
   ]
  },
  {
   "cell_type": "code",
   "execution_count": 10,
   "metadata": {},
   "outputs": [
    {
     "data": {
      "text/plain": [
       "age                                   23012.000000\n",
       "n_sexual_partners                      2103.000000\n",
       "first_sexual_intercourse              14463.000000\n",
       "n_pregnancies                          1825.000000\n",
       "smokes                                  123.000000\n",
       "smokes_years                           1030.664594\n",
       "smokes_packs_year                       382.906638\n",
       "hormonal_bc                             481.000000\n",
       "hormonal_bc_years                      1692.314401\n",
       "iud                                      83.000000\n",
       "iud_years                               381.470000\n",
       "stds                                     79.000000\n",
       "stds_number                             133.000000\n",
       "stds_condylomatosis                      44.000000\n",
       "stds_cervical_condylomatosis              0.000000\n",
       "stds_vaginal_condylomatosis               4.000000\n",
       "stds_vulvo_perineal_condylomatosis       43.000000\n",
       "stds_syphilis                            18.000000\n",
       "stds_pelvic_inflammatory_disease          1.000000\n",
       "stds_genital_herpes                       1.000000\n",
       "stds_molluscum_contagiosum                1.000000\n",
       "stds_aids                                 0.000000\n",
       "stds_hiv                                 18.000000\n",
       "stds_hepatitis_b                          1.000000\n",
       "stds_hpv                                  2.000000\n",
       "stds_n_diagnosis                         75.000000\n",
       "stds_time_since_first_diagnosis         436.000000\n",
       "stds_time_since_last_diagnosis          413.000000\n",
       "dx_cancer                                18.000000\n",
       "dx_cin                                    9.000000\n",
       "dx_hpv                                   18.000000\n",
       "dx                                       24.000000\n",
       "hinselmann                               35.000000\n",
       "schiller                                 74.000000\n",
       "citology                                 44.000000\n",
       "biopsy                                   55.000000\n",
       "dtype: float64"
      ]
     },
     "execution_count": 10,
     "metadata": {},
     "output_type": "execute_result"
    }
   ],
   "source": [
    "df.sum(axis = 0)"
   ]
  },
  {
   "attachments": {},
   "cell_type": "markdown",
   "metadata": {},
   "source": [
    "## Iud/smoking/HBC years are always >0 if you have IUD/smoke/HBC."
   ]
  },
  {
   "cell_type": "code",
   "execution_count": 11,
   "metadata": {},
   "outputs": [],
   "source": [
    "def check_zerotrunc(df, bin_col, yr_col):\n",
    "    return np.any((df[bin_col] == 1) & (df[yr_col] == 0))"
   ]
  },
  {
   "cell_type": "code",
   "execution_count": 12,
   "metadata": {},
   "outputs": [
    {
     "name": "stdout",
     "output_type": "stream",
     "text": [
      "iud == 1 when iud_years == 0? False\n",
      "smokes == 1 when smokes_years == 0? False\n",
      "hormonal_bc == 1 when hormonal_bc_years == 0? False\n"
     ]
    }
   ],
   "source": [
    "bin_cols = [\"iud\", \"smokes\", \"hormonal_bc\"]\n",
    "yr_cols = [\"iud_years\", \"smokes_years\", \"hormonal_bc_years\"]\n",
    "\n",
    "for bin, yr in zip(bin_cols, yr_cols):\n",
    "    print(f\"{bin} == 1 when {yr} == 0?\", check_zerotrunc(df, bin, yr))"
   ]
  },
  {
   "attachments": {},
   "cell_type": "markdown",
   "metadata": {},
   "source": [
    "## Years variables are not strictly integers"
   ]
  },
  {
   "cell_type": "code",
   "execution_count": 13,
   "metadata": {},
   "outputs": [
    {
     "data": {
      "text/plain": [
       "age                                    True\n",
       "n_sexual_partners                      True\n",
       "first_sexual_intercourse               True\n",
       "n_pregnancies                          True\n",
       "smokes                                 True\n",
       "smokes_years                          False\n",
       "smokes_packs_year                     False\n",
       "hormonal_bc                            True\n",
       "hormonal_bc_years                     False\n",
       "iud                                    True\n",
       "iud_years                             False\n",
       "stds                                   True\n",
       "stds_number                            True\n",
       "stds_condylomatosis                    True\n",
       "stds_cervical_condylomatosis           True\n",
       "stds_vaginal_condylomatosis            True\n",
       "stds_vulvo_perineal_condylomatosis     True\n",
       "stds_syphilis                          True\n",
       "stds_pelvic_inflammatory_disease       True\n",
       "stds_genital_herpes                    True\n",
       "stds_molluscum_contagiosum             True\n",
       "stds_aids                              True\n",
       "stds_hiv                               True\n",
       "stds_hepatitis_b                       True\n",
       "stds_hpv                               True\n",
       "stds_n_diagnosis                       True\n",
       "stds_time_since_first_diagnosis        True\n",
       "stds_time_since_last_diagnosis         True\n",
       "dx_cancer                              True\n",
       "dx_cin                                 True\n",
       "dx_hpv                                 True\n",
       "dx                                     True\n",
       "hinselmann                             True\n",
       "schiller                               True\n",
       "citology                               True\n",
       "biopsy                                 True\n",
       "dtype: bool"
      ]
     },
     "execution_count": 13,
     "metadata": {},
     "output_type": "execute_result"
    }
   ],
   "source": [
    "df_mod = df % 1 == 0\n",
    "df_mod.all(axis = 0)"
   ]
  },
  {
   "attachments": {},
   "cell_type": "markdown",
   "metadata": {},
   "source": [
    "## Verify that the count of stds is linear combination of all std columns. "
   ]
  },
  {
   "cell_type": "code",
   "execution_count": 14,
   "metadata": {},
   "outputs": [
    {
     "data": {
      "text/plain": [
       "True"
      ]
     },
     "execution_count": 14,
     "metadata": {},
     "output_type": "execute_result"
    }
   ],
   "source": [
    "all((df[df.columns[df.columns.str.startswith(\"stds_\")]].drop([\"stds_time_since_first_diagnosis\", \"stds_time_since_last_diagnosis\", \"stds_n_diagnosis\", \"stds_number\"], axis = 1).sum(axis = 1) == df.stds_number).dropna())"
   ]
  },
  {
   "attachments": {},
   "cell_type": "markdown",
   "metadata": {},
   "source": [
    "## Verify that boolean `stds` column is always 1 if count `stds_number` column is non-zero"
   ]
  },
  {
   "cell_type": "code",
   "execution_count": 15,
   "metadata": {},
   "outputs": [
    {
     "data": {
      "text/plain": [
       "False"
      ]
     },
     "execution_count": 15,
     "metadata": {},
     "output_type": "execute_result"
    }
   ],
   "source": [
    "any((df.stds.dropna() == 0) & (df.stds_number.dropna() > 0))"
   ]
  },
  {
   "attachments": {},
   "cell_type": "markdown",
   "metadata": {},
   "source": [
    "## Drop time since std diagnoses"
   ]
  },
  {
   "cell_type": "code",
   "execution_count": 16,
   "metadata": {},
   "outputs": [],
   "source": [
    "df.drop(df.columns.values[df.columns.str.startswith(\"stds_time\")], axis = 1, inplace = True)"
   ]
  },
  {
   "attachments": {},
   "cell_type": "markdown",
   "metadata": {},
   "source": [
    "## Check for/drop constant/near-constant columns"
   ]
  },
  {
   "cell_type": "code",
   "execution_count": 17,
   "metadata": {},
   "outputs": [
    {
     "name": "stdout",
     "output_type": "stream",
     "text": [
      "Deleting constant columns: ['stds_cervical_condylomatosis' 'stds_aids']\n"
     ]
    }
   ],
   "source": [
    "const = df.nunique() == 1\n",
    "if any(const):\n",
    "    print(\"Deleting constant columns: {}\".format(df.columns.values[const]))\n",
    "    df.drop(df.columns.values[const], axis = 1, inplace = True)\n",
    "\n",
    "# near_const = df.sum(axis = 0) <= 18\n",
    "# if any(near_const): \n",
    "#     print(f\"\\nDeleting near-constant columns: {df.columns.values[near_const]}\")\n",
    "#     df.drop(df.columns.values[near_const], axis = 1, inplace = True)\n"
   ]
  },
  {
   "attachments": {},
   "cell_type": "markdown",
   "metadata": {},
   "source": [
    "## Combine low-proportion columns to avoid issues during cross validation\n",
    "\n",
    "* Because of the small sample size, dummy variables with low proportions (i.e., \"balance\") will sometimes end up with all positive (or negative) instances being in the training or test fold, which causes issues. So, I combine some std and previous diagnoses columns to avoid this."
   ]
  },
  {
   "cell_type": "code",
   "execution_count": 18,
   "metadata": {},
   "outputs": [
    {
     "data": {
      "text/plain": [
       "Index(['stds_number', 'stds_condylomatosis', 'stds_vaginal_condylomatosis',\n",
       "       'stds_vulvo_perineal_condylomatosis', 'stds_syphilis',\n",
       "       'stds_pelvic_inflammatory_disease', 'stds_genital_herpes',\n",
       "       'stds_molluscum_contagiosum', 'stds_hiv', 'stds_hepatitis_b',\n",
       "       'stds_hpv', 'stds_n_diagnosis'],\n",
       "      dtype='object')"
      ]
     },
     "execution_count": 18,
     "metadata": {},
     "output_type": "execute_result"
    }
   ],
   "source": [
    "df.columns[df.columns.str.contains(\"stds_\")]"
   ]
  },
  {
   "cell_type": "code",
   "execution_count": 19,
   "metadata": {},
   "outputs": [],
   "source": [
    "condy_mask = df.columns.str.contains(\"condy\")\n",
    "std_mask = (df.columns.str.startswith(\"stds_\")) & (~df.columns.str.startswith(\"stds_n\"))\n",
    "\n",
    "condy = df.columns[condy_mask]\n",
    "stds = df.columns[std_mask]\n",
    "not_condy = df.columns[(~condy_mask) & (std_mask)]"
   ]
  },
  {
   "cell_type": "code",
   "execution_count": 20,
   "metadata": {},
   "outputs": [],
   "source": [
    "stds_condy = df[condy].max(axis = 1)\n",
    "stds_other = df[not_condy].max(axis = 1)"
   ]
  },
  {
   "cell_type": "code",
   "execution_count": 21,
   "metadata": {},
   "outputs": [],
   "source": [
    "df = df.drop(stds, axis = 1)\n",
    "df = df.drop(\"stds\", axis = 1)\n",
    "df[\"stds_condy\"] = stds_condy\n",
    "df[\"stds_other\"] = stds_other"
   ]
  },
  {
   "cell_type": "code",
   "execution_count": 22,
   "metadata": {},
   "outputs": [],
   "source": [
    "dx_mask = df.columns.str.startswith(\"dx\")\n",
    "dx = df.columns[dx_mask]\n",
    "\n",
    "dx_any = df[dx].max(axis = 1)\n",
    "\n",
    "df = df.drop(dx, axis = 1)\n",
    "\n",
    "df[\"dx_any\"] = dx_any"
   ]
  },
  {
   "attachments": {},
   "cell_type": "markdown",
   "metadata": {},
   "source": [
    "## Drop n_diagnosis col"
   ]
  },
  {
   "cell_type": "code",
   "execution_count": 23,
   "metadata": {},
   "outputs": [],
   "source": [
    "df.drop([\"stds_n_diagnosis\"], axis = 1, inplace = True)"
   ]
  },
  {
   "attachments": {},
   "cell_type": "markdown",
   "metadata": {},
   "source": [
    "## Correlations"
   ]
  },
  {
   "cell_type": "code",
   "execution_count": 24,
   "metadata": {},
   "outputs": [
    {
     "data": {
      "text/plain": [
       "<Axes: >"
      ]
     },
     "execution_count": 24,
     "metadata": {},
     "output_type": "execute_result"
    },
    {
     "data": {
      "image/png": "[encoded data removed]",
      "text/plain": [
       "<Figure size 640x480 with 2 Axes>"
      ]
     },
     "metadata": {},
     "output_type": "display_data"
    }
   ],
   "source": [
    "corr = df.corr()\n",
    "cols = corr.columns\n",
    "\n",
    "sns.heatmap(\n",
    "    corr, \n",
    "    xticklabels = cols,\n",
    "    yticklabels = cols\n",
    ")"
   ]
  },
  {
   "cell_type": "code",
   "execution_count": 25,
   "metadata": {},
   "outputs": [
    {
     "data": {
      "image/png": "[encoded data removed]",
      "text/plain": [
       "<Figure size 640x480 with 6 Axes>"
      ]
     },
     "metadata": {},
     "output_type": "display_data"
    }
   ],
   "source": [
    "to_hist = [\"age\", \"n_sexual_partners\", \"first_sexual_intercourse\", \"n_pregnancies\", \"smokes_packs_year\", \"hormonal_bc_years\"]\n",
    "fig, axs = plt.subplots(nrows = 2, ncols = 3)\n",
    "plt.rcParams['figure.figsize'] = [15, 7]\n",
    "for ax, var in zip(axs.ravel(), to_hist): \n",
    "    df[var].plot.hist(bins = 15, ax = ax, title = var)"
   ]
  },
  {
   "cell_type": "code",
   "execution_count": 26,
   "metadata": {},
   "outputs": [
    {
     "data": {
      "text/html": [
       "<div>\n",
       "<style scoped>\n",
       "    .dataframe tbody tr th:only-of-type {\n",
       "        vertical-align: middle;\n",
       "    }\n",
       "\n",
       "    .dataframe tbody tr th {\n",
       "        vertical-align: top;\n",
       "    }\n",
       "\n",
       "    .dataframe thead th {\n",
       "        text-align: right;\n",
       "    }\n",
       "</style>\n",
       "<table border=\"1\" class=\"dataframe\">\n",
       "  <thead>\n",
       "    <tr style=\"text-align: right;\">\n",
       "      <th></th>\n",
       "      <th>count</th>\n",
       "      <th>mean</th>\n",
       "      <th>std</th>\n",
       "      <th>min</th>\n",
       "      <th>25%</th>\n",
       "      <th>50%</th>\n",
       "      <th>75%</th>\n",
       "      <th>max</th>\n",
       "    </tr>\n",
       "  </thead>\n",
       "  <tbody>\n",
       "    <tr>\n",
       "      <th>age</th>\n",
       "      <td>858.0</td>\n",
       "      <td>26.820513</td>\n",
       "      <td>8.497948</td>\n",
       "      <td>13.0</td>\n",
       "      <td>20.0</td>\n",
       "      <td>25.0</td>\n",
       "      <td>32.0</td>\n",
       "      <td>84.0</td>\n",
       "    </tr>\n",
       "    <tr>\n",
       "      <th>n_sexual_partners</th>\n",
       "      <td>832.0</td>\n",
       "      <td>2.527644</td>\n",
       "      <td>1.66776</td>\n",
       "      <td>1.0</td>\n",
       "      <td>2.0</td>\n",
       "      <td>2.0</td>\n",
       "      <td>3.0</td>\n",
       "      <td>28.0</td>\n",
       "    </tr>\n",
       "    <tr>\n",
       "      <th>first_sexual_intercourse</th>\n",
       "      <td>851.0</td>\n",
       "      <td>16.9953</td>\n",
       "      <td>2.803355</td>\n",
       "      <td>10.0</td>\n",
       "      <td>15.0</td>\n",
       "      <td>17.0</td>\n",
       "      <td>18.0</td>\n",
       "      <td>32.0</td>\n",
       "    </tr>\n",
       "    <tr>\n",
       "      <th>n_pregnancies</th>\n",
       "      <td>802.0</td>\n",
       "      <td>2.275561</td>\n",
       "      <td>1.447414</td>\n",
       "      <td>0.0</td>\n",
       "      <td>1.0</td>\n",
       "      <td>2.0</td>\n",
       "      <td>3.0</td>\n",
       "      <td>11.0</td>\n",
       "    </tr>\n",
       "    <tr>\n",
       "      <th>smokes</th>\n",
       "      <td>845.0</td>\n",
       "      <td>0.145562</td>\n",
       "      <td>0.352876</td>\n",
       "      <td>0.0</td>\n",
       "      <td>0.0</td>\n",
       "      <td>0.0</td>\n",
       "      <td>0.0</td>\n",
       "      <td>1.0</td>\n",
       "    </tr>\n",
       "    <tr>\n",
       "      <th>smokes_years</th>\n",
       "      <td>845.0</td>\n",
       "      <td>1.219721</td>\n",
       "      <td>4.089017</td>\n",
       "      <td>0.0</td>\n",
       "      <td>0.0</td>\n",
       "      <td>0.0</td>\n",
       "      <td>0.0</td>\n",
       "      <td>37.0</td>\n",
       "    </tr>\n",
       "    <tr>\n",
       "      <th>smokes_packs_year</th>\n",
       "      <td>845.0</td>\n",
       "      <td>0.453144</td>\n",
       "      <td>2.22661</td>\n",
       "      <td>0.0</td>\n",
       "      <td>0.0</td>\n",
       "      <td>0.0</td>\n",
       "      <td>0.0</td>\n",
       "      <td>37.0</td>\n",
       "    </tr>\n",
       "    <tr>\n",
       "      <th>hormonal_bc</th>\n",
       "      <td>750.0</td>\n",
       "      <td>0.641333</td>\n",
       "      <td>0.479929</td>\n",
       "      <td>0.0</td>\n",
       "      <td>0.0</td>\n",
       "      <td>1.0</td>\n",
       "      <td>1.0</td>\n",
       "      <td>1.0</td>\n",
       "    </tr>\n",
       "    <tr>\n",
       "      <th>hormonal_bc_years</th>\n",
       "      <td>750.0</td>\n",
       "      <td>2.256419</td>\n",
       "      <td>3.764254</td>\n",
       "      <td>0.0</td>\n",
       "      <td>0.0</td>\n",
       "      <td>0.5</td>\n",
       "      <td>3.0</td>\n",
       "      <td>30.0</td>\n",
       "    </tr>\n",
       "    <tr>\n",
       "      <th>iud</th>\n",
       "      <td>741.0</td>\n",
       "      <td>0.112011</td>\n",
       "      <td>0.315593</td>\n",
       "      <td>0.0</td>\n",
       "      <td>0.0</td>\n",
       "      <td>0.0</td>\n",
       "      <td>0.0</td>\n",
       "      <td>1.0</td>\n",
       "    </tr>\n",
       "    <tr>\n",
       "      <th>iud_years</th>\n",
       "      <td>741.0</td>\n",
       "      <td>0.514804</td>\n",
       "      <td>1.943089</td>\n",
       "      <td>0.0</td>\n",
       "      <td>0.0</td>\n",
       "      <td>0.0</td>\n",
       "      <td>0.0</td>\n",
       "      <td>19.0</td>\n",
       "    </tr>\n",
       "    <tr>\n",
       "      <th>stds_number</th>\n",
       "      <td>753.0</td>\n",
       "      <td>0.176627</td>\n",
       "      <td>0.561993</td>\n",
       "      <td>0.0</td>\n",
       "      <td>0.0</td>\n",
       "      <td>0.0</td>\n",
       "      <td>0.0</td>\n",
       "      <td>4.0</td>\n",
       "    </tr>\n",
       "    <tr>\n",
       "      <th>hinselmann</th>\n",
       "      <td>858.0</td>\n",
       "      <td>0.040793</td>\n",
       "      <td>0.197925</td>\n",
       "      <td>0.0</td>\n",
       "      <td>0.0</td>\n",
       "      <td>0.0</td>\n",
       "      <td>0.0</td>\n",
       "      <td>1.0</td>\n",
       "    </tr>\n",
       "    <tr>\n",
       "      <th>schiller</th>\n",
       "      <td>858.0</td>\n",
       "      <td>0.086247</td>\n",
       "      <td>0.280892</td>\n",
       "      <td>0.0</td>\n",
       "      <td>0.0</td>\n",
       "      <td>0.0</td>\n",
       "      <td>0.0</td>\n",
       "      <td>1.0</td>\n",
       "    </tr>\n",
       "    <tr>\n",
       "      <th>citology</th>\n",
       "      <td>858.0</td>\n",
       "      <td>0.051282</td>\n",
       "      <td>0.220701</td>\n",
       "      <td>0.0</td>\n",
       "      <td>0.0</td>\n",
       "      <td>0.0</td>\n",
       "      <td>0.0</td>\n",
       "      <td>1.0</td>\n",
       "    </tr>\n",
       "    <tr>\n",
       "      <th>biopsy</th>\n",
       "      <td>858.0</td>\n",
       "      <td>0.064103</td>\n",
       "      <td>0.245078</td>\n",
       "      <td>0.0</td>\n",
       "      <td>0.0</td>\n",
       "      <td>0.0</td>\n",
       "      <td>0.0</td>\n",
       "      <td>1.0</td>\n",
       "    </tr>\n",
       "    <tr>\n",
       "      <th>stds_condy</th>\n",
       "      <td>753.0</td>\n",
       "      <td>0.058433</td>\n",
       "      <td>0.234716</td>\n",
       "      <td>0.0</td>\n",
       "      <td>0.0</td>\n",
       "      <td>0.0</td>\n",
       "      <td>0.0</td>\n",
       "      <td>1.0</td>\n",
       "    </tr>\n",
       "    <tr>\n",
       "      <th>stds_other</th>\n",
       "      <td>753.0</td>\n",
       "      <td>0.053121</td>\n",
       "      <td>0.224424</td>\n",
       "      <td>0.0</td>\n",
       "      <td>0.0</td>\n",
       "      <td>0.0</td>\n",
       "      <td>0.0</td>\n",
       "      <td>1.0</td>\n",
       "    </tr>\n",
       "    <tr>\n",
       "      <th>dx_any</th>\n",
       "      <td>858.0</td>\n",
       "      <td>0.0338</td>\n",
       "      <td>0.180818</td>\n",
       "      <td>0.0</td>\n",
       "      <td>0.0</td>\n",
       "      <td>0.0</td>\n",
       "      <td>0.0</td>\n",
       "      <td>1.0</td>\n",
       "    </tr>\n",
       "  </tbody>\n",
       "</table>\n",
       "</div>"
      ],
      "text/plain": [
       "                          count       mean       std   min   25%   50%   75%  \\\n",
       "age                       858.0  26.820513  8.497948  13.0  20.0  25.0  32.0   \n",
       "n_sexual_partners         832.0   2.527644   1.66776   1.0   2.0   2.0   3.0   \n",
       "first_sexual_intercourse  851.0    16.9953  2.803355  10.0  15.0  17.0  18.0   \n",
       "n_pregnancies             802.0   2.275561  1.447414   0.0   1.0   2.0   3.0   \n",
       "smokes                    845.0   0.145562  0.352876   0.0   0.0   0.0   0.0   \n",
       "smokes_years              845.0   1.219721  4.089017   0.0   0.0   0.0   0.0   \n",
       "smokes_packs_year         845.0   0.453144   2.22661   0.0   0.0   0.0   0.0   \n",
       "hormonal_bc               750.0   0.641333  0.479929   0.0   0.0   1.0   1.0   \n",
       "hormonal_bc_years         750.0   2.256419  3.764254   0.0   0.0   0.5   3.0   \n",
       "iud                       741.0   0.112011  0.315593   0.0   0.0   0.0   0.0   \n",
       "iud_years                 741.0   0.514804  1.943089   0.0   0.0   0.0   0.0   \n",
       "stds_number               753.0   0.176627  0.561993   0.0   0.0   0.0   0.0   \n",
       "hinselmann                858.0   0.040793  0.197925   0.0   0.0   0.0   0.0   \n",
       "schiller                  858.0   0.086247  0.280892   0.0   0.0   0.0   0.0   \n",
       "citology                  858.0   0.051282  0.220701   0.0   0.0   0.0   0.0   \n",
       "biopsy                    858.0   0.064103  0.245078   0.0   0.0   0.0   0.0   \n",
       "stds_condy                753.0   0.058433  0.234716   0.0   0.0   0.0   0.0   \n",
       "stds_other                753.0   0.053121  0.224424   0.0   0.0   0.0   0.0   \n",
       "dx_any                    858.0     0.0338  0.180818   0.0   0.0   0.0   0.0   \n",
       "\n",
       "                           max  \n",
       "age                       84.0  \n",
       "n_sexual_partners         28.0  \n",
       "first_sexual_intercourse  32.0  \n",
       "n_pregnancies             11.0  \n",
       "smokes                     1.0  \n",
       "smokes_years              37.0  \n",
       "smokes_packs_year         37.0  \n",
       "hormonal_bc                1.0  \n",
       "hormonal_bc_years         30.0  \n",
       "iud                        1.0  \n",
       "iud_years                 19.0  \n",
       "stds_number                4.0  \n",
       "hinselmann                 1.0  \n",
       "schiller                   1.0  \n",
       "citology                   1.0  \n",
       "biopsy                     1.0  \n",
       "stds_condy                 1.0  \n",
       "stds_other                 1.0  \n",
       "dx_any                     1.0  "
      ]
     },
     "execution_count": 26,
     "metadata": {},
     "output_type": "execute_result"
    }
   ],
   "source": [
    "df.describe().T"
   ]
  },
  {
   "attachments": {},
   "cell_type": "markdown",
   "metadata": {},
   "source": [
    "# Modeling"
   ]
  },
  {
   "cell_type": "code",
   "execution_count": 27,
   "metadata": {},
   "outputs": [],
   "source": [
    "x = df.drop([\"smokes\", \"hormonal_bc\", \"iud\", \"schiller\", \"biopsy\", \"hinselmann\"], axis = 1)\n",
    "x[\"n_stds\"] = x[\"stds_number\"]\n",
    "x.drop(\"stds_number\", axis = 1, inplace = True)\n",
    "y = df[[\"biopsy\"]].astype(\"int64\")"
   ]
  },
  {
   "attachments": {},
   "cell_type": "markdown",
   "metadata": {},
   "source": [
    "## Have to have cat/float/int dtypes for lgbm"
   ]
  },
  {
   "cell_type": "code",
   "execution_count": 28,
   "metadata": {},
   "outputs": [
    {
     "data": {
      "text/plain": [
       "age                         float64\n",
       "n_sexual_partners           float64\n",
       "first_sexual_intercourse    float64\n",
       "n_pregnancies               float64\n",
       "smokes_years                float64\n",
       "smokes_packs_year           float64\n",
       "hormonal_bc_years           float64\n",
       "iud_years                   float64\n",
       "citology                    float64\n",
       "stds_condy                  float64\n",
       "stds_other                  float64\n",
       "dx_any                      float64\n",
       "n_stds                      float64\n",
       "dtype: object"
      ]
     },
     "execution_count": 28,
     "metadata": {},
     "output_type": "execute_result"
    }
   ],
   "source": [
    "x[x.select_dtypes(include=['Int64', 'Float64']).columns.values] = x.select_dtypes(include=['Int64', 'Float64']).astype('float')\n",
    "x.dtypes"
   ]
  },
  {
   "attachments": {},
   "cell_type": "markdown",
   "metadata": {},
   "source": [
    "## Instantiate base classifier"
   ]
  },
  {
   "cell_type": "code",
   "execution_count": 29,
   "metadata": {},
   "outputs": [],
   "source": [
    "clf = LGBMClassifier(objective = \"binary\", is_unbalance = True)"
   ]
  },
  {
   "attachments": {},
   "cell_type": "markdown",
   "metadata": {},
   "source": [
    "## Set some useful fixed parameters for each variable"
   ]
  },
  {
   "cell_type": "code",
   "execution_count": 30,
   "metadata": {},
   "outputs": [],
   "source": [
    "template = {\n",
    "    \"objective\" : \"regression\"\n",
    "}\n",
    "\n",
    "varparms = {}\n",
    "\n",
    "keys = x.columns.values[x.isna().any()] \n",
    "\n",
    "for i in keys: \n",
    "\n",
    "    varparms[i] = template.copy()\n",
    "\n",
    "    if \"stds_\" in i: \n",
    "        varparms[i][\"objective\"] = \"binary\"\n",
    "        varparms[i][\"is_unbalance\"] = True\n",
    "\n",
    "    if (x[i].nunique() > 2) & (np.all(x[i].dropna() % 1 == 0)):\n",
    "        varparms[i][\"objective\"] = \"poisson\""
   ]
  },
  {
   "cell_type": "code",
   "execution_count": 31,
   "metadata": {},
   "outputs": [
    {
     "data": {
      "text/plain": [
       "{'n_sexual_partners': {'objective': 'poisson'},\n",
       " 'first_sexual_intercourse': {'objective': 'poisson'},\n",
       " 'n_pregnancies': {'objective': 'poisson'},\n",
       " 'smokes_years': {'objective': 'regression'},\n",
       " 'smokes_packs_year': {'objective': 'regression'},\n",
       " 'hormonal_bc_years': {'objective': 'regression'},\n",
       " 'iud_years': {'objective': 'regression'},\n",
       " 'stds_condy': {'objective': 'binary', 'is_unbalance': True},\n",
       " 'stds_other': {'objective': 'binary', 'is_unbalance': True},\n",
       " 'n_stds': {'objective': 'poisson'}}"
      ]
     },
     "execution_count": 31,
     "metadata": {},
     "output_type": "execute_result"
    }
   ],
   "source": [
    "varparms"
   ]
  },
  {
   "attachments": {},
   "cell_type": "markdown",
   "metadata": {},
   "source": [
    "## Set predictive mean matching scheme for imputer"
   ]
  },
  {
   "cell_type": "code",
   "execution_count": 32,
   "metadata": {},
   "outputs": [],
   "source": [
    "mean_match = mean_match_default.copy()\n",
    "mean_match.set_mean_match_candidates(5)"
   ]
  },
  {
   "attachments": {},
   "cell_type": "markdown",
   "metadata": {},
   "source": [
    "## Setup pipeline components, instantiate pipe\n",
    "\n",
    "* Impute missing values, tuning either constant imputation (`simple_union`) or mice imputation (`mice_union`)\n",
    "* Add a single missingness variable for the sexual history related variables, as this constitutes the bulk of the missingness.\n",
    "* Scale everything\n",
    "* Apply PCA to std columns \n",
    "* Train/tune LGBM classifier"
   ]
  },
  {
   "cell_type": "code",
   "execution_count": 33,
   "metadata": {},
   "outputs": [
    {
     "name": "stdout",
     "output_type": "stream",
     "text": [
      "[ 9 10]\n"
     ]
    }
   ],
   "source": [
    "simple_union = FeatureUnion(\n",
    "    transformer_list=[\n",
    "         ('features', SimpleImputer(strategy='median')),\n",
    "         ('indicator', missing_transformer())\n",
    "         ]\n",
    ")\n",
    "\n",
    "mice_union = FeatureUnion(\n",
    "    transformer_list=[\n",
    "         ('features', mice_imputer(mean_match_scheme = mean_match, mice_iterations = 15, variable_parameters = varparms)),\n",
    "         ('indicator', missing_transformer())]\n",
    ")\n",
    "\n",
    "std_cols = np.where(x.columns.str.startswith(\"stds\"))[0]\n",
    "print(std_cols)\n"
   ]
  },
  {
   "cell_type": "code",
   "execution_count": 34,
   "metadata": {},
   "outputs": [],
   "source": [
    "#cachedir = mkdtemp()\n",
    "#memory = Memory(location=cachedir, verbose=0)\n",
    "pipe = Pipeline(\n",
    "    #memory = memory,\n",
    "    steps = [\n",
    "        (\"imputer\", simple_union),\n",
    "        (\"classifier\", clf)\n",
    "    ]\n",
    ")"
   ]
  },
  {
   "attachments": {},
   "cell_type": "markdown",
   "metadata": {},
   "source": [
    "## (Some) Marginal distributions for random search"
   ]
  },
  {
   "cell_type": "code",
   "execution_count": 35,
   "metadata": {},
   "outputs": [],
   "source": [
    "plt.rcParams['figure.figsize'] = [5, 5]"
   ]
  },
  {
   "cell_type": "code",
   "execution_count": 36,
   "metadata": {},
   "outputs": [
    {
     "data": {
      "image/png": "[encoded data removed]",
      "text/plain": [
       "<Figure size 500x500 with 1 Axes>"
      ]
     },
     "metadata": {},
     "output_type": "display_data"
    }
   ],
   "source": [
    "n = 3\n",
    "p = .0075\n",
    "xl = np.floor(np.linspace(0, 1250, 1250))\n",
    "fig, ax = plt.subplots()\n",
    "\n",
    "nb = ax.bar(\n",
    "    xl, \n",
    "    stats.nbinom.pmf(xl, n = n, p = p, loc = 1)\n",
    ")\n",
    "ax.set_title(f\"N Estimators Distribution [nbinom(p = {p}, n = {n})]\")\n",
    "ax.set_ylabel(\"Probability Mass\")\n",
    "ax.set_xlabel(\"N Estimators\")\n",
    "plt.show()"
   ]
  },
  {
   "cell_type": "code",
   "execution_count": 37,
   "metadata": {},
   "outputs": [
    {
     "data": {
      "text/html": [
       "<div>\n",
       "<style scoped>\n",
       "    .dataframe tbody tr th:only-of-type {\n",
       "        vertical-align: middle;\n",
       "    }\n",
       "\n",
       "    .dataframe tbody tr th {\n",
       "        vertical-align: top;\n",
       "    }\n",
       "\n",
       "    .dataframe thead th {\n",
       "        text-align: right;\n",
       "    }\n",
       "</style>\n",
       "<table border=\"1\" class=\"dataframe\">\n",
       "  <thead>\n",
       "    <tr style=\"text-align: right;\">\n",
       "      <th></th>\n",
       "      <th>0.01</th>\n",
       "      <th>0.1</th>\n",
       "      <th>0.25</th>\n",
       "      <th>0.5</th>\n",
       "      <th>0.75</th>\n",
       "      <th>0.9</th>\n",
       "      <th>0.99</th>\n",
       "      <th>mean</th>\n",
       "      <th>std</th>\n",
       "    </tr>\n",
       "  </thead>\n",
       "  <tbody>\n",
       "    <tr>\n",
       "      <th>value</th>\n",
       "      <td>56.0</td>\n",
       "      <td>145.0</td>\n",
       "      <td>228.0</td>\n",
       "      <td>354.0</td>\n",
       "      <td>519.0</td>\n",
       "      <td>705.0</td>\n",
       "      <td>1115.0</td>\n",
       "      <td>397.0</td>\n",
       "      <td>230.072452</td>\n",
       "    </tr>\n",
       "  </tbody>\n",
       "</table>\n",
       "</div>"
      ],
      "text/plain": [
       "       0.01    0.1   0.25    0.5   0.75    0.9    0.99   mean         std\n",
       "value  56.0  145.0  228.0  354.0  519.0  705.0  1115.0  397.0  230.072452"
      ]
     },
     "execution_count": 37,
     "metadata": {},
     "output_type": "execute_result"
    }
   ],
   "source": [
    "mn = n*(1-p)/p\n",
    "st = np.sqrt(mn*p**-1)\n",
    "ps = [.01, .1, .25, .5, .75, .9, .99]\n",
    "qs = stats.nbinom.ppf(ps, n = n, p = p)\n",
    "qs = {str(p) : q for p,q in zip(ps, qs)}\n",
    "qs[\"mean\"] = mn \n",
    "qs[\"std\"] = st \n",
    "pd.DataFrame(qs, index = [\"value\"])"
   ]
  },
  {
   "cell_type": "code",
   "execution_count": 38,
   "metadata": {},
   "outputs": [
    {
     "data": {
      "image/png": "[encoded data removed]",
      "text/plain": [
       "<Figure size 500x500 with 1 Axes>"
      ]
     },
     "metadata": {},
     "output_type": "display_data"
    }
   ],
   "source": [
    "scale = .3\n",
    "xl = np.linspace(0, 1, 1000)\n",
    "fig, ax = plt.subplots()\n",
    "\n",
    "ex = ax.plot(\n",
    "    xl, \n",
    "    stats.expon.pdf(xl, scale = scale)\n",
    ")\n",
    "ax.set_title(f\"Learning Rate Distribution [expon(scale = {scale})]\")\n",
    "ax.set_ylabel(\"Probability Density\")\n",
    "ax.set_xlabel(\"Learning Rate\")\n",
    "plt.show()"
   ]
  },
  {
   "cell_type": "code",
   "execution_count": 39,
   "metadata": {},
   "outputs": [
    {
     "data": {
      "text/html": [
       "<div>\n",
       "<style scoped>\n",
       "    .dataframe tbody tr th:only-of-type {\n",
       "        vertical-align: middle;\n",
       "    }\n",
       "\n",
       "    .dataframe tbody tr th {\n",
       "        vertical-align: top;\n",
       "    }\n",
       "\n",
       "    .dataframe thead th {\n",
       "        text-align: right;\n",
       "    }\n",
       "</style>\n",
       "<table border=\"1\" class=\"dataframe\">\n",
       "  <thead>\n",
       "    <tr style=\"text-align: right;\">\n",
       "      <th></th>\n",
       "      <th>0.01</th>\n",
       "      <th>0.1</th>\n",
       "      <th>0.25</th>\n",
       "      <th>0.5</th>\n",
       "      <th>0.75</th>\n",
       "      <th>0.9</th>\n",
       "      <th>0.99</th>\n",
       "      <th>mean</th>\n",
       "      <th>std</th>\n",
       "    </tr>\n",
       "  </thead>\n",
       "  <tbody>\n",
       "    <tr>\n",
       "      <th>value</th>\n",
       "      <td>0.003015</td>\n",
       "      <td>0.031608</td>\n",
       "      <td>0.086305</td>\n",
       "      <td>0.207944</td>\n",
       "      <td>0.415888</td>\n",
       "      <td>0.690776</td>\n",
       "      <td>1.381551</td>\n",
       "      <td>0.3</td>\n",
       "      <td>0.3</td>\n",
       "    </tr>\n",
       "  </tbody>\n",
       "</table>\n",
       "</div>"
      ],
      "text/plain": [
       "           0.01       0.1      0.25       0.5      0.75       0.9      0.99  \\\n",
       "value  0.003015  0.031608  0.086305  0.207944  0.415888  0.690776  1.381551   \n",
       "\n",
       "       mean  std  \n",
       "value   0.3  0.3  "
      ]
     },
     "execution_count": 39,
     "metadata": {},
     "output_type": "execute_result"
    }
   ],
   "source": [
    "mn = scale\n",
    "st = scale\n",
    "ps = [.01, .1, .25, .5, .75, .9, .99]\n",
    "qs = stats.expon.ppf(ps, scale = scale)\n",
    "qs = {str(p) : q for p,q in zip(ps, qs)}\n",
    "qs[\"mean\"] = mn \n",
    "qs[\"std\"] = st \n",
    "pd.DataFrame(qs, index = [\"value\"])"
   ]
  },
  {
   "attachments": {},
   "cell_type": "markdown",
   "metadata": {},
   "source": [
    "## Define random search grid"
   ]
  },
  {
   "cell_type": "code",
   "execution_count": 40,
   "metadata": {},
   "outputs": [],
   "source": [
    "lr_dist = stats.expon(scale = scale)\n",
    "ne_dist = stats.nbinom(n = n, p = p, loc = 1)\n",
    "nl_dist = stats.randint(2, 51)\n",
    "md_dist = stats.randint(1, 10)\n",
    "pc_dist = stats.randint(1, 2)\n",
    "mc_dist = stats.randint(15, 75)\n",
    "\n",
    "base_grid = {\n",
    "    \"classifier__n_estimators\" : ne_dist,\n",
    "    \"classifier__num_leaves\" : nl_dist,\n",
    "    \"classifier__max_depth\" : md_dist,\n",
    "    \"classifier__learning_rate\" : lr_dist,\n",
    "    \"classifier__min_child_samples\" : mc_dist\n",
    "}\n",
    "\n",
    "grid = [\n",
    "    {\n",
    "        \"imputer\" : [simple_union],\n",
    "        \"imputer__features__strategy\" : [\"median\"],\n",
    "        **base_grid\n",
    "    },\n",
    "    {\n",
    "        \"imputer\" : [mice_union],\n",
    "        \"imputer__features__lgb_iterations\" : ne_dist,\n",
    "        \"imputer__features__lgb_learning_rate\" : lr_dist,\n",
    "        \"imputer__features__lgb_max_depth\" : md_dist,\n",
    "        \"imputer__features__lgb_num_leaves\" : nl_dist,\n",
    "        **base_grid\n",
    "    }\n",
    "]"
   ]
  },
  {
   "attachments": {},
   "cell_type": "markdown",
   "metadata": {},
   "source": [
    "## Setup nested CV folds, flush RAM"
   ]
  },
  {
   "cell_type": "code",
   "execution_count": 41,
   "metadata": {},
   "outputs": [],
   "source": [
    "inner_cv = StratifiedKFold(n_splits=5, random_state=874841, shuffle = True)\n",
    "outer_cv = RepeatedStratifiedKFold(n_splits=5, n_repeats=5, random_state=878571)"
   ]
  },
  {
   "cell_type": "code",
   "execution_count": 42,
   "metadata": {},
   "outputs": [
    {
     "data": {
      "text/plain": [
       "30"
      ]
     },
     "execution_count": 42,
     "metadata": {},
     "output_type": "execute_result"
    }
   ],
   "source": [
    "gc.collect()"
   ]
  },
  {
   "attachments": {},
   "cell_type": "markdown",
   "metadata": {},
   "source": [
    "## Fit model, cleanup, and save"
   ]
  },
  {
   "cell_type": "code",
   "execution_count": 43,
   "metadata": {},
   "outputs": [
    {
     "name": "stdout",
     "output_type": "stream",
     "text": [
      "['age' 'n_sexual_partners' 'first_sexual_intercourse' 'n_pregnancies'\n",
      " 'smokes_years' 'smokes_packs_year' 'hormonal_bc_years' 'iud_years'\n",
      " 'citology' 'stds_condy' 'stds_other' 'dx_any' 'n_stds']\n"
     ]
    },
    {
     "data": {
      "text/plain": [
       "array([ 9, 10])"
      ]
     },
     "execution_count": 43,
     "metadata": {},
     "output_type": "execute_result"
    }
   ],
   "source": [
    "print(x.columns.values)\n",
    "std_cols"
   ]
  },
  {
   "cell_type": "code",
   "execution_count": 44,
   "metadata": {},
   "outputs": [
    {
     "data": {
      "text/plain": [
       "(858, 13)"
      ]
     },
     "execution_count": 44,
     "metadata": {},
     "output_type": "execute_result"
    }
   ],
   "source": [
    "x.shape"
   ]
  },
  {
   "cell_type": "code",
   "execution_count": 45,
   "metadata": {},
   "outputs": [],
   "source": [
    "inner_cv = StratifiedKFold(n_splits=5, random_state=874841, shuffle = True)\n",
    "outer_cv = RepeatedStratifiedKFold(n_splits=5, n_repeats=5, random_state=878571)"
   ]
  },
  {
   "cell_type": "code",
   "execution_count": 46,
   "metadata": {},
   "outputs": [
    {
     "data": {
      "text/plain": [
       "0"
      ]
     },
     "execution_count": 46,
     "metadata": {},
     "output_type": "execute_result"
    }
   ],
   "source": [
    "gc.collect()"
   ]
  },
  {
   "cell_type": "code",
   "execution_count": 47,
   "metadata": {},
   "outputs": [
    {
     "name": "stdout",
     "output_type": "stream",
     "text": [
      "['age' 'n_sexual_partners' 'first_sexual_intercourse' 'n_pregnancies'\n",
      " 'smokes_years' 'smokes_packs_year' 'hormonal_bc_years' 'iud_years'\n",
      " 'citology' 'stds_condy' 'stds_other' 'dx_any' 'n_stds']\n"
     ]
    },
    {
     "data": {
      "text/plain": [
       "array([ 9, 10])"
      ]
     },
     "execution_count": 47,
     "metadata": {},
     "output_type": "execute_result"
    }
   ],
   "source": [
    "print(x.columns.values)\n",
    "std_cols"
   ]
  },
  {
   "cell_type": "code",
   "execution_count": 48,
   "metadata": {},
   "outputs": [],
   "source": [
    "f_scorer = make_scorer(fbeta_score, beta = 2)\n",
    "\n",
    "rcv = RandomizedSearchCV(\n",
    "    estimator = pipe,\n",
    "    param_distributions = grid, \n",
    "    scoring = f_scorer,\n",
    "    refit = True, \n",
    "    cv = inner_cv,\n",
    "    return_train_score = True,\n",
    "    n_jobs = 1,\n",
    "    n_iter = 500,\n",
    "    random_state = 97417\n",
    ")\n",
    "\n",
    "# res = cross_validate(\n",
    "#     rcv, \n",
    "#     X = x, \n",
    "#     y = y.values.flatten(), \n",
    "#     cv = outer_cv, \n",
    "#     return_estimator = True, \n",
    "#     scoring = [\"average_precision\", \"balanced_accuracy\", \"f1\", \"precision\", \"recall\"],\n",
    "#     n_jobs = -1,\n",
    "#     verbose = 999\n",
    "# )"
   ]
  },
  {
   "cell_type": "code",
   "execution_count": 49,
   "metadata": {},
   "outputs": [
    {
     "data": {
      "text/html": [
       "<div>\n",
       "<style scoped>\n",
       "    .dataframe tbody tr th:only-of-type {\n",
       "        vertical-align: middle;\n",
       "    }\n",
       "\n",
       "    .dataframe tbody tr th {\n",
       "        vertical-align: top;\n",
       "    }\n",
       "\n",
       "    .dataframe thead th {\n",
       "        text-align: right;\n",
       "    }\n",
       "</style>\n",
       "<table border=\"1\" class=\"dataframe\">\n",
       "  <thead>\n",
       "    <tr style=\"text-align: right;\">\n",
       "      <th></th>\n",
       "      <th>age</th>\n",
       "      <th>n_sexual_partners</th>\n",
       "      <th>first_sexual_intercourse</th>\n",
       "      <th>n_pregnancies</th>\n",
       "      <th>smokes_years</th>\n",
       "      <th>smokes_packs_year</th>\n",
       "      <th>hormonal_bc_years</th>\n",
       "      <th>iud_years</th>\n",
       "      <th>citology</th>\n",
       "      <th>stds_condy</th>\n",
       "      <th>stds_other</th>\n",
       "      <th>dx_any</th>\n",
       "      <th>n_stds</th>\n",
       "    </tr>\n",
       "  </thead>\n",
       "  <tbody>\n",
       "    <tr>\n",
       "      <th>0</th>\n",
       "      <td>18.0</td>\n",
       "      <td>4.0</td>\n",
       "      <td>15.0</td>\n",
       "      <td>1.0</td>\n",
       "      <td>0.0</td>\n",
       "      <td>0.0</td>\n",
       "      <td>0.0</td>\n",
       "      <td>0.0</td>\n",
       "      <td>0.0</td>\n",
       "      <td>0.0</td>\n",
       "      <td>0.0</td>\n",
       "      <td>0.0</td>\n",
       "      <td>0.0</td>\n",
       "    </tr>\n",
       "    <tr>\n",
       "      <th>1</th>\n",
       "      <td>15.0</td>\n",
       "      <td>1.0</td>\n",
       "      <td>14.0</td>\n",
       "      <td>1.0</td>\n",
       "      <td>0.0</td>\n",
       "      <td>0.0</td>\n",
       "      <td>0.0</td>\n",
       "      <td>0.0</td>\n",
       "      <td>0.0</td>\n",
       "      <td>0.0</td>\n",
       "      <td>0.0</td>\n",
       "      <td>0.0</td>\n",
       "      <td>0.0</td>\n",
       "    </tr>\n",
       "    <tr>\n",
       "      <th>2</th>\n",
       "      <td>34.0</td>\n",
       "      <td>1.0</td>\n",
       "      <td>NaN</td>\n",
       "      <td>1.0</td>\n",
       "      <td>0.0</td>\n",
       "      <td>0.0</td>\n",
       "      <td>0.0</td>\n",
       "      <td>0.0</td>\n",
       "      <td>0.0</td>\n",
       "      <td>0.0</td>\n",
       "      <td>0.0</td>\n",
       "      <td>0.0</td>\n",
       "      <td>0.0</td>\n",
       "    </tr>\n",
       "    <tr>\n",
       "      <th>3</th>\n",
       "      <td>52.0</td>\n",
       "      <td>5.0</td>\n",
       "      <td>16.0</td>\n",
       "      <td>4.0</td>\n",
       "      <td>37.0</td>\n",
       "      <td>37.0</td>\n",
       "      <td>3.0</td>\n",
       "      <td>0.0</td>\n",
       "      <td>0.0</td>\n",
       "      <td>0.0</td>\n",
       "      <td>0.0</td>\n",
       "      <td>1.0</td>\n",
       "      <td>0.0</td>\n",
       "    </tr>\n",
       "    <tr>\n",
       "      <th>4</th>\n",
       "      <td>46.0</td>\n",
       "      <td>3.0</td>\n",
       "      <td>21.0</td>\n",
       "      <td>4.0</td>\n",
       "      <td>0.0</td>\n",
       "      <td>0.0</td>\n",
       "      <td>15.0</td>\n",
       "      <td>0.0</td>\n",
       "      <td>0.0</td>\n",
       "      <td>0.0</td>\n",
       "      <td>0.0</td>\n",
       "      <td>0.0</td>\n",
       "      <td>0.0</td>\n",
       "    </tr>\n",
       "  </tbody>\n",
       "</table>\n",
       "</div>"
      ],
      "text/plain": [
       "    age  n_sexual_partners  first_sexual_intercourse  n_pregnancies  \\\n",
       "0  18.0                4.0                      15.0            1.0   \n",
       "1  15.0                1.0                      14.0            1.0   \n",
       "2  34.0                1.0                       NaN            1.0   \n",
       "3  52.0                5.0                      16.0            4.0   \n",
       "4  46.0                3.0                      21.0            4.0   \n",
       "\n",
       "   smokes_years  smokes_packs_year  hormonal_bc_years  iud_years  citology  \\\n",
       "0           0.0                0.0                0.0        0.0       0.0   \n",
       "1           0.0                0.0                0.0        0.0       0.0   \n",
       "2           0.0                0.0                0.0        0.0       0.0   \n",
       "3          37.0               37.0                3.0        0.0       0.0   \n",
       "4           0.0                0.0               15.0        0.0       0.0   \n",
       "\n",
       "   stds_condy  stds_other  dx_any  n_stds  \n",
       "0         0.0         0.0     0.0     0.0  \n",
       "1         0.0         0.0     0.0     0.0  \n",
       "2         0.0         0.0     0.0     0.0  \n",
       "3         0.0         0.0     1.0     0.0  \n",
       "4         0.0         0.0     0.0     0.0  "
      ]
     },
     "execution_count": 49,
     "metadata": {},
     "output_type": "execute_result"
    }
   ],
   "source": [
    "x.head()"
   ]
  },
  {
   "cell_type": "code",
   "execution_count": 50,
   "metadata": {},
   "outputs": [
    {
     "name": "stdout",
     "output_type": "stream",
     "text": [
      "No cache to remove.\n"
     ]
    },
    {
     "data": {
      "text/plain": [
       "0"
      ]
     },
     "execution_count": 50,
     "metadata": {},
     "output_type": "execute_result"
    }
   ],
   "source": [
    "try:\n",
    "    rmtree(cachedir)\n",
    "except:\n",
    "    print(\"No cache to remove.\") \n",
    "\n",
    "gc.collect()"
   ]
  },
  {
   "cell_type": "code",
   "execution_count": 51,
   "metadata": {},
   "outputs": [],
   "source": [
    "def save_obj(obj, filename):\n",
    "    with open(filename, 'wb') as outp:  # Overwrites any existing file.\n",
    "        pickle.dump(obj, outp, pickle.HIGHEST_PROTOCOL)"
   ]
  },
  {
   "cell_type": "code",
   "execution_count": 52,
   "metadata": {},
   "outputs": [],
   "source": [
    "#save_obj(nested_scores, \"/home/john/gdrive/github/cervical_cancer/rcv.pkl\")"
   ]
  },
  {
   "cell_type": "code",
   "execution_count": 53,
   "metadata": {},
   "outputs": [],
   "source": [
    "#best_models = nested_scores['estimator']\n",
    "# mn = nested_scores[\"test_score\"].mean()\n",
    "# st = nested_scores[\"test_score\"].std()\n",
    "# [mn - 1.96*st, mn + 1.96 * st]\n",
    "#for i, model in enumerate(best_models):\n",
    "#     #print(model.best_estimator_)\n",
    "      #print(model.best_params_)\n",
    "#     print(model.best_score_)"
   ]
  },
  {
   "cell_type": "code",
   "execution_count": 54,
   "metadata": {},
   "outputs": [],
   "source": [
    "with open(\"/home/john/gdrive/github/cervical_cancer/rcv.pkl\", \"rb\") as f:\n",
    "    res = pickle.load(f)"
   ]
  },
  {
   "cell_type": "code",
   "execution_count": 55,
   "metadata": {},
   "outputs": [
    {
     "data": {
      "text/plain": [
       "array([ 7, 10])"
      ]
     },
     "execution_count": 55,
     "metadata": {},
     "output_type": "execute_result"
    }
   ],
   "source": [
    "lens = [len(est.best_params_) for est in res['estimator']]\n",
    "np.unique(lens)"
   ]
  },
  {
   "cell_type": "code",
   "execution_count": 56,
   "metadata": {},
   "outputs": [],
   "source": [
    "best_parms = list(map(lambda x: x.best_params_, res[\"estimator\"]))"
   ]
  },
  {
   "cell_type": "code",
   "execution_count": 57,
   "metadata": {},
   "outputs": [],
   "source": [
    "best_parms = [est.best_params_ for est in res[\"estimator\"]]\n",
    "best_inner_scores = [est.best_score_ for est in res[\"estimator\"]]\n",
    "best_rate = [parms[\"classifier__learning_rate\"] for parms in best_parms]\n",
    "best_parms_7 = [parms for parms in best_parms if len(parms) == 7]\n",
    "best_parms_10 = [parms for parms in best_parms if len(parms) == 10]\n"
   ]
  },
  {
   "cell_type": "code",
   "execution_count": 58,
   "metadata": {},
   "outputs": [
    {
     "data": {
      "text/html": [
       "<div>\n",
       "<style scoped>\n",
       "    .dataframe tbody tr th:only-of-type {\n",
       "        vertical-align: middle;\n",
       "    }\n",
       "\n",
       "    .dataframe tbody tr th {\n",
       "        vertical-align: top;\n",
       "    }\n",
       "\n",
       "    .dataframe thead th {\n",
       "        text-align: right;\n",
       "    }\n",
       "</style>\n",
       "<table border=\"1\" class=\"dataframe\">\n",
       "  <thead>\n",
       "    <tr style=\"text-align: right;\">\n",
       "      <th></th>\n",
       "      <th>0</th>\n",
       "      <th>1</th>\n",
       "      <th>2</th>\n",
       "    </tr>\n",
       "  </thead>\n",
       "  <tbody>\n",
       "    <tr>\n",
       "      <th>classifier__learning_rate</th>\n",
       "      <td>0.006299</td>\n",
       "      <td>0.051701</td>\n",
       "      <td>0.005485</td>\n",
       "    </tr>\n",
       "    <tr>\n",
       "      <th>classifier__max_depth</th>\n",
       "      <td>7</td>\n",
       "      <td>1</td>\n",
       "      <td>6</td>\n",
       "    </tr>\n",
       "    <tr>\n",
       "      <th>classifier__min_child_samples</th>\n",
       "      <td>21</td>\n",
       "      <td>25</td>\n",
       "      <td>25</td>\n",
       "    </tr>\n",
       "    <tr>\n",
       "      <th>classifier__n_estimators</th>\n",
       "      <td>662</td>\n",
       "      <td>477</td>\n",
       "      <td>504</td>\n",
       "    </tr>\n",
       "    <tr>\n",
       "      <th>classifier__num_leaves</th>\n",
       "      <td>9</td>\n",
       "      <td>45</td>\n",
       "      <td>36</td>\n",
       "    </tr>\n",
       "    <tr>\n",
       "      <th>imputer</th>\n",
       "      <td>FeatureUnion(transformer_list=[('features', Si...</td>\n",
       "      <td>FeatureUnion(transformer_list=[('features', Si...</td>\n",
       "      <td>FeatureUnion(transformer_list=[('features', Si...</td>\n",
       "    </tr>\n",
       "    <tr>\n",
       "      <th>imputer__features__strategy</th>\n",
       "      <td>median</td>\n",
       "      <td>median</td>\n",
       "      <td>median</td>\n",
       "    </tr>\n",
       "  </tbody>\n",
       "</table>\n",
       "</div>"
      ],
      "text/plain": [
       "                                                                               0  \\\n",
       "classifier__learning_rate                                               0.006299   \n",
       "classifier__max_depth                                                          7   \n",
       "classifier__min_child_samples                                                 21   \n",
       "classifier__n_estimators                                                     662   \n",
       "classifier__num_leaves                                                         9   \n",
       "imputer                        FeatureUnion(transformer_list=[('features', Si...   \n",
       "imputer__features__strategy                                               median   \n",
       "\n",
       "                                                                               1  \\\n",
       "classifier__learning_rate                                               0.051701   \n",
       "classifier__max_depth                                                          1   \n",
       "classifier__min_child_samples                                                 25   \n",
       "classifier__n_estimators                                                     477   \n",
       "classifier__num_leaves                                                        45   \n",
       "imputer                        FeatureUnion(transformer_list=[('features', Si...   \n",
       "imputer__features__strategy                                               median   \n",
       "\n",
       "                                                                               2  \n",
       "classifier__learning_rate                                               0.005485  \n",
       "classifier__max_depth                                                          6  \n",
       "classifier__min_child_samples                                                 25  \n",
       "classifier__n_estimators                                                     504  \n",
       "classifier__num_leaves                                                        36  \n",
       "imputer                        FeatureUnion(transformer_list=[('features', Si...  \n",
       "imputer__features__strategy                                               median  "
      ]
     },
     "execution_count": 58,
     "metadata": {},
     "output_type": "execute_result"
    }
   ],
   "source": [
    "pd.DataFrame(best_parms_7).T"
   ]
  },
  {
   "cell_type": "code",
   "execution_count": 59,
   "metadata": {},
   "outputs": [
    {
     "data": {
      "text/plain": [
       "classifier__learning_rate\n",
       "0.010036    1\n",
       "0.021446    1\n",
       "0.022343    1\n",
       "0.068610    3\n",
       "0.112633    7\n",
       "0.210302    4\n",
       "0.328242    1\n",
       "0.420959    4\n",
       "dtype: int64"
      ]
     },
     "execution_count": 59,
     "metadata": {},
     "output_type": "execute_result"
    }
   ],
   "source": [
    "pd.DataFrame(best_parms_10).groupby(\"classifier__learning_rate\").size()"
   ]
  },
  {
   "cell_type": "code",
   "execution_count": 60,
   "metadata": {},
   "outputs": [
    {
     "data": {
      "text/html": [
       "<div>\n",
       "<style scoped>\n",
       "    .dataframe tbody tr th:only-of-type {\n",
       "        vertical-align: middle;\n",
       "    }\n",
       "\n",
       "    .dataframe tbody tr th {\n",
       "        vertical-align: top;\n",
       "    }\n",
       "\n",
       "    .dataframe thead th {\n",
       "        text-align: right;\n",
       "    }\n",
       "</style>\n",
       "<table border=\"1\" class=\"dataframe\">\n",
       "  <thead>\n",
       "    <tr style=\"text-align: right;\">\n",
       "      <th></th>\n",
       "      <th>n_parms</th>\n",
       "      <th>f2_score_inner</th>\n",
       "      <th>classifier_learning_rate</th>\n",
       "    </tr>\n",
       "  </thead>\n",
       "  <tbody>\n",
       "    <tr>\n",
       "      <th>0</th>\n",
       "      <td>10</td>\n",
       "      <td>0.347386</td>\n",
       "      <td>0.210302</td>\n",
       "    </tr>\n",
       "    <tr>\n",
       "      <th>1</th>\n",
       "      <td>10</td>\n",
       "      <td>0.414407</td>\n",
       "      <td>0.112633</td>\n",
       "    </tr>\n",
       "    <tr>\n",
       "      <th>2</th>\n",
       "      <td>10</td>\n",
       "      <td>0.345968</td>\n",
       "      <td>0.112633</td>\n",
       "    </tr>\n",
       "    <tr>\n",
       "      <th>3</th>\n",
       "      <td>10</td>\n",
       "      <td>0.475631</td>\n",
       "      <td>0.112633</td>\n",
       "    </tr>\n",
       "    <tr>\n",
       "      <th>4</th>\n",
       "      <td>10</td>\n",
       "      <td>0.457928</td>\n",
       "      <td>0.420959</td>\n",
       "    </tr>\n",
       "    <tr>\n",
       "      <th>5</th>\n",
       "      <td>10</td>\n",
       "      <td>0.373932</td>\n",
       "      <td>0.022343</td>\n",
       "    </tr>\n",
       "    <tr>\n",
       "      <th>6</th>\n",
       "      <td>10</td>\n",
       "      <td>0.457751</td>\n",
       "      <td>0.420959</td>\n",
       "    </tr>\n",
       "    <tr>\n",
       "      <th>7</th>\n",
       "      <td>10</td>\n",
       "      <td>0.364418</td>\n",
       "      <td>0.010036</td>\n",
       "    </tr>\n",
       "    <tr>\n",
       "      <th>8</th>\n",
       "      <td>10</td>\n",
       "      <td>0.462116</td>\n",
       "      <td>0.112633</td>\n",
       "    </tr>\n",
       "    <tr>\n",
       "      <th>9</th>\n",
       "      <td>10</td>\n",
       "      <td>0.394758</td>\n",
       "      <td>0.420959</td>\n",
       "    </tr>\n",
       "    <tr>\n",
       "      <th>10</th>\n",
       "      <td>10</td>\n",
       "      <td>0.364958</td>\n",
       "      <td>0.210302</td>\n",
       "    </tr>\n",
       "    <tr>\n",
       "      <th>11</th>\n",
       "      <td>10</td>\n",
       "      <td>0.380013</td>\n",
       "      <td>0.068610</td>\n",
       "    </tr>\n",
       "    <tr>\n",
       "      <th>12</th>\n",
       "      <td>10</td>\n",
       "      <td>0.437861</td>\n",
       "      <td>0.112633</td>\n",
       "    </tr>\n",
       "    <tr>\n",
       "      <th>13</th>\n",
       "      <td>10</td>\n",
       "      <td>0.406239</td>\n",
       "      <td>0.021446</td>\n",
       "    </tr>\n",
       "    <tr>\n",
       "      <th>14</th>\n",
       "      <td>10</td>\n",
       "      <td>0.440718</td>\n",
       "      <td>0.112633</td>\n",
       "    </tr>\n",
       "    <tr>\n",
       "      <th>15</th>\n",
       "      <td>7</td>\n",
       "      <td>0.349660</td>\n",
       "      <td>0.006299</td>\n",
       "    </tr>\n",
       "    <tr>\n",
       "      <th>16</th>\n",
       "      <td>7</td>\n",
       "      <td>0.427004</td>\n",
       "      <td>0.051701</td>\n",
       "    </tr>\n",
       "    <tr>\n",
       "      <th>17</th>\n",
       "      <td>10</td>\n",
       "      <td>0.428084</td>\n",
       "      <td>0.068610</td>\n",
       "    </tr>\n",
       "    <tr>\n",
       "      <th>18</th>\n",
       "      <td>10</td>\n",
       "      <td>0.421101</td>\n",
       "      <td>0.210302</td>\n",
       "    </tr>\n",
       "    <tr>\n",
       "      <th>19</th>\n",
       "      <td>10</td>\n",
       "      <td>0.471704</td>\n",
       "      <td>0.068610</td>\n",
       "    </tr>\n",
       "    <tr>\n",
       "      <th>20</th>\n",
       "      <td>10</td>\n",
       "      <td>0.407657</td>\n",
       "      <td>0.112633</td>\n",
       "    </tr>\n",
       "    <tr>\n",
       "      <th>21</th>\n",
       "      <td>7</td>\n",
       "      <td>0.398142</td>\n",
       "      <td>0.005485</td>\n",
       "    </tr>\n",
       "    <tr>\n",
       "      <th>22</th>\n",
       "      <td>10</td>\n",
       "      <td>0.463573</td>\n",
       "      <td>0.420959</td>\n",
       "    </tr>\n",
       "    <tr>\n",
       "      <th>23</th>\n",
       "      <td>10</td>\n",
       "      <td>0.401944</td>\n",
       "      <td>0.210302</td>\n",
       "    </tr>\n",
       "    <tr>\n",
       "      <th>24</th>\n",
       "      <td>10</td>\n",
       "      <td>0.414929</td>\n",
       "      <td>0.328242</td>\n",
       "    </tr>\n",
       "  </tbody>\n",
       "</table>\n",
       "</div>"
      ],
      "text/plain": [
       "    n_parms  f2_score_inner  classifier_learning_rate\n",
       "0        10        0.347386                  0.210302\n",
       "1        10        0.414407                  0.112633\n",
       "2        10        0.345968                  0.112633\n",
       "3        10        0.475631                  0.112633\n",
       "4        10        0.457928                  0.420959\n",
       "5        10        0.373932                  0.022343\n",
       "6        10        0.457751                  0.420959\n",
       "7        10        0.364418                  0.010036\n",
       "8        10        0.462116                  0.112633\n",
       "9        10        0.394758                  0.420959\n",
       "10       10        0.364958                  0.210302\n",
       "11       10        0.380013                  0.068610\n",
       "12       10        0.437861                  0.112633\n",
       "13       10        0.406239                  0.021446\n",
       "14       10        0.440718                  0.112633\n",
       "15        7        0.349660                  0.006299\n",
       "16        7        0.427004                  0.051701\n",
       "17       10        0.428084                  0.068610\n",
       "18       10        0.421101                  0.210302\n",
       "19       10        0.471704                  0.068610\n",
       "20       10        0.407657                  0.112633\n",
       "21        7        0.398142                  0.005485\n",
       "22       10        0.463573                  0.420959\n",
       "23       10        0.401944                  0.210302\n",
       "24       10        0.414929                  0.328242"
      ]
     },
     "execution_count": 60,
     "metadata": {},
     "output_type": "execute_result"
    }
   ],
   "source": [
    "pd.DataFrame(\n",
    "    [i for i in zip(lens, best_inner_scores, best_rate)], \n",
    "    columns = ['n_parms', \"f2_score_inner\", \"classifier_learning_rate\"]\n",
    ")"
   ]
  },
  {
   "cell_type": "code",
   "execution_count": 61,
   "metadata": {},
   "outputs": [
    {
     "data": {
      "text/html": [
       "<style>#sk-container-id-1 {color: black;background-color: white;}#sk-container-id-1 pre{padding: 0;}#sk-container-id-1 div.sk-toggleable {background-color: white;}#sk-container-id-1 label.sk-toggleable__label {cursor: pointer;display: block;width: 100%;margin-bottom: 0;padding: 0.3em;box-sizing: border-box;text-align: center;}#sk-container-id-1 label.sk-toggleable__label-arrow:before {content: \"▸\";float: left;margin-right: 0.25em;color: #696969;}#sk-container-id-1 label.sk-toggleable__label-arrow:hover:before {color: black;}#sk-container-id-1 div.sk-estimator:hover label.sk-toggleable__label-arrow:before {color: black;}#sk-container-id-1 div.sk-toggleable__content {max-height: 0;max-width: 0;overflow: hidden;text-align: left;background-color: #f0f8ff;}#sk-container-id-1 div.sk-toggleable__content pre {margin: 0.2em;color: black;border-radius: 0.25em;background-color: #f0f8ff;}#sk-container-id-1 input.sk-toggleable__control:checked~div.sk-toggleable__content {max-height: 200px;max-width: 100%;overflow: auto;}#sk-container-id-1 input.sk-toggleable__control:checked~label.sk-toggleable__label-arrow:before {content: \"▾\";}#sk-container-id-1 div.sk-estimator input.sk-toggleable__control:checked~label.sk-toggleable__label {background-color: #d4ebff;}#sk-container-id-1 div.sk-label input.sk-toggleable__control:checked~label.sk-toggleable__label {background-color: #d4ebff;}#sk-container-id-1 input.sk-hidden--visually {border: 0;clip: rect(1px 1px 1px 1px);clip: rect(1px, 1px, 1px, 1px);height: 1px;margin: -1px;overflow: hidden;padding: 0;position: absolute;width: 1px;}#sk-container-id-1 div.sk-estimator {font-family: monospace;background-color: #f0f8ff;border: 1px dotted black;border-radius: 0.25em;box-sizing: border-box;margin-bottom: 0.5em;}#sk-container-id-1 div.sk-estimator:hover {background-color: #d4ebff;}#sk-container-id-1 div.sk-parallel-item::after {content: \"\";width: 100%;border-bottom: 1px solid gray;flex-grow: 1;}#sk-container-id-1 div.sk-label:hover label.sk-toggleable__label {background-color: #d4ebff;}#sk-container-id-1 div.sk-serial::before {content: \"\";position: absolute;border-left: 1px solid gray;box-sizing: border-box;top: 0;bottom: 0;left: 50%;z-index: 0;}#sk-container-id-1 div.sk-serial {display: flex;flex-direction: column;align-items: center;background-color: white;padding-right: 0.2em;padding-left: 0.2em;position: relative;}#sk-container-id-1 div.sk-item {position: relative;z-index: 1;}#sk-container-id-1 div.sk-parallel {display: flex;align-items: stretch;justify-content: center;background-color: white;position: relative;}#sk-container-id-1 div.sk-item::before, #sk-container-id-1 div.sk-parallel-item::before {content: \"\";position: absolute;border-left: 1px solid gray;box-sizing: border-box;top: 0;bottom: 0;left: 50%;z-index: -1;}#sk-container-id-1 div.sk-parallel-item {display: flex;flex-direction: column;z-index: 1;position: relative;background-color: white;}#sk-container-id-1 div.sk-parallel-item:first-child::after {align-self: flex-end;width: 50%;}#sk-container-id-1 div.sk-parallel-item:last-child::after {align-self: flex-start;width: 50%;}#sk-container-id-1 div.sk-parallel-item:only-child::after {width: 0;}#sk-container-id-1 div.sk-dashed-wrapped {border: 1px dashed gray;margin: 0 0.4em 0.5em 0.4em;box-sizing: border-box;padding-bottom: 0.4em;background-color: white;}#sk-container-id-1 div.sk-label label {font-family: monospace;font-weight: bold;display: inline-block;line-height: 1.2em;}#sk-container-id-1 div.sk-label-container {text-align: center;}#sk-container-id-1 div.sk-container {/* jupyter's `normalize.less` sets `[hidden] { display: none; }` but bootstrap.min.css set `[hidden] { display: none !important; }` so we also need the `!important` here to be able to override the default hidden behavior on the sphinx rendered scikit-learn.org. See: https://github.com/scikit-learn/scikit-learn/issues/21755 */display: inline-block !important;position: relative;}#sk-container-id-1 div.sk-text-repr-fallback {display: none;}</style><div id=\"sk-container-id-1\" class=\"sk-top-container\"><div class=\"sk-text-repr-fallback\"><pre>Pipeline(steps=[(&#x27;imputer&#x27;,\n",
       "                 FeatureUnion(transformer_list=[(&#x27;features&#x27;,\n",
       "                                                 mice_imputer(lgb_iterations=266,\n",
       "                                                              lgb_learning_rate=0.13709275624689288,\n",
       "                                                              lgb_max_depth=6,\n",
       "                                                              lgb_num_leaves=44,\n",
       "                                                              mean_match_scheme=&lt;miceforest.MeanMatchScheme.MeanMatchScheme object at 0x7fb85642bdc0&gt;,\n",
       "                                                              mice_iterations=15,\n",
       "                                                              variable_parameters={1: {&#x27;objective&#x27;: &#x27;poisson&#x27;},\n",
       "                                                                                   2: {&#x27;objective&#x27;: &#x27;poisson&#x27;}...\n",
       "                                                                                   7: {&#x27;objective&#x27;: &#x27;regression&#x27;},\n",
       "                                                                                   9: {&#x27;is_unbalance&#x27;: True,\n",
       "                                                                                       &#x27;objective&#x27;: &#x27;binary&#x27;},\n",
       "                                                                                   10: {&#x27;is_unbalance&#x27;: True,\n",
       "                                                                                        &#x27;objective&#x27;: &#x27;binary&#x27;},\n",
       "                                                                                   12: {&#x27;objective&#x27;: &#x27;poisson&#x27;}})),\n",
       "                                                (&#x27;indicator&#x27;,\n",
       "                                                 missing_transformer())])),\n",
       "                (&#x27;classifier&#x27;,\n",
       "                 LGBMClassifier(is_unbalance=True,\n",
       "                                learning_rate=0.11263311888445775, max_depth=1,\n",
       "                                min_child_samples=16, n_estimators=399,\n",
       "                                num_leaves=6, objective=&#x27;binary&#x27;))])</pre><b>In a Jupyter environment, please rerun this cell to show the HTML representation or trust the notebook. <br />On GitHub, the HTML representation is unable to render, please try loading this page with nbviewer.org.</b></div><div class=\"sk-container\" hidden><div class=\"sk-item sk-dashed-wrapped\"><div class=\"sk-label-container\"><div class=\"sk-label sk-toggleable\"><input class=\"sk-toggleable__control sk-hidden--visually\" id=\"sk-estimator-id-1\" type=\"checkbox\" ><label for=\"sk-estimator-id-1\" class=\"sk-toggleable__label sk-toggleable__label-arrow\">Pipeline</label><div class=\"sk-toggleable__content\"><pre>Pipeline(steps=[(&#x27;imputer&#x27;,\n",
       "                 FeatureUnion(transformer_list=[(&#x27;features&#x27;,\n",
       "                                                 mice_imputer(lgb_iterations=266,\n",
       "                                                              lgb_learning_rate=0.13709275624689288,\n",
       "                                                              lgb_max_depth=6,\n",
       "                                                              lgb_num_leaves=44,\n",
       "                                                              mean_match_scheme=&lt;miceforest.MeanMatchScheme.MeanMatchScheme object at 0x7fb85642bdc0&gt;,\n",
       "                                                              mice_iterations=15,\n",
       "                                                              variable_parameters={1: {&#x27;objective&#x27;: &#x27;poisson&#x27;},\n",
       "                                                                                   2: {&#x27;objective&#x27;: &#x27;poisson&#x27;}...\n",
       "                                                                                   7: {&#x27;objective&#x27;: &#x27;regression&#x27;},\n",
       "                                                                                   9: {&#x27;is_unbalance&#x27;: True,\n",
       "                                                                                       &#x27;objective&#x27;: &#x27;binary&#x27;},\n",
       "                                                                                   10: {&#x27;is_unbalance&#x27;: True,\n",
       "                                                                                        &#x27;objective&#x27;: &#x27;binary&#x27;},\n",
       "                                                                                   12: {&#x27;objective&#x27;: &#x27;poisson&#x27;}})),\n",
       "                                                (&#x27;indicator&#x27;,\n",
       "                                                 missing_transformer())])),\n",
       "                (&#x27;classifier&#x27;,\n",
       "                 LGBMClassifier(is_unbalance=True,\n",
       "                                learning_rate=0.11263311888445775, max_depth=1,\n",
       "                                min_child_samples=16, n_estimators=399,\n",
       "                                num_leaves=6, objective=&#x27;binary&#x27;))])</pre></div></div></div><div class=\"sk-serial\"><div class=\"sk-item sk-dashed-wrapped\"><div class=\"sk-label-container\"><div class=\"sk-label sk-toggleable\"><input class=\"sk-toggleable__control sk-hidden--visually\" id=\"sk-estimator-id-2\" type=\"checkbox\" ><label for=\"sk-estimator-id-2\" class=\"sk-toggleable__label sk-toggleable__label-arrow\">imputer: FeatureUnion</label><div class=\"sk-toggleable__content\"><pre>FeatureUnion(transformer_list=[(&#x27;features&#x27;,\n",
       "                                mice_imputer(lgb_iterations=266,\n",
       "                                             lgb_learning_rate=0.13709275624689288,\n",
       "                                             lgb_max_depth=6, lgb_num_leaves=44,\n",
       "                                             mean_match_scheme=&lt;miceforest.MeanMatchScheme.MeanMatchScheme object at 0x7fb85642bdc0&gt;,\n",
       "                                             mice_iterations=15,\n",
       "                                             variable_parameters={1: {&#x27;objective&#x27;: &#x27;poisson&#x27;},\n",
       "                                                                  2: {&#x27;objective&#x27;: &#x27;poisson&#x27;},\n",
       "                                                                  3: {&#x27;objective&#x27;: &#x27;poisson&#x27;},\n",
       "                                                                  4: {&#x27;objective&#x27;: &#x27;regression&#x27;},\n",
       "                                                                  5: {&#x27;objective&#x27;: &#x27;regression&#x27;},\n",
       "                                                                  6: {&#x27;objective&#x27;: &#x27;regression&#x27;},\n",
       "                                                                  7: {&#x27;objective&#x27;: &#x27;regression&#x27;},\n",
       "                                                                  9: {&#x27;is_unbalance&#x27;: True,\n",
       "                                                                      &#x27;objective&#x27;: &#x27;binary&#x27;},\n",
       "                                                                  10: {&#x27;is_unbalance&#x27;: True,\n",
       "                                                                       &#x27;objective&#x27;: &#x27;binary&#x27;},\n",
       "                                                                  12: {&#x27;objective&#x27;: &#x27;poisson&#x27;}})),\n",
       "                               (&#x27;indicator&#x27;, missing_transformer())])</pre></div></div></div><div class=\"sk-parallel\"><div class=\"sk-parallel-item\"><div class=\"sk-item\"><div class=\"sk-label-container\"><div class=\"sk-label sk-toggleable\"><label>features</label></div></div><div class=\"sk-serial\"><div class=\"sk-item\"><div class=\"sk-estimator sk-toggleable\"><input class=\"sk-toggleable__control sk-hidden--visually\" id=\"sk-estimator-id-3\" type=\"checkbox\" ><label for=\"sk-estimator-id-3\" class=\"sk-toggleable__label sk-toggleable__label-arrow\">mice_imputer</label><div class=\"sk-toggleable__content\"><pre>mice_imputer(lgb_iterations=266, lgb_learning_rate=0.13709275624689288,\n",
       "             lgb_max_depth=6, lgb_num_leaves=44,\n",
       "             mean_match_scheme=&lt;miceforest.MeanMatchScheme.MeanMatchScheme object at 0x7fb85642bdc0&gt;,\n",
       "             mice_iterations=15,\n",
       "             variable_parameters={1: {&#x27;objective&#x27;: &#x27;poisson&#x27;},\n",
       "                                  2: {&#x27;objective&#x27;: &#x27;poisson&#x27;},\n",
       "                                  3: {&#x27;objective&#x27;: &#x27;poisson&#x27;},\n",
       "                                  4: {&#x27;objective&#x27;: &#x27;regression&#x27;},\n",
       "                                  5: {&#x27;objective&#x27;: &#x27;regression&#x27;},\n",
       "                                  6: {&#x27;objective&#x27;: &#x27;regression&#x27;},\n",
       "                                  7: {&#x27;objective&#x27;: &#x27;regression&#x27;},\n",
       "                                  9: {&#x27;is_unbalance&#x27;: True,\n",
       "                                      &#x27;objective&#x27;: &#x27;binary&#x27;},\n",
       "                                  10: {&#x27;is_unbalance&#x27;: True,\n",
       "                                       &#x27;objective&#x27;: &#x27;binary&#x27;},\n",
       "                                  12: {&#x27;objective&#x27;: &#x27;poisson&#x27;}})</pre></div></div></div></div></div></div><div class=\"sk-parallel-item\"><div class=\"sk-item\"><div class=\"sk-label-container\"><div class=\"sk-label sk-toggleable\"><label>indicator</label></div></div><div class=\"sk-serial\"><div class=\"sk-item\"><div class=\"sk-estimator sk-toggleable\"><input class=\"sk-toggleable__control sk-hidden--visually\" id=\"sk-estimator-id-4\" type=\"checkbox\" ><label for=\"sk-estimator-id-4\" class=\"sk-toggleable__label sk-toggleable__label-arrow\">missing_transformer</label><div class=\"sk-toggleable__content\"><pre>missing_transformer()</pre></div></div></div></div></div></div></div></div><div class=\"sk-item\"><div class=\"sk-estimator sk-toggleable\"><input class=\"sk-toggleable__control sk-hidden--visually\" id=\"sk-estimator-id-5\" type=\"checkbox\" ><label for=\"sk-estimator-id-5\" class=\"sk-toggleable__label sk-toggleable__label-arrow\">LGBMClassifier</label><div class=\"sk-toggleable__content\"><pre>LGBMClassifier(is_unbalance=True, learning_rate=0.11263311888445775,\n",
       "               max_depth=1, min_child_samples=16, n_estimators=399,\n",
       "               num_leaves=6, objective=&#x27;binary&#x27;)</pre></div></div></div></div></div></div></div>"
      ],
      "text/plain": [
       "Pipeline(steps=[('imputer',\n",
       "                 FeatureUnion(transformer_list=[('features',\n",
       "                                                 mice_imputer(lgb_iterations=266,\n",
       "                                                              lgb_learning_rate=0.13709275624689288,\n",
       "                                                              lgb_max_depth=6,\n",
       "                                                              lgb_num_leaves=44,\n",
       "                                                              mean_match_scheme=<miceforest.MeanMatchScheme.MeanMatchScheme object at 0x7fb85642bdc0>,\n",
       "                                                              mice_iterations=15,\n",
       "                                                              variable_parameters={1: {'objective': 'poisson'},\n",
       "                                                                                   2: {'objective': 'poisson'}...\n",
       "                                                                                   7: {'objective': 'regression'},\n",
       "                                                                                   9: {'is_unbalance': True,\n",
       "                                                                                       'objective': 'binary'},\n",
       "                                                                                   10: {'is_unbalance': True,\n",
       "                                                                                        'objective': 'binary'},\n",
       "                                                                                   12: {'objective': 'poisson'}})),\n",
       "                                                ('indicator',\n",
       "                                                 missing_transformer())])),\n",
       "                ('classifier',\n",
       "                 LGBMClassifier(is_unbalance=True,\n",
       "                                learning_rate=0.11263311888445775, max_depth=1,\n",
       "                                min_child_samples=16, n_estimators=399,\n",
       "                                num_leaves=6, objective='binary'))])"
      ]
     },
     "execution_count": 61,
     "metadata": {},
     "output_type": "execute_result"
    }
   ],
   "source": [
    "best_final = best_parms[3]\n",
    "final = pipe.set_params(**best_final)\n",
    "final.fit(x, y.values.flatten())"
   ]
  },
  {
   "cell_type": "code",
   "execution_count": 62,
   "metadata": {},
   "outputs": [],
   "source": [
    "imp = permutation_importance(\n",
    "    final, \n",
    "    x, \n",
    "    y.values.flatten(),\n",
    "    n_repeats = 100,\n",
    "    random_state = 897447,\n",
    "    n_jobs=-1\n",
    ")"
   ]
  },
  {
   "cell_type": "code",
   "execution_count": 63,
   "metadata": {},
   "outputs": [],
   "source": [
    "imp_sort = imp.importances_mean.argsort()\n",
    "imp_df = pd.DataFrame(\n",
    "    imp.importances[imp_sort].T,\n",
    "    columns = x.columns[imp_sort]\n",
    ")"
   ]
  },
  {
   "cell_type": "code",
   "execution_count": 64,
   "metadata": {},
   "outputs": [
    {
     "data": {
      "text/plain": [
       "Text(0.5, 1.0, 'Permutation Variable Importance')"
      ]
     },
     "execution_count": 64,
     "metadata": {},
     "output_type": "execute_result"
    },
    {
     "data": {
      "image/png": "[encoded data removed]",
      "text/plain": [
       "<Figure size 500x500 with 1 Axes>"
      ]
     },
     "metadata": {},
     "output_type": "display_data"
    }
   ],
   "source": [
    "bplot = imp_df.boxplot(vert = False)\n",
    "bplot.set_title(\"Permutation Variable Importance\")"
   ]
  },
  {
   "cell_type": "code",
   "execution_count": 180,
   "metadata": {},
   "outputs": [
    {
     "data": {
      "image/png": "[encoded data removed]",
      "text/plain": [
       "<Figure size 1000x1600 with 27 Axes>"
      ]
     },
     "metadata": {},
     "output_type": "display_data"
    }
   ],
   "source": [
    "mpl.rcParams['figure.figsize'] = [10, 16]\n",
    "\n",
    "is_cat = x.apply(func = lambda x: x.nunique() == 2) \n",
    "\n",
    "pdep = PartialDependenceDisplay.from_estimator(final, x, features = x.columns.values, grid_resolution=1000, categorical_features=is_cat, n_jobs = -1)\n",
    "\n",
    "fts = np.array(pdep.features).flatten()\n",
    "ft_names = x.columns.values[fts]\n",
    "\n",
    "for ax, var, ft_ind in zip(pdep.axes_.ravel(), ft_names, fts):\n",
    "\n",
    "    sec_ax = ax.twinx()\n",
    "\n",
    "\n",
    "    if ft_ind == 5:\n",
    "        sec_ax.set_ylabel(\"Count of Observations\")\n",
    "\n",
    "    if is_cat[ft_ind]:\n",
    "        sec_ax.scatter(x = [0, 1], y = x.groupby(var)[var].count(), c='grey')\n",
    "    else: \n",
    "        sec_ax.hist(x[var], bins = 30, color = 'grey', alpha = .25)\n",
    "\n",
    "plt.suptitle(\"Partial Dependence Plots\")\n",
    "plt.tight_layout(rect=[0, 0.03, 1, 0.99])\n"
   ]
  }
 ],
 "metadata": {
  "kernelspec": {
   "display_name": "cervical",
   "language": "python",
   "name": "python3"
  },
  "language_info": {
   "codemirror_mode": {
    "name": "ipython",
    "version": 3
   },
   "file_extension": ".py",
   "mimetype": "text/x-python",
   "name": "python",
   "nbconvert_exporter": "python",
   "pygments_lexer": "ipython3",
   "version": "3.10.9"
  },
  "orig_nbformat": 4,
  "vscode": {
   "interpreter": {
    "hash": "36a4d8ebaadf09211e7ea3eda12f34cb65c6aa2c0258225f56eef2ad8727d175"
   }
  }
 },
 "nbformat": 4,
 "nbformat_minor": 2
}
