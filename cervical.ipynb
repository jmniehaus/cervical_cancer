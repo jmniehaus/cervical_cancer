{
 "cells": [
  {
   "attachments": {},
   "cell_type": "markdown",
   "metadata": {},
   "source": [
    "# Disclosure on the data\n",
    "\n",
    "The data used in this post are on high-risk gynecological patients at a Venezuelan hospital, and are from the UCI machine learning repository, available [here](https://archive.ics.uci.edu/ml/datasets/Cervical+cancer+%28Risk+Factors%29). No information is provided on how the data were gathered, or when. Thus, the data are not representative of women in general, or even high-risk gynecological patients. The data were selected based on their perceived risk for cervical complications; thus, models trained on the data are only valid on similarly selected test data going forward. Moreover, the data dictionary for these data is unfortunately quite lacking with the published work using these data not helping much either. The authors of the data have two published articles where they give some additional information. These articles are available [here](https://www.ncbi.nlm.nih.gov/pmc/articles/PMC7924508/pdf/peerj-cs-04-154.pdf) and [here](https://link.springer.com/chapter/10.1007/978-3-319-58838-4_27). Other's have also used the data, but either offer no additional details or make claims about the data that are not verifiable with materials provided by the original authors. A quick search on Google Scholar will show several papers citing the original paper, most of which use so-called \"garbage can\" models, with minimal or no interrogation of the source data. Several have data leakage, fail to address imbalance, and use high accuracy scores as evidence of a good classifier (despite imbalance). Thus, both because of the fact that I am not a doctor, and because the data used in this post are shakey at best, this post should be seen as an exercise in the data science process, and any publications using the data should be viewed with heavy skepticism. The results in this post should not be used for any medical decisions, and do not constitute medical advice; they are merely used to showcase data science techniques and thinking as it pertains to medical data.\n",
    "\n",
    "Due to the above lack of clarity, the following assumptions/decisions are made regarding the data:\n",
    "\n",
    "1. The `hinselmann`, `schiller`, `citology` and `biopsy` columns indicate a positive result upon carrying out the indicated test for cervical abnormality. I am unable to verify if this column means that the test was merely performed, or whether it was a positive result. The decision to assume that these indicate a postive test result stems from the imbalance of these columns, and knowledge of gynecological care. In the United States at least, pap smears (citology) are reccomended as routine care every 3 years after age 21. It is unlikely that of the nearly 900 patients, only about 6% of them are visiting for their every-three-year citological test. Moreover, the proportion of patients with citology is less than the proportion with biopsy. It seems strange for biopsy to occur in the absence of citology, although I am not a doctor so perhaps I'm wrong here. Thus, I assume that because these patients were deemed high risk, all tests were performed with the corresponding columns then indicating the results of these tests. \n",
    "\n",
    "2. The `biopsy` column is used as the outcome variable. This is consistent with the orignal authors' work. \n",
    "\n",
    "3. The `dx_cancer`, `dx_cin`, `dx_hpv` and `dx` columns indicate any previous cervical abnormality diagnosis has occurred. This is an assumption made based on table 1 in [this](article). \n",
    "\n",
    "4. The various columns indicating a particular sexually transmitted disease (STD), e.g., `stds_cervical_condylomatosis` indicate whether the patient *currently* has the indicated disease. \n",
    "\n",
    "5. The `stds_n_diagnosis` column is different than the `stds_number` column. I am unable to find any information regarding the `stds_n_diagnosis` column, although it could mean the number of total STD diagnoses in the patients whole history. However, because I cannot verify anything about the `stds_n_diagnosis` column, I am forced to drop it. "
   ]
  },
  {
   "attachments": {},
   "cell_type": "markdown",
   "metadata": {},
   "source": [
    "# Imports"
   ]
  },
  {
   "cell_type": "code",
   "execution_count": 53,
   "metadata": {},
   "outputs": [],
   "source": [
    "import gc \n",
    "import pandas as pd\n",
    "import numpy as np\n",
    "from sklearn.model_selection import train_test_split, RepeatedStratifiedKFold, cross_val_score, GridSearchCV, RandomizedSearchCV, cross_validate, StratifiedKFold\n",
    "from sklearn.pipeline import Pipeline, FeatureUnion\n",
    "from sklearn.metrics import fbeta_score, make_scorer, average_precision_score\n",
    "from sklearn.impute import MissingIndicator, SimpleImputer\n",
    "from sklearn.inspection import permutation_importance, PartialDependenceDisplay\n",
    "import matplotlib as mpl\n",
    "import matplotlib.pyplot as plt\n",
    "import miceforest as mf\n",
    "from miceforest import mean_match_default\n",
    "import seaborn as sns\n",
    "from lightgbm import LGBMClassifier\n",
    "import inspect \n",
    "import warnings\n",
    "import scipy.stats as stats\n",
    "from tempfile import mkdtemp\n",
    "from joblib import Memory\n",
    "from shutil import rmtree\n",
    "from mice_imputer import *\n",
    "from missing_transformer import *\n",
    "import pickle \n",
    "\n",
    "# Should model be re-run? If false, it is loaded from pkl on disk.\n",
    "run = False\n"
   ]
  },
  {
   "attachments": {},
   "cell_type": "markdown",
   "metadata": {},
   "source": [
    "# Data Housekeeping\n",
    "We'll first read in the data from UCI repo:"
   ]
  },
  {
   "cell_type": "code",
   "execution_count": 54,
   "metadata": {},
   "outputs": [],
   "source": [
    "df = pd.read_csv(\"https://archive.ics.uci.edu/ml/machine-learning-databases/00383/risk_factors_cervical_cancer.csv\")"
   ]
  },
  {
   "attachments": {},
   "cell_type": "markdown",
   "metadata": {},
   "source": [
    "## Encode missings\n",
    "The first thing you'll notice with this data (and all data from the UCI repo) is that missing values are string valued, appearing as question marks: `\"?'`. So, we'll want to go through and replace these with proper missing values. "
   ]
  },
  {
   "cell_type": "code",
   "execution_count": 55,
   "metadata": {},
   "outputs": [],
   "source": [
    "df = df.replace({\"?\": pd.NA})"
   ]
  },
  {
   "attachments": {},
   "cell_type": "markdown",
   "metadata": {},
   "source": [
    "## Rename columns to be more manageable"
   ]
  },
  {
   "attachments": {},
   "cell_type": "markdown",
   "metadata": {},
   "source": [
    "As seen below, the column names aren't very manageable."
   ]
  },
  {
   "cell_type": "code",
   "execution_count": 56,
   "metadata": {},
   "outputs": [
    {
     "data": {
      "text/plain": [
       "array(['Age', 'Number of sexual partners', 'First sexual intercourse',\n",
       "       'Num of pregnancies', 'Smokes', 'Smokes (years)',\n",
       "       'Smokes (packs/year)', 'Hormonal Contraceptives',\n",
       "       'Hormonal Contraceptives (years)', 'IUD', 'IUD (years)', 'STDs',\n",
       "       'STDs (number)', 'STDs:condylomatosis',\n",
       "       'STDs:cervical condylomatosis', 'STDs:vaginal condylomatosis',\n",
       "       'STDs:vulvo-perineal condylomatosis', 'STDs:syphilis',\n",
       "       'STDs:pelvic inflammatory disease', 'STDs:genital herpes',\n",
       "       'STDs:molluscum contagiosum', 'STDs:AIDS', 'STDs:HIV',\n",
       "       'STDs:Hepatitis B', 'STDs:HPV', 'STDs: Number of diagnosis',\n",
       "       'STDs: Time since first diagnosis',\n",
       "       'STDs: Time since last diagnosis', 'Dx:Cancer', 'Dx:CIN', 'Dx:HPV',\n",
       "       'Dx', 'Hinselmann', 'Schiller', 'Citology', 'Biopsy'], dtype=object)"
      ]
     },
     "execution_count": 56,
     "metadata": {},
     "output_type": "execute_result"
    }
   ],
   "source": [
    "df.columns.values"
   ]
  },
  {
   "attachments": {},
   "cell_type": "markdown",
   "metadata": {},
   "source": [
    "We'll replace some of the keywords with abbreviations, and problem characters with underscores or white space. We'll also convert these to lower-case:"
   ]
  },
  {
   "cell_type": "code",
   "execution_count": 57,
   "metadata": {},
   "outputs": [
    {
     "data": {
      "text/plain": [
       "array(['age', 'n_sexual_partners', 'first_sexual_intercourse',\n",
       "       'n_pregnancies', 'smokes', 'smokes_years', 'smokes_packs_year',\n",
       "       'hormonal_bc', 'hormonal_bc_years', 'iud', 'iud_years', 'stds',\n",
       "       'stds_number', 'stds_condylomatosis',\n",
       "       'stds_cervical_condylomatosis', 'stds_vaginal_condylomatosis',\n",
       "       'stds_vulvo_perineal_condylomatosis', 'stds_syphilis',\n",
       "       'stds_pelvic_inflammatory_disease', 'stds_genital_herpes',\n",
       "       'stds_molluscum_contagiosum', 'stds_aids', 'stds_hiv',\n",
       "       'stds_hepatitis_b', 'stds_hpv', 'stds_n_diagnosis',\n",
       "       'stds_time_since_first_diagnosis',\n",
       "       'stds_time_since_last_diagnosis', 'dx_cancer', 'dx_cin', 'dx_hpv',\n",
       "       'dx', 'hinselmann', 'schiller', 'citology', 'biopsy'], dtype=object)"
      ]
     },
     "execution_count": 57,
     "metadata": {},
     "output_type": "execute_result"
    }
   ],
   "source": [
    "new_names = df.columns \n",
    "to_rep = {\n",
    "    \"Number\" : \"n\",\n",
    "    \"Contraceptives\" : \"bc\", \n",
    "    \"Num\" : \"n\",\n",
    "    \"-\" : \"_\",\n",
    "    \"of\" : \"\",\n",
    "    \" \" : \"_\", \n",
    "    \"(\" : \"\",\n",
    "    \")\" : \"\",\n",
    "    \"/\" : \"_\",\n",
    "    \":\" : \"_\", \n",
    "    \"__\" : \"_\"\n",
    "}\n",
    "\n",
    "for key, value in to_rep.items(): \n",
    "    new_names = new_names.str.replace(key, value, regex = True)\n",
    "\n",
    "new_names = new_names.str.lower()\n",
    "\n",
    "df = df.set_axis(new_names, axis = 1)\n",
    "\n",
    "df.columns.values"
   ]
  },
  {
   "attachments": {},
   "cell_type": "markdown",
   "metadata": {},
   "source": [
    "## Dtype conversion\n",
    "We'll also want to get the data into proper dtypes:"
   ]
  },
  {
   "cell_type": "code",
   "execution_count": 58,
   "metadata": {},
   "outputs": [],
   "source": [
    "# convert_dtypes not working without the apply() call. Probably due to the earlier replace statement, unsure.\n",
    "df = df.apply(pd.to_numeric, axis = 1).convert_dtypes() "
   ]
  },
  {
   "attachments": {},
   "cell_type": "markdown",
   "metadata": {},
   "source": [
    "# Data Exploration"
   ]
  },
  {
   "attachments": {},
   "cell_type": "markdown",
   "metadata": {},
   "source": [
    "## Check missingness\n",
    "\n",
    "First, we'll check on the proportion of missing values. Remember, the mean of a binary variable is the sample proportion. Thus, below I'm just computing the mean over a boolean mask for missingness, i.e., the proportion of missing values."
   ]
  },
  {
   "cell_type": "code",
   "execution_count": 59,
   "metadata": {},
   "outputs": [
    {
     "data": {
      "text/plain": [
       "stds_time_since_last_diagnosis        0.917249\n",
       "stds_time_since_first_diagnosis       0.917249\n",
       "iud                                   0.136364\n",
       "iud_years                             0.136364\n",
       "hormonal_bc                           0.125874\n",
       "hormonal_bc_years                     0.125874\n",
       "stds_pelvic_inflammatory_disease      0.122378\n",
       "stds_vulvo_perineal_condylomatosis    0.122378\n",
       "stds_hpv                              0.122378\n",
       "stds_hepatitis_b                      0.122378\n",
       "stds_hiv                              0.122378\n",
       "stds_aids                             0.122378\n",
       "stds_molluscum_contagiosum            0.122378\n",
       "stds_genital_herpes                   0.122378\n",
       "stds_syphilis                         0.122378\n",
       "stds_vaginal_condylomatosis           0.122378\n",
       "stds_cervical_condylomatosis          0.122378\n",
       "stds_condylomatosis                   0.122378\n",
       "stds_number                           0.122378\n",
       "stds                                  0.122378\n",
       "n_pregnancies                         0.065268\n",
       "n_sexual_partners                     0.030303\n",
       "smokes_packs_year                     0.015152\n",
       "smokes_years                          0.015152\n",
       "smokes                                0.015152\n",
       "first_sexual_intercourse              0.008159\n",
       "dx                                    0.000000\n",
       "citology                              0.000000\n",
       "schiller                              0.000000\n",
       "hinselmann                            0.000000\n",
       "age                                   0.000000\n",
       "dx_hpv                                0.000000\n",
       "dx_cin                                0.000000\n",
       "dx_cancer                             0.000000\n",
       "stds_n_diagnosis                      0.000000\n",
       "biopsy                                0.000000\n",
       "dtype: float64"
      ]
     },
     "execution_count": 59,
     "metadata": {},
     "output_type": "execute_result"
    }
   ],
   "source": [
    "df.isna().mean().sort_values(ascending = False)"
   ]
  },
  {
   "attachments": {},
   "cell_type": "markdown",
   "metadata": {},
   "source": [
    "A few observations should be made here:\n",
    "\n",
    "1. The two `time_since...` variables have too much missingness to handle, so they'll need to be dropped. \n",
    "\n",
    "2. The various `stds_...` columns all have identical missingness rates. There is a very high chance that patients who don't answer for one STD don't answer for any. This is a good reason to have an indicator variable for whether or not the STD columns were missing: with a single variable, we'll fit a constant term indicating whether they responded or not to the STD questions. Non-response could very well predict cancer, as these individuals may be at greater risk for STDs, which would then increase chances of cancer."
   ]
  },
  {
   "cell_type": "code",
   "execution_count": 60,
   "metadata": {},
   "outputs": [],
   "source": [
    "# Drop the time since diagnoses variables, as stated in (1) above\n",
    "df.drop(df.columns.values[df.columns.str.startswith(\"stds_time\")], axis = 1, inplace = True)"
   ]
  },
  {
   "attachments": {},
   "cell_type": "markdown",
   "metadata": {},
   "source": [
    "## Basic variable description\n",
    "Next, its a good idea to get basic descriptives on the data to identify any clear distributional problems. In addition to summary stats, I also append the sum of values in each column. This helps to get counts for binary variables, instead of just proportions. "
   ]
  },
  {
   "cell_type": "code",
   "execution_count": 61,
   "metadata": {},
   "outputs": [
    {
     "data": {
      "text/html": [
       "<div>\n",
       "<style scoped>\n",
       "    .dataframe tbody tr th:only-of-type {\n",
       "        vertical-align: middle;\n",
       "    }\n",
       "\n",
       "    .dataframe tbody tr th {\n",
       "        vertical-align: top;\n",
       "    }\n",
       "\n",
       "    .dataframe thead th {\n",
       "        text-align: right;\n",
       "    }\n",
       "</style>\n",
       "<table border=\"1\" class=\"dataframe\">\n",
       "  <thead>\n",
       "    <tr style=\"text-align: right;\">\n",
       "      <th></th>\n",
       "      <th>count</th>\n",
       "      <th>mean</th>\n",
       "      <th>std</th>\n",
       "      <th>min</th>\n",
       "      <th>25%</th>\n",
       "      <th>50%</th>\n",
       "      <th>75%</th>\n",
       "      <th>max</th>\n",
       "      <th>0</th>\n",
       "    </tr>\n",
       "  </thead>\n",
       "  <tbody>\n",
       "    <tr>\n",
       "      <th>age</th>\n",
       "      <td>858.0</td>\n",
       "      <td>26.820513</td>\n",
       "      <td>8.497948</td>\n",
       "      <td>13.0</td>\n",
       "      <td>20.0</td>\n",
       "      <td>25.0</td>\n",
       "      <td>32.0</td>\n",
       "      <td>84.0</td>\n",
       "      <td>23012.000000</td>\n",
       "    </tr>\n",
       "    <tr>\n",
       "      <th>n_sexual_partners</th>\n",
       "      <td>832.0</td>\n",
       "      <td>2.527644</td>\n",
       "      <td>1.66776</td>\n",
       "      <td>1.0</td>\n",
       "      <td>2.0</td>\n",
       "      <td>2.0</td>\n",
       "      <td>3.0</td>\n",
       "      <td>28.0</td>\n",
       "      <td>2103.000000</td>\n",
       "    </tr>\n",
       "    <tr>\n",
       "      <th>first_sexual_intercourse</th>\n",
       "      <td>851.0</td>\n",
       "      <td>16.9953</td>\n",
       "      <td>2.803355</td>\n",
       "      <td>10.0</td>\n",
       "      <td>15.0</td>\n",
       "      <td>17.0</td>\n",
       "      <td>18.0</td>\n",
       "      <td>32.0</td>\n",
       "      <td>14463.000000</td>\n",
       "    </tr>\n",
       "    <tr>\n",
       "      <th>n_pregnancies</th>\n",
       "      <td>802.0</td>\n",
       "      <td>2.275561</td>\n",
       "      <td>1.447414</td>\n",
       "      <td>0.0</td>\n",
       "      <td>1.0</td>\n",
       "      <td>2.0</td>\n",
       "      <td>3.0</td>\n",
       "      <td>11.0</td>\n",
       "      <td>1825.000000</td>\n",
       "    </tr>\n",
       "    <tr>\n",
       "      <th>smokes</th>\n",
       "      <td>845.0</td>\n",
       "      <td>0.145562</td>\n",
       "      <td>0.352876</td>\n",
       "      <td>0.0</td>\n",
       "      <td>0.0</td>\n",
       "      <td>0.0</td>\n",
       "      <td>0.0</td>\n",
       "      <td>1.0</td>\n",
       "      <td>123.000000</td>\n",
       "    </tr>\n",
       "    <tr>\n",
       "      <th>smokes_years</th>\n",
       "      <td>845.0</td>\n",
       "      <td>1.219721</td>\n",
       "      <td>4.089017</td>\n",
       "      <td>0.0</td>\n",
       "      <td>0.0</td>\n",
       "      <td>0.0</td>\n",
       "      <td>0.0</td>\n",
       "      <td>37.0</td>\n",
       "      <td>1030.664594</td>\n",
       "    </tr>\n",
       "    <tr>\n",
       "      <th>smokes_packs_year</th>\n",
       "      <td>845.0</td>\n",
       "      <td>0.453144</td>\n",
       "      <td>2.22661</td>\n",
       "      <td>0.0</td>\n",
       "      <td>0.0</td>\n",
       "      <td>0.0</td>\n",
       "      <td>0.0</td>\n",
       "      <td>37.0</td>\n",
       "      <td>382.906638</td>\n",
       "    </tr>\n",
       "    <tr>\n",
       "      <th>hormonal_bc</th>\n",
       "      <td>750.0</td>\n",
       "      <td>0.641333</td>\n",
       "      <td>0.479929</td>\n",
       "      <td>0.0</td>\n",
       "      <td>0.0</td>\n",
       "      <td>1.0</td>\n",
       "      <td>1.0</td>\n",
       "      <td>1.0</td>\n",
       "      <td>481.000000</td>\n",
       "    </tr>\n",
       "    <tr>\n",
       "      <th>hormonal_bc_years</th>\n",
       "      <td>750.0</td>\n",
       "      <td>2.256419</td>\n",
       "      <td>3.764254</td>\n",
       "      <td>0.0</td>\n",
       "      <td>0.0</td>\n",
       "      <td>0.5</td>\n",
       "      <td>3.0</td>\n",
       "      <td>30.0</td>\n",
       "      <td>1692.314401</td>\n",
       "    </tr>\n",
       "    <tr>\n",
       "      <th>iud</th>\n",
       "      <td>741.0</td>\n",
       "      <td>0.112011</td>\n",
       "      <td>0.315593</td>\n",
       "      <td>0.0</td>\n",
       "      <td>0.0</td>\n",
       "      <td>0.0</td>\n",
       "      <td>0.0</td>\n",
       "      <td>1.0</td>\n",
       "      <td>83.000000</td>\n",
       "    </tr>\n",
       "    <tr>\n",
       "      <th>iud_years</th>\n",
       "      <td>741.0</td>\n",
       "      <td>0.514804</td>\n",
       "      <td>1.943089</td>\n",
       "      <td>0.0</td>\n",
       "      <td>0.0</td>\n",
       "      <td>0.0</td>\n",
       "      <td>0.0</td>\n",
       "      <td>19.0</td>\n",
       "      <td>381.470000</td>\n",
       "    </tr>\n",
       "    <tr>\n",
       "      <th>stds</th>\n",
       "      <td>753.0</td>\n",
       "      <td>0.104914</td>\n",
       "      <td>0.306646</td>\n",
       "      <td>0.0</td>\n",
       "      <td>0.0</td>\n",
       "      <td>0.0</td>\n",
       "      <td>0.0</td>\n",
       "      <td>1.0</td>\n",
       "      <td>79.000000</td>\n",
       "    </tr>\n",
       "    <tr>\n",
       "      <th>stds_number</th>\n",
       "      <td>753.0</td>\n",
       "      <td>0.176627</td>\n",
       "      <td>0.561993</td>\n",
       "      <td>0.0</td>\n",
       "      <td>0.0</td>\n",
       "      <td>0.0</td>\n",
       "      <td>0.0</td>\n",
       "      <td>4.0</td>\n",
       "      <td>133.000000</td>\n",
       "    </tr>\n",
       "    <tr>\n",
       "      <th>stds_condylomatosis</th>\n",
       "      <td>753.0</td>\n",
       "      <td>0.058433</td>\n",
       "      <td>0.234716</td>\n",
       "      <td>0.0</td>\n",
       "      <td>0.0</td>\n",
       "      <td>0.0</td>\n",
       "      <td>0.0</td>\n",
       "      <td>1.0</td>\n",
       "      <td>44.000000</td>\n",
       "    </tr>\n",
       "    <tr>\n",
       "      <th>stds_cervical_condylomatosis</th>\n",
       "      <td>753.0</td>\n",
       "      <td>0.0</td>\n",
       "      <td>0.0</td>\n",
       "      <td>0.0</td>\n",
       "      <td>0.0</td>\n",
       "      <td>0.0</td>\n",
       "      <td>0.0</td>\n",
       "      <td>0.0</td>\n",
       "      <td>0.000000</td>\n",
       "    </tr>\n",
       "    <tr>\n",
       "      <th>stds_vaginal_condylomatosis</th>\n",
       "      <td>753.0</td>\n",
       "      <td>0.005312</td>\n",
       "      <td>0.072739</td>\n",
       "      <td>0.0</td>\n",
       "      <td>0.0</td>\n",
       "      <td>0.0</td>\n",
       "      <td>0.0</td>\n",
       "      <td>1.0</td>\n",
       "      <td>4.000000</td>\n",
       "    </tr>\n",
       "    <tr>\n",
       "      <th>stds_vulvo_perineal_condylomatosis</th>\n",
       "      <td>753.0</td>\n",
       "      <td>0.057105</td>\n",
       "      <td>0.232197</td>\n",
       "      <td>0.0</td>\n",
       "      <td>0.0</td>\n",
       "      <td>0.0</td>\n",
       "      <td>0.0</td>\n",
       "      <td>1.0</td>\n",
       "      <td>43.000000</td>\n",
       "    </tr>\n",
       "    <tr>\n",
       "      <th>stds_syphilis</th>\n",
       "      <td>753.0</td>\n",
       "      <td>0.023904</td>\n",
       "      <td>0.152853</td>\n",
       "      <td>0.0</td>\n",
       "      <td>0.0</td>\n",
       "      <td>0.0</td>\n",
       "      <td>0.0</td>\n",
       "      <td>1.0</td>\n",
       "      <td>18.000000</td>\n",
       "    </tr>\n",
       "    <tr>\n",
       "      <th>stds_pelvic_inflammatory_disease</th>\n",
       "      <td>753.0</td>\n",
       "      <td>0.001328</td>\n",
       "      <td>0.036442</td>\n",
       "      <td>0.0</td>\n",
       "      <td>0.0</td>\n",
       "      <td>0.0</td>\n",
       "      <td>0.0</td>\n",
       "      <td>1.0</td>\n",
       "      <td>1.000000</td>\n",
       "    </tr>\n",
       "    <tr>\n",
       "      <th>stds_genital_herpes</th>\n",
       "      <td>753.0</td>\n",
       "      <td>0.001328</td>\n",
       "      <td>0.036442</td>\n",
       "      <td>0.0</td>\n",
       "      <td>0.0</td>\n",
       "      <td>0.0</td>\n",
       "      <td>0.0</td>\n",
       "      <td>1.0</td>\n",
       "      <td>1.000000</td>\n",
       "    </tr>\n",
       "    <tr>\n",
       "      <th>stds_molluscum_contagiosum</th>\n",
       "      <td>753.0</td>\n",
       "      <td>0.001328</td>\n",
       "      <td>0.036442</td>\n",
       "      <td>0.0</td>\n",
       "      <td>0.0</td>\n",
       "      <td>0.0</td>\n",
       "      <td>0.0</td>\n",
       "      <td>1.0</td>\n",
       "      <td>1.000000</td>\n",
       "    </tr>\n",
       "    <tr>\n",
       "      <th>stds_aids</th>\n",
       "      <td>753.0</td>\n",
       "      <td>0.0</td>\n",
       "      <td>0.0</td>\n",
       "      <td>0.0</td>\n",
       "      <td>0.0</td>\n",
       "      <td>0.0</td>\n",
       "      <td>0.0</td>\n",
       "      <td>0.0</td>\n",
       "      <td>0.000000</td>\n",
       "    </tr>\n",
       "    <tr>\n",
       "      <th>stds_hiv</th>\n",
       "      <td>753.0</td>\n",
       "      <td>0.023904</td>\n",
       "      <td>0.152853</td>\n",
       "      <td>0.0</td>\n",
       "      <td>0.0</td>\n",
       "      <td>0.0</td>\n",
       "      <td>0.0</td>\n",
       "      <td>1.0</td>\n",
       "      <td>18.000000</td>\n",
       "    </tr>\n",
       "    <tr>\n",
       "      <th>stds_hepatitis_b</th>\n",
       "      <td>753.0</td>\n",
       "      <td>0.001328</td>\n",
       "      <td>0.036442</td>\n",
       "      <td>0.0</td>\n",
       "      <td>0.0</td>\n",
       "      <td>0.0</td>\n",
       "      <td>0.0</td>\n",
       "      <td>1.0</td>\n",
       "      <td>1.000000</td>\n",
       "    </tr>\n",
       "    <tr>\n",
       "      <th>stds_hpv</th>\n",
       "      <td>753.0</td>\n",
       "      <td>0.002656</td>\n",
       "      <td>0.051503</td>\n",
       "      <td>0.0</td>\n",
       "      <td>0.0</td>\n",
       "      <td>0.0</td>\n",
       "      <td>0.0</td>\n",
       "      <td>1.0</td>\n",
       "      <td>2.000000</td>\n",
       "    </tr>\n",
       "    <tr>\n",
       "      <th>stds_n_diagnosis</th>\n",
       "      <td>858.0</td>\n",
       "      <td>0.087413</td>\n",
       "      <td>0.302545</td>\n",
       "      <td>0.0</td>\n",
       "      <td>0.0</td>\n",
       "      <td>0.0</td>\n",
       "      <td>0.0</td>\n",
       "      <td>3.0</td>\n",
       "      <td>75.000000</td>\n",
       "    </tr>\n",
       "    <tr>\n",
       "      <th>dx_cancer</th>\n",
       "      <td>858.0</td>\n",
       "      <td>0.020979</td>\n",
       "      <td>0.143398</td>\n",
       "      <td>0.0</td>\n",
       "      <td>0.0</td>\n",
       "      <td>0.0</td>\n",
       "      <td>0.0</td>\n",
       "      <td>1.0</td>\n",
       "      <td>18.000000</td>\n",
       "    </tr>\n",
       "    <tr>\n",
       "      <th>dx_cin</th>\n",
       "      <td>858.0</td>\n",
       "      <td>0.01049</td>\n",
       "      <td>0.101939</td>\n",
       "      <td>0.0</td>\n",
       "      <td>0.0</td>\n",
       "      <td>0.0</td>\n",
       "      <td>0.0</td>\n",
       "      <td>1.0</td>\n",
       "      <td>9.000000</td>\n",
       "    </tr>\n",
       "    <tr>\n",
       "      <th>dx_hpv</th>\n",
       "      <td>858.0</td>\n",
       "      <td>0.020979</td>\n",
       "      <td>0.143398</td>\n",
       "      <td>0.0</td>\n",
       "      <td>0.0</td>\n",
       "      <td>0.0</td>\n",
       "      <td>0.0</td>\n",
       "      <td>1.0</td>\n",
       "      <td>18.000000</td>\n",
       "    </tr>\n",
       "    <tr>\n",
       "      <th>dx</th>\n",
       "      <td>858.0</td>\n",
       "      <td>0.027972</td>\n",
       "      <td>0.164989</td>\n",
       "      <td>0.0</td>\n",
       "      <td>0.0</td>\n",
       "      <td>0.0</td>\n",
       "      <td>0.0</td>\n",
       "      <td>1.0</td>\n",
       "      <td>24.000000</td>\n",
       "    </tr>\n",
       "    <tr>\n",
       "      <th>hinselmann</th>\n",
       "      <td>858.0</td>\n",
       "      <td>0.040793</td>\n",
       "      <td>0.197925</td>\n",
       "      <td>0.0</td>\n",
       "      <td>0.0</td>\n",
       "      <td>0.0</td>\n",
       "      <td>0.0</td>\n",
       "      <td>1.0</td>\n",
       "      <td>35.000000</td>\n",
       "    </tr>\n",
       "    <tr>\n",
       "      <th>schiller</th>\n",
       "      <td>858.0</td>\n",
       "      <td>0.086247</td>\n",
       "      <td>0.280892</td>\n",
       "      <td>0.0</td>\n",
       "      <td>0.0</td>\n",
       "      <td>0.0</td>\n",
       "      <td>0.0</td>\n",
       "      <td>1.0</td>\n",
       "      <td>74.000000</td>\n",
       "    </tr>\n",
       "    <tr>\n",
       "      <th>citology</th>\n",
       "      <td>858.0</td>\n",
       "      <td>0.051282</td>\n",
       "      <td>0.220701</td>\n",
       "      <td>0.0</td>\n",
       "      <td>0.0</td>\n",
       "      <td>0.0</td>\n",
       "      <td>0.0</td>\n",
       "      <td>1.0</td>\n",
       "      <td>44.000000</td>\n",
       "    </tr>\n",
       "    <tr>\n",
       "      <th>biopsy</th>\n",
       "      <td>858.0</td>\n",
       "      <td>0.064103</td>\n",
       "      <td>0.245078</td>\n",
       "      <td>0.0</td>\n",
       "      <td>0.0</td>\n",
       "      <td>0.0</td>\n",
       "      <td>0.0</td>\n",
       "      <td>1.0</td>\n",
       "      <td>55.000000</td>\n",
       "    </tr>\n",
       "  </tbody>\n",
       "</table>\n",
       "</div>"
      ],
      "text/plain": [
       "                                    count       mean       std   min   25%  \\\n",
       "age                                 858.0  26.820513  8.497948  13.0  20.0   \n",
       "n_sexual_partners                   832.0   2.527644   1.66776   1.0   2.0   \n",
       "first_sexual_intercourse            851.0    16.9953  2.803355  10.0  15.0   \n",
       "n_pregnancies                       802.0   2.275561  1.447414   0.0   1.0   \n",
       "smokes                              845.0   0.145562  0.352876   0.0   0.0   \n",
       "smokes_years                        845.0   1.219721  4.089017   0.0   0.0   \n",
       "smokes_packs_year                   845.0   0.453144   2.22661   0.0   0.0   \n",
       "hormonal_bc                         750.0   0.641333  0.479929   0.0   0.0   \n",
       "hormonal_bc_years                   750.0   2.256419  3.764254   0.0   0.0   \n",
       "iud                                 741.0   0.112011  0.315593   0.0   0.0   \n",
       "iud_years                           741.0   0.514804  1.943089   0.0   0.0   \n",
       "stds                                753.0   0.104914  0.306646   0.0   0.0   \n",
       "stds_number                         753.0   0.176627  0.561993   0.0   0.0   \n",
       "stds_condylomatosis                 753.0   0.058433  0.234716   0.0   0.0   \n",
       "stds_cervical_condylomatosis        753.0        0.0       0.0   0.0   0.0   \n",
       "stds_vaginal_condylomatosis         753.0   0.005312  0.072739   0.0   0.0   \n",
       "stds_vulvo_perineal_condylomatosis  753.0   0.057105  0.232197   0.0   0.0   \n",
       "stds_syphilis                       753.0   0.023904  0.152853   0.0   0.0   \n",
       "stds_pelvic_inflammatory_disease    753.0   0.001328  0.036442   0.0   0.0   \n",
       "stds_genital_herpes                 753.0   0.001328  0.036442   0.0   0.0   \n",
       "stds_molluscum_contagiosum          753.0   0.001328  0.036442   0.0   0.0   \n",
       "stds_aids                           753.0        0.0       0.0   0.0   0.0   \n",
       "stds_hiv                            753.0   0.023904  0.152853   0.0   0.0   \n",
       "stds_hepatitis_b                    753.0   0.001328  0.036442   0.0   0.0   \n",
       "stds_hpv                            753.0   0.002656  0.051503   0.0   0.0   \n",
       "stds_n_diagnosis                    858.0   0.087413  0.302545   0.0   0.0   \n",
       "dx_cancer                           858.0   0.020979  0.143398   0.0   0.0   \n",
       "dx_cin                              858.0    0.01049  0.101939   0.0   0.0   \n",
       "dx_hpv                              858.0   0.020979  0.143398   0.0   0.0   \n",
       "dx                                  858.0   0.027972  0.164989   0.0   0.0   \n",
       "hinselmann                          858.0   0.040793  0.197925   0.0   0.0   \n",
       "schiller                            858.0   0.086247  0.280892   0.0   0.0   \n",
       "citology                            858.0   0.051282  0.220701   0.0   0.0   \n",
       "biopsy                              858.0   0.064103  0.245078   0.0   0.0   \n",
       "\n",
       "                                     50%   75%   max             0  \n",
       "age                                 25.0  32.0  84.0  23012.000000  \n",
       "n_sexual_partners                    2.0   3.0  28.0   2103.000000  \n",
       "first_sexual_intercourse            17.0  18.0  32.0  14463.000000  \n",
       "n_pregnancies                        2.0   3.0  11.0   1825.000000  \n",
       "smokes                               0.0   0.0   1.0    123.000000  \n",
       "smokes_years                         0.0   0.0  37.0   1030.664594  \n",
       "smokes_packs_year                    0.0   0.0  37.0    382.906638  \n",
       "hormonal_bc                          1.0   1.0   1.0    481.000000  \n",
       "hormonal_bc_years                    0.5   3.0  30.0   1692.314401  \n",
       "iud                                  0.0   0.0   1.0     83.000000  \n",
       "iud_years                            0.0   0.0  19.0    381.470000  \n",
       "stds                                 0.0   0.0   1.0     79.000000  \n",
       "stds_number                          0.0   0.0   4.0    133.000000  \n",
       "stds_condylomatosis                  0.0   0.0   1.0     44.000000  \n",
       "stds_cervical_condylomatosis         0.0   0.0   0.0      0.000000  \n",
       "stds_vaginal_condylomatosis          0.0   0.0   1.0      4.000000  \n",
       "stds_vulvo_perineal_condylomatosis   0.0   0.0   1.0     43.000000  \n",
       "stds_syphilis                        0.0   0.0   1.0     18.000000  \n",
       "stds_pelvic_inflammatory_disease     0.0   0.0   1.0      1.000000  \n",
       "stds_genital_herpes                  0.0   0.0   1.0      1.000000  \n",
       "stds_molluscum_contagiosum           0.0   0.0   1.0      1.000000  \n",
       "stds_aids                            0.0   0.0   0.0      0.000000  \n",
       "stds_hiv                             0.0   0.0   1.0     18.000000  \n",
       "stds_hepatitis_b                     0.0   0.0   1.0      1.000000  \n",
       "stds_hpv                             0.0   0.0   1.0      2.000000  \n",
       "stds_n_diagnosis                     0.0   0.0   3.0     75.000000  \n",
       "dx_cancer                            0.0   0.0   1.0     18.000000  \n",
       "dx_cin                               0.0   0.0   1.0      9.000000  \n",
       "dx_hpv                               0.0   0.0   1.0     18.000000  \n",
       "dx                                   0.0   0.0   1.0     24.000000  \n",
       "hinselmann                           0.0   0.0   1.0     35.000000  \n",
       "schiller                             0.0   0.0   1.0     74.000000  \n",
       "citology                             0.0   0.0   1.0     44.000000  \n",
       "biopsy                               0.0   0.0   1.0     55.000000  "
      ]
     },
     "execution_count": 61,
     "metadata": {},
     "output_type": "execute_result"
    }
   ],
   "source": [
    "pd.concat([df.describe().T, df.sum(axis = 0)], axis = 1)"
   ]
  },
  {
   "attachments": {},
   "cell_type": "markdown",
   "metadata": {},
   "source": [
    "Again, a few observations can be made:\n",
    "\n",
    "1. The `stds_cervical_condylomatosis` and `stds_aids` variables are constant, and will therefore be dropped. \n",
    "2. The `dx_...` and several of the other `stds_...` variables are rare/imbalanced. This will pose problems for us given the small size of this dataset, because we'll have to use nested cross validation to tune hyperparameters, and obtain risk estimates. Thus, ther is a high chance that after splitting data for cross validation, all of the positive values for these indicators will be in either the training or hold out fold. In other words, we will train a model on a constant in many cases of all postive values end up in the test fold. \n",
    "3. The three variables that index `..._years` are non-integers; i.e., they are decimal years. This can be seen by looking at the final column, which is the sum over all values of the indicated variable. The loss functions we choose for imputing these values will need to respect the fact that the support for these `..._years` variables is not strictly integers. \n",
    "\n",
    "This last point can also be verified by checking the modulus, although the sum being a non-integer is sufficient:"
   ]
  },
  {
   "cell_type": "code",
   "execution_count": 62,
   "metadata": {},
   "outputs": [
    {
     "data": {
      "text/plain": [
       "age                                    True\n",
       "n_sexual_partners                      True\n",
       "first_sexual_intercourse               True\n",
       "n_pregnancies                          True\n",
       "smokes                                 True\n",
       "smokes_years                          False\n",
       "smokes_packs_year                     False\n",
       "hormonal_bc                            True\n",
       "hormonal_bc_years                     False\n",
       "iud                                    True\n",
       "iud_years                             False\n",
       "stds                                   True\n",
       "stds_number                            True\n",
       "stds_condylomatosis                    True\n",
       "stds_cervical_condylomatosis           True\n",
       "stds_vaginal_condylomatosis            True\n",
       "stds_vulvo_perineal_condylomatosis     True\n",
       "stds_syphilis                          True\n",
       "stds_pelvic_inflammatory_disease       True\n",
       "stds_genital_herpes                    True\n",
       "stds_molluscum_contagiosum             True\n",
       "stds_aids                              True\n",
       "stds_hiv                               True\n",
       "stds_hepatitis_b                       True\n",
       "stds_hpv                               True\n",
       "stds_n_diagnosis                       True\n",
       "dx_cancer                              True\n",
       "dx_cin                                 True\n",
       "dx_hpv                                 True\n",
       "dx                                     True\n",
       "hinselmann                             True\n",
       "schiller                               True\n",
       "citology                               True\n",
       "biopsy                                 True\n",
       "dtype: bool"
      ]
     },
     "execution_count": 62,
     "metadata": {},
     "output_type": "execute_result"
    }
   ],
   "source": [
    "df_mod = df % 1 == 0\n",
    "df_mod.all(axis = 0)"
   ]
  },
  {
   "cell_type": "code",
   "execution_count": 63,
   "metadata": {},
   "outputs": [
    {
     "name": "stdout",
     "output_type": "stream",
     "text": [
      "Deleting constant columns: ['stds_cervical_condylomatosis' 'stds_aids']\n"
     ]
    }
   ],
   "source": [
    "# Dropping the constant columns, as stated in (1) above. \n",
    "const = df.nunique() == 1\n",
    "\n",
    "if any(const):\n",
    "    print(\"Deleting constant columns: {}\".format(df.columns.values[const]))\n",
    "    df.drop(df.columns.values[const], axis = 1, inplace = True)"
   ]
  },
  {
   "attachments": {},
   "cell_type": "markdown",
   "metadata": {},
   "source": [
    "## Iud/smoking/HBC years are always >0 if you have IUD/smoke/HBC.\n",
    "\n",
    "Notice also that we have columns like `iud` and `iud_years` or `smokes` and `smokes_years`. In theory then, `iud_years` should always be zero if `iud == 0` as well as with the smoking variables, given that the years variables are in fact decimal years. I'll check to make sure:"
   ]
  },
  {
   "cell_type": "code",
   "execution_count": 64,
   "metadata": {},
   "outputs": [],
   "source": [
    "def check_zerotrunc(df, bin_col, yr_col):\n",
    "    return np.any((df[bin_col] == 0) & (df[yr_col] > 0))"
   ]
  },
  {
   "cell_type": "code",
   "execution_count": 65,
   "metadata": {},
   "outputs": [
    {
     "name": "stdout",
     "output_type": "stream",
     "text": [
      "iud == 0 when iud_years > 0? False\n",
      "smokes == 0 when smokes_years > 0? False\n",
      "hormonal_bc == 0 when hormonal_bc_years > 0? False\n"
     ]
    }
   ],
   "source": [
    "bin_cols = [\"iud\", \"smokes\", \"hormonal_bc\"]\n",
    "yr_cols = [\"iud_years\", \"smokes_years\", \"hormonal_bc_years\"]\n",
    "\n",
    "for bin, yr in zip(bin_cols, yr_cols):\n",
    "    print(f\"{bin} == 0 when {yr} > 0?\", check_zerotrunc(df, bin, yr))"
   ]
  },
  {
   "attachments": {},
   "cell_type": "markdown",
   "metadata": {},
   "source": [
    "As suspected, IUD is always zero when years are zero, as is the case with the smoking and hormonal birth control variables. In other words, the indicator variables are redundant: if a person has greater than 0 years for any of these variables, then we know for certain that they have the iud, they smoke, or have hormonal birth control. You can also verify the converse: when a patient has the positive indiator for IUD, smoking, or hormonal BC, they always have non-zero years for these variables. \n",
    "\n",
    "For some classification algorithms, this is no problem; for some, it is. In any case, the variables carry redundant information, so I drop the indicators and keep the year variables. "
   ]
  },
  {
   "attachments": {},
   "cell_type": "markdown",
   "metadata": {},
   "source": [
    "## Verify that the count of stds is linear combination of all std columns. "
   ]
  },
  {
   "attachments": {},
   "cell_type": "markdown",
   "metadata": {},
   "source": [
    "Notice also that we have several variables that are indicators for stds, as well as a variable for the number of stds. In theory, if the data are what we think they are, then the sum over all stds columns should be equal to the total number of stds for each patient. Checking this below shows that this is indeed the case, giving some confidence that we're thinking about these columns in the right way. "
   ]
  },
  {
   "cell_type": "code",
   "execution_count": 66,
   "metadata": {},
   "outputs": [
    {
     "data": {
      "text/plain": [
       "True"
      ]
     },
     "execution_count": 66,
     "metadata": {},
     "output_type": "execute_result"
    }
   ],
   "source": [
    "all(\n",
    "    (df[df.columns[df.columns.str.startswith(\"stds_\")]].drop([\n",
    "        \"stds_n_diagnosis\", \"stds_number\"]\n",
    "        , axis = 1).sum(axis = 1)\n",
    "        == df.stds_number).dropna()\n",
    ")"
   ]
  },
  {
   "attachments": {},
   "cell_type": "markdown",
   "metadata": {},
   "source": [
    "## Verify that boolean `stds` column is always 1 if count `stds_number` column is non-zero"
   ]
  },
  {
   "attachments": {},
   "cell_type": "markdown",
   "metadata": {},
   "source": [
    "There is also a column simply titled `stds`, which is binary. To verify that `stds_number` is likely the current number of STDs, we can check if the `stds_number` variable is always greater than 0 when the `stds` column is non-zero, and the converse. "
   ]
  },
  {
   "cell_type": "code",
   "execution_count": 67,
   "metadata": {},
   "outputs": [
    {
     "name": "stdout",
     "output_type": "stream",
     "text": [
      "False\n",
      "False\n"
     ]
    }
   ],
   "source": [
    "print(\n",
    "    any((df.stds.dropna() == 0) & (df.stds_number.dropna() > 0)),\n",
    "    any((df.stds.dropna() == 1) & (df.stds_number.dropna() == 0)),\n",
    "    sep = '\\n'\n",
    ")"
   ]
  },
  {
   "attachments": {},
   "cell_type": "markdown",
   "metadata": {},
   "source": [
    "Given that the `stds` variable just indicates the presence of any STD, we'll for sure be dropping this variable as that information is redundant."
   ]
  },
  {
   "attachments": {},
   "cell_type": "markdown",
   "metadata": {},
   "source": [
    "## Combine low-proportion columns to avoid issues during cross validation\n",
    "\n",
    "In this analysis, we'll eventually be doing k-fold cross validation. Because of the small sample size, dummy variables with low proportions (i.e., \"balance\") will sometimes end up with all positive (or negative) instances being in the training or test fold, which causes issues. So, I combine some std and previous diagnoses columns to avoid this, as was discussed earlier. What we'll do is create two indicator variables, one for condylomatosis-related STDs, and one for all other STDs. This results in greater balance to avoid issues with constant columns during cross validation, but also preserves some of the information about the type of STD, namely those related to condyloma, which is often associated with genital cancers. \n",
    "\n",
    "For similar reasons, the previous diagnoses variables are combined into a single variable indicating any previous cervical diagnosis, regardless of its type."
   ]
  },
  {
   "cell_type": "code",
   "execution_count": 68,
   "metadata": {},
   "outputs": [
    {
     "data": {
      "text/plain": [
       "Index(['stds_number', 'stds_condylomatosis', 'stds_vaginal_condylomatosis',\n",
       "       'stds_vulvo_perineal_condylomatosis', 'stds_syphilis',\n",
       "       'stds_pelvic_inflammatory_disease', 'stds_genital_herpes',\n",
       "       'stds_molluscum_contagiosum', 'stds_hiv', 'stds_hepatitis_b',\n",
       "       'stds_hpv', 'stds_n_diagnosis'],\n",
       "      dtype='object')"
      ]
     },
     "execution_count": 68,
     "metadata": {},
     "output_type": "execute_result"
    }
   ],
   "source": [
    "df.columns[df.columns.str.contains(\"stds_\")]"
   ]
  },
  {
   "cell_type": "code",
   "execution_count": 69,
   "metadata": {},
   "outputs": [],
   "source": [
    "# get two masks, one for condylomas, and one for all STDs\n",
    "condy_mask = df.columns.str.contains(\"condy\")\n",
    "std_mask = (df.columns.str.startswith(\"stds_\")) & (~df.columns.str.startswith(\"stds_n\"))\n",
    "\n",
    "# Get the names of condyloma stds, and names for all other stds\n",
    "condy = df.columns[condy_mask]\n",
    "stds = df.columns[std_mask]\n",
    "not_condy = df.columns[(~condy_mask) & (std_mask)]"
   ]
  },
  {
   "cell_type": "code",
   "execution_count": 70,
   "metadata": {},
   "outputs": [],
   "source": [
    "# Compute max over the entire set of condyloma or other STDs in order to get an indicator for each category.\n",
    "stds_condy = df[condy].max(axis = 1)\n",
    "stds_other = df[not_condy].max(axis = 1)"
   ]
  },
  {
   "cell_type": "code",
   "execution_count": 71,
   "metadata": {},
   "outputs": [],
   "source": [
    "# drop old STD vars, add new ones to DF\n",
    "df = df.drop(stds, axis = 1)\n",
    "df = df.drop(\"stds\", axis = 1)\n",
    "df[\"stds_condy\"] = stds_condy\n",
    "df[\"stds_other\"] = stds_other"
   ]
  },
  {
   "cell_type": "code",
   "execution_count": 72,
   "metadata": {},
   "outputs": [],
   "source": [
    "# combine the previous dx columns into one, in the same way as we did for STDs: get a mask, subset columns, take max, replace.\n",
    "dx_mask = df.columns.str.startswith(\"dx\")\n",
    "dx = df.columns[dx_mask]\n",
    "\n",
    "dx_any = df[dx].max(axis = 1)\n",
    "\n",
    "df = df.drop(dx, axis = 1)\n",
    "\n",
    "df[\"dx_any\"] = dx_any"
   ]
  },
  {
   "attachments": {},
   "cell_type": "markdown",
   "metadata": {},
   "source": [
    "## Drop n_diagnosis col\n",
    "\n",
    "As was already mentioned, the `stds_n_diagnosis` column is not well understood, and is therefore dropped. "
   ]
  },
  {
   "cell_type": "code",
   "execution_count": 73,
   "metadata": {},
   "outputs": [],
   "source": [
    "df.drop([\"stds_n_diagnosis\"], axis = 1, inplace = True)"
   ]
  },
  {
   "attachments": {},
   "cell_type": "markdown",
   "metadata": {},
   "source": [
    "## Correlations\n",
    "\n",
    "We'll also quickly check for collinearity. \n",
    "\n",
    "1. Looks like the two STD indicators we created are highly related to the count of the number of STDs, which of course makes sense as you can't have non-zero STDs without one of these indicators being positive. \n",
    "\n",
    "2. Additionaly, each of the tests (e.g., citology, Schiller, etc) are related, which is to be expected. Each test has its own false positive rate, but in general they should agree more so than by chance. \n",
    "\n",
    "3. All of the smoking variables, IUD, and hormonal BC variables are related to eachother. This is again expected, as within each group, the variables are functions of eachother.\n",
    "\n",
    "4. No other strong collinearities are detected."
   ]
  },
  {
   "cell_type": "code",
   "execution_count": 104,
   "metadata": {},
   "outputs": [
    {
     "data": {
      "image/png": "[encoded data removed]",
      "text/plain": [
       "<Figure size 600x600 with 2 Axes>"
      ]
     },
     "metadata": {},
     "output_type": "display_data"
    }
   ],
   "source": [
    "mpl.rcParams['figure.figsize'] = [6, 6]\n",
    "\n",
    "corr = df.corr()\n",
    "cols = corr.columns\n",
    "\n",
    "corrs = sns.heatmap(\n",
    "    corr, \n",
    "    xticklabels = cols,\n",
    "    yticklabels = cols\n",
    ")"
   ]
  },
  {
   "attachments": {},
   "cell_type": "markdown",
   "metadata": {},
   "source": [
    "## Distributions\n",
    "\n",
    "For non-categorical variables, we'll want to get a look at the distributions. We already have an idea of how things will look from the previous summary stats, but visualizing these makes things much clearer. \n",
    "\n",
    "1. Each of the variables has a few outliers, but nothing that should be overly concerning. \n",
    "\n",
    "2. The smoking and hormonal BC years variables have point-masses at zero, as expected based on the earlier analysis of these variables. The `..._years` columns will be zero when the individuals do not participate in these behaviors. Given that most people do not participate, we have a large point mass in each of the two distributions at zero. Notice that basically no one smokes in this sample (or no one reports smoking), so our ability to detect the effect of smoking will be muted. "
   ]
  },
  {
   "cell_type": "code",
   "execution_count": 105,
   "metadata": {},
   "outputs": [
    {
     "data": {
      "image/png": "[encoded data removed]",
      "text/plain": [
       "<Figure size 600x600 with 6 Axes>"
      ]
     },
     "metadata": {},
     "output_type": "display_data"
    }
   ],
   "source": [
    "to_hist = [\"age\", \"n_sexual_partners\", \"first_sexual_intercourse\", \"n_pregnancies\", \"smokes_packs_year\", \"hormonal_bc_years\"]\n",
    "fig, axs = plt.subplots(nrows = 2, ncols = 3)\n",
    "plt.rcParams['figure.figsize'] = [15, 7]\n",
    "for ax, var in zip(axs.ravel(), to_hist): \n",
    "    df[var].plot.hist(bins = 15, ax = ax, title = var)"
   ]
  },
  {
   "attachments": {},
   "cell_type": "markdown",
   "metadata": {},
   "source": [
    "## Final descriptives\n",
    "\n",
    "After all the data manipulation, we'll do one last spot check to make sure things are looking as expected. All binary variables are in fact...binary, missingness rates appear small, and binary variables are not too rare. With maybe the exception of the age variable, there aren't extreme outliers."
   ]
  },
  {
   "cell_type": "code",
   "execution_count": 76,
   "metadata": {},
   "outputs": [
    {
     "data": {
      "text/html": [
       "<div>\n",
       "<style scoped>\n",
       "    .dataframe tbody tr th:only-of-type {\n",
       "        vertical-align: middle;\n",
       "    }\n",
       "\n",
       "    .dataframe tbody tr th {\n",
       "        vertical-align: top;\n",
       "    }\n",
       "\n",
       "    .dataframe thead th {\n",
       "        text-align: right;\n",
       "    }\n",
       "</style>\n",
       "<table border=\"1\" class=\"dataframe\">\n",
       "  <thead>\n",
       "    <tr style=\"text-align: right;\">\n",
       "      <th></th>\n",
       "      <th>count</th>\n",
       "      <th>mean</th>\n",
       "      <th>std</th>\n",
       "      <th>min</th>\n",
       "      <th>25%</th>\n",
       "      <th>50%</th>\n",
       "      <th>75%</th>\n",
       "      <th>max</th>\n",
       "    </tr>\n",
       "  </thead>\n",
       "  <tbody>\n",
       "    <tr>\n",
       "      <th>age</th>\n",
       "      <td>858.0</td>\n",
       "      <td>26.820513</td>\n",
       "      <td>8.497948</td>\n",
       "      <td>13.0</td>\n",
       "      <td>20.0</td>\n",
       "      <td>25.0</td>\n",
       "      <td>32.0</td>\n",
       "      <td>84.0</td>\n",
       "    </tr>\n",
       "    <tr>\n",
       "      <th>n_sexual_partners</th>\n",
       "      <td>832.0</td>\n",
       "      <td>2.527644</td>\n",
       "      <td>1.66776</td>\n",
       "      <td>1.0</td>\n",
       "      <td>2.0</td>\n",
       "      <td>2.0</td>\n",
       "      <td>3.0</td>\n",
       "      <td>28.0</td>\n",
       "    </tr>\n",
       "    <tr>\n",
       "      <th>first_sexual_intercourse</th>\n",
       "      <td>851.0</td>\n",
       "      <td>16.9953</td>\n",
       "      <td>2.803355</td>\n",
       "      <td>10.0</td>\n",
       "      <td>15.0</td>\n",
       "      <td>17.0</td>\n",
       "      <td>18.0</td>\n",
       "      <td>32.0</td>\n",
       "    </tr>\n",
       "    <tr>\n",
       "      <th>n_pregnancies</th>\n",
       "      <td>802.0</td>\n",
       "      <td>2.275561</td>\n",
       "      <td>1.447414</td>\n",
       "      <td>0.0</td>\n",
       "      <td>1.0</td>\n",
       "      <td>2.0</td>\n",
       "      <td>3.0</td>\n",
       "      <td>11.0</td>\n",
       "    </tr>\n",
       "    <tr>\n",
       "      <th>smokes</th>\n",
       "      <td>845.0</td>\n",
       "      <td>0.145562</td>\n",
       "      <td>0.352876</td>\n",
       "      <td>0.0</td>\n",
       "      <td>0.0</td>\n",
       "      <td>0.0</td>\n",
       "      <td>0.0</td>\n",
       "      <td>1.0</td>\n",
       "    </tr>\n",
       "    <tr>\n",
       "      <th>smokes_years</th>\n",
       "      <td>845.0</td>\n",
       "      <td>1.219721</td>\n",
       "      <td>4.089017</td>\n",
       "      <td>0.0</td>\n",
       "      <td>0.0</td>\n",
       "      <td>0.0</td>\n",
       "      <td>0.0</td>\n",
       "      <td>37.0</td>\n",
       "    </tr>\n",
       "    <tr>\n",
       "      <th>smokes_packs_year</th>\n",
       "      <td>845.0</td>\n",
       "      <td>0.453144</td>\n",
       "      <td>2.22661</td>\n",
       "      <td>0.0</td>\n",
       "      <td>0.0</td>\n",
       "      <td>0.0</td>\n",
       "      <td>0.0</td>\n",
       "      <td>37.0</td>\n",
       "    </tr>\n",
       "    <tr>\n",
       "      <th>hormonal_bc</th>\n",
       "      <td>750.0</td>\n",
       "      <td>0.641333</td>\n",
       "      <td>0.479929</td>\n",
       "      <td>0.0</td>\n",
       "      <td>0.0</td>\n",
       "      <td>1.0</td>\n",
       "      <td>1.0</td>\n",
       "      <td>1.0</td>\n",
       "    </tr>\n",
       "    <tr>\n",
       "      <th>hormonal_bc_years</th>\n",
       "      <td>750.0</td>\n",
       "      <td>2.256419</td>\n",
       "      <td>3.764254</td>\n",
       "      <td>0.0</td>\n",
       "      <td>0.0</td>\n",
       "      <td>0.5</td>\n",
       "      <td>3.0</td>\n",
       "      <td>30.0</td>\n",
       "    </tr>\n",
       "    <tr>\n",
       "      <th>iud</th>\n",
       "      <td>741.0</td>\n",
       "      <td>0.112011</td>\n",
       "      <td>0.315593</td>\n",
       "      <td>0.0</td>\n",
       "      <td>0.0</td>\n",
       "      <td>0.0</td>\n",
       "      <td>0.0</td>\n",
       "      <td>1.0</td>\n",
       "    </tr>\n",
       "    <tr>\n",
       "      <th>iud_years</th>\n",
       "      <td>741.0</td>\n",
       "      <td>0.514804</td>\n",
       "      <td>1.943089</td>\n",
       "      <td>0.0</td>\n",
       "      <td>0.0</td>\n",
       "      <td>0.0</td>\n",
       "      <td>0.0</td>\n",
       "      <td>19.0</td>\n",
       "    </tr>\n",
       "    <tr>\n",
       "      <th>stds_number</th>\n",
       "      <td>753.0</td>\n",
       "      <td>0.176627</td>\n",
       "      <td>0.561993</td>\n",
       "      <td>0.0</td>\n",
       "      <td>0.0</td>\n",
       "      <td>0.0</td>\n",
       "      <td>0.0</td>\n",
       "      <td>4.0</td>\n",
       "    </tr>\n",
       "    <tr>\n",
       "      <th>hinselmann</th>\n",
       "      <td>858.0</td>\n",
       "      <td>0.040793</td>\n",
       "      <td>0.197925</td>\n",
       "      <td>0.0</td>\n",
       "      <td>0.0</td>\n",
       "      <td>0.0</td>\n",
       "      <td>0.0</td>\n",
       "      <td>1.0</td>\n",
       "    </tr>\n",
       "    <tr>\n",
       "      <th>schiller</th>\n",
       "      <td>858.0</td>\n",
       "      <td>0.086247</td>\n",
       "      <td>0.280892</td>\n",
       "      <td>0.0</td>\n",
       "      <td>0.0</td>\n",
       "      <td>0.0</td>\n",
       "      <td>0.0</td>\n",
       "      <td>1.0</td>\n",
       "    </tr>\n",
       "    <tr>\n",
       "      <th>citology</th>\n",
       "      <td>858.0</td>\n",
       "      <td>0.051282</td>\n",
       "      <td>0.220701</td>\n",
       "      <td>0.0</td>\n",
       "      <td>0.0</td>\n",
       "      <td>0.0</td>\n",
       "      <td>0.0</td>\n",
       "      <td>1.0</td>\n",
       "    </tr>\n",
       "    <tr>\n",
       "      <th>biopsy</th>\n",
       "      <td>858.0</td>\n",
       "      <td>0.064103</td>\n",
       "      <td>0.245078</td>\n",
       "      <td>0.0</td>\n",
       "      <td>0.0</td>\n",
       "      <td>0.0</td>\n",
       "      <td>0.0</td>\n",
       "      <td>1.0</td>\n",
       "    </tr>\n",
       "    <tr>\n",
       "      <th>stds_condy</th>\n",
       "      <td>753.0</td>\n",
       "      <td>0.058433</td>\n",
       "      <td>0.234716</td>\n",
       "      <td>0.0</td>\n",
       "      <td>0.0</td>\n",
       "      <td>0.0</td>\n",
       "      <td>0.0</td>\n",
       "      <td>1.0</td>\n",
       "    </tr>\n",
       "    <tr>\n",
       "      <th>stds_other</th>\n",
       "      <td>753.0</td>\n",
       "      <td>0.053121</td>\n",
       "      <td>0.224424</td>\n",
       "      <td>0.0</td>\n",
       "      <td>0.0</td>\n",
       "      <td>0.0</td>\n",
       "      <td>0.0</td>\n",
       "      <td>1.0</td>\n",
       "    </tr>\n",
       "    <tr>\n",
       "      <th>dx_any</th>\n",
       "      <td>858.0</td>\n",
       "      <td>0.0338</td>\n",
       "      <td>0.180818</td>\n",
       "      <td>0.0</td>\n",
       "      <td>0.0</td>\n",
       "      <td>0.0</td>\n",
       "      <td>0.0</td>\n",
       "      <td>1.0</td>\n",
       "    </tr>\n",
       "  </tbody>\n",
       "</table>\n",
       "</div>"
      ],
      "text/plain": [
       "                          count       mean       std   min   25%   50%   75%  \\\n",
       "age                       858.0  26.820513  8.497948  13.0  20.0  25.0  32.0   \n",
       "n_sexual_partners         832.0   2.527644   1.66776   1.0   2.0   2.0   3.0   \n",
       "first_sexual_intercourse  851.0    16.9953  2.803355  10.0  15.0  17.0  18.0   \n",
       "n_pregnancies             802.0   2.275561  1.447414   0.0   1.0   2.0   3.0   \n",
       "smokes                    845.0   0.145562  0.352876   0.0   0.0   0.0   0.0   \n",
       "smokes_years              845.0   1.219721  4.089017   0.0   0.0   0.0   0.0   \n",
       "smokes_packs_year         845.0   0.453144   2.22661   0.0   0.0   0.0   0.0   \n",
       "hormonal_bc               750.0   0.641333  0.479929   0.0   0.0   1.0   1.0   \n",
       "hormonal_bc_years         750.0   2.256419  3.764254   0.0   0.0   0.5   3.0   \n",
       "iud                       741.0   0.112011  0.315593   0.0   0.0   0.0   0.0   \n",
       "iud_years                 741.0   0.514804  1.943089   0.0   0.0   0.0   0.0   \n",
       "stds_number               753.0   0.176627  0.561993   0.0   0.0   0.0   0.0   \n",
       "hinselmann                858.0   0.040793  0.197925   0.0   0.0   0.0   0.0   \n",
       "schiller                  858.0   0.086247  0.280892   0.0   0.0   0.0   0.0   \n",
       "citology                  858.0   0.051282  0.220701   0.0   0.0   0.0   0.0   \n",
       "biopsy                    858.0   0.064103  0.245078   0.0   0.0   0.0   0.0   \n",
       "stds_condy                753.0   0.058433  0.234716   0.0   0.0   0.0   0.0   \n",
       "stds_other                753.0   0.053121  0.224424   0.0   0.0   0.0   0.0   \n",
       "dx_any                    858.0     0.0338  0.180818   0.0   0.0   0.0   0.0   \n",
       "\n",
       "                           max  \n",
       "age                       84.0  \n",
       "n_sexual_partners         28.0  \n",
       "first_sexual_intercourse  32.0  \n",
       "n_pregnancies             11.0  \n",
       "smokes                     1.0  \n",
       "smokes_years              37.0  \n",
       "smokes_packs_year         37.0  \n",
       "hormonal_bc                1.0  \n",
       "hormonal_bc_years         30.0  \n",
       "iud                        1.0  \n",
       "iud_years                 19.0  \n",
       "stds_number                4.0  \n",
       "hinselmann                 1.0  \n",
       "schiller                   1.0  \n",
       "citology                   1.0  \n",
       "biopsy                     1.0  \n",
       "stds_condy                 1.0  \n",
       "stds_other                 1.0  \n",
       "dx_any                     1.0  "
      ]
     },
     "execution_count": 76,
     "metadata": {},
     "output_type": "execute_result"
    }
   ],
   "source": [
    "df.describe().T"
   ]
  },
  {
   "attachments": {},
   "cell_type": "markdown",
   "metadata": {},
   "source": [
    "# Modeling"
   ]
  },
  {
   "attachments": {},
   "cell_type": "markdown",
   "metadata": {},
   "source": [
    "Before we jump into the modeling, please be aware that I drop all tests other than the citology (pap) test. This is one so as to mimick a more routine care scenario, where at the 3 year mark a woman would most likely have the test done regardless of risk level. In other words, I drop the `hinselmann` and `schiller` test results for the analysis. This reduces the average precision of the model by about 50%, from 0.64 to 0.31. Again, the purpose of this analysis is more to show some steps in the process for data science, as of course neither of these average precision levels is very desireable. \n",
    "\n",
    "For model baselines, I compare to the results of table 3 in [this](https://www.ncbi.nlm.nih.gov/pmc/articles/PMC7924508/pdf/peerj-cs-04-154.pdf) paper, namely the citology-only results."
   ]
  },
  {
   "attachments": {},
   "cell_type": "markdown",
   "metadata": {},
   "source": [
    "## Separate covariates from outcome, drop unnecessary columns\n",
    "\n",
    "Here we can drop the redundant indicator variables mentioned earlier, as well as the Hinselmann and Schiller variables as just discussed."
   ]
  },
  {
   "cell_type": "code",
   "execution_count": 77,
   "metadata": {},
   "outputs": [],
   "source": [
    "x = df.drop([\"smokes\", \"hormonal_bc\", \"iud\",\"biopsy\", \"hinselmann\", 'schiller'], axis = 1)\n",
    "x[\"n_stds\"] = x[\"stds_number\"]\n",
    "x.drop(\"stds_number\", axis = 1, inplace = True)\n",
    "y = df[[\"biopsy\"]].astype(\"int64\")"
   ]
  },
  {
   "attachments": {},
   "cell_type": "markdown",
   "metadata": {},
   "source": [
    "## Have to have cat/float/int dtypes for lgbm\n",
    "\n",
    "Because we'll be using LightGBM for the model, the dtypes need to be either categorical, float, or integer. However, we can't cast vectors with missing values to ints in python, so for now I cast everything over to float."
   ]
  },
  {
   "cell_type": "code",
   "execution_count": 78,
   "metadata": {},
   "outputs": [
    {
     "data": {
      "text/plain": [
       "age                         float64\n",
       "n_sexual_partners           float64\n",
       "first_sexual_intercourse    float64\n",
       "n_pregnancies               float64\n",
       "smokes_years                float64\n",
       "smokes_packs_year           float64\n",
       "hormonal_bc_years           float64\n",
       "iud_years                   float64\n",
       "citology                    float64\n",
       "stds_condy                  float64\n",
       "stds_other                  float64\n",
       "dx_any                      float64\n",
       "n_stds                      float64\n",
       "dtype: object"
      ]
     },
     "execution_count": 78,
     "metadata": {},
     "output_type": "execute_result"
    }
   ],
   "source": [
    "x[x.select_dtypes(include=['Int64', 'Float64']).columns.values] = x.select_dtypes(include=['Int64', 'Float64']).astype('float')\n",
    "x.dtypes"
   ]
  },
  {
   "attachments": {},
   "cell_type": "markdown",
   "metadata": {},
   "source": [
    "## Instantiate base classifier\n",
    "\n",
    "Here we'll just instantiate the base LGBM classifier. The parameters are somewhat unimportant as we'll run a search over most of them anyway. However, the `is_unbalance` parameter should be set here, as this is LGBM's way of balancing class weights, which we definitely want to do. In my experience, class weighting performs as well if not better than the more fancy up-sampling or down-sampling techniques, and its very easy to implement, so we'll stick with that for now. "
   ]
  },
  {
   "cell_type": "code",
   "execution_count": 79,
   "metadata": {},
   "outputs": [],
   "source": [
    "clf = LGBMClassifier(objective = \"binary\", is_unbalance = True)"
   ]
  },
  {
   "attachments": {},
   "cell_type": "markdown",
   "metadata": {},
   "source": [
    "## Imputation parameters setup\n",
    "\n",
    "We have missing values that we'll need to impute. In the reference paper mentioned at the beginning of this section, the authors use constant imputation. In contrast, I will do a random search over two imputation methods, a constant imputer and a MICE imputer. The MICE imputer is carried out using lightGBM through the [miceforest](https://github.com/AnotherSamWilson/miceforest) package. As lightGBM requires you to specify the objective function used for the outcome, I therefore specify the objective function to be used for each variable that will be imputed, and for binary variables, I specify that they are unbalanced. \n",
    "\n",
    "Also note that `miceforest` does not explicitly support the `sklearn` API when thrown into a grid/random search (despite the claims on it's github). Thus, I provide the `mice_imputer.py` module, which subclasses the `miceforest` imputer to be compatible with the `sklearn` API. The details of this module are available on my GitHub page."
   ]
  },
  {
   "cell_type": "code",
   "execution_count": 80,
   "metadata": {},
   "outputs": [],
   "source": [
    "template = {\n",
    "    \"objective\" : \"regression\"\n",
    "}\n",
    "\n",
    "varparms = {}\n",
    "\n",
    "keys = x.columns.values[x.isna().any()] \n",
    "\n",
    "for i in keys: \n",
    "\n",
    "    varparms[i] = template.copy()\n",
    "\n",
    "    if \"stds_\" in i: \n",
    "        varparms[i][\"objective\"] = \"binary\"\n",
    "        varparms[i][\"is_unbalance\"] = True\n",
    "\n",
    "    if (x[i].nunique() > 2) & (np.all(x[i].dropna() % 1 == 0)):\n",
    "        varparms[i][\"objective\"] = \"poisson\""
   ]
  },
  {
   "cell_type": "code",
   "execution_count": 81,
   "metadata": {},
   "outputs": [
    {
     "data": {
      "text/plain": [
       "{'n_sexual_partners': {'objective': 'poisson'},\n",
       " 'first_sexual_intercourse': {'objective': 'poisson'},\n",
       " 'n_pregnancies': {'objective': 'poisson'},\n",
       " 'smokes_years': {'objective': 'regression'},\n",
       " 'smokes_packs_year': {'objective': 'regression'},\n",
       " 'hormonal_bc_years': {'objective': 'regression'},\n",
       " 'iud_years': {'objective': 'regression'},\n",
       " 'stds_condy': {'objective': 'binary', 'is_unbalance': True},\n",
       " 'stds_other': {'objective': 'binary', 'is_unbalance': True},\n",
       " 'n_stds': {'objective': 'poisson'}}"
      ]
     },
     "execution_count": 81,
     "metadata": {},
     "output_type": "execute_result"
    }
   ],
   "source": [
    "varparms"
   ]
  },
  {
   "attachments": {},
   "cell_type": "markdown",
   "metadata": {},
   "source": [
    "## Set predictive mean matching scheme for imputer\n",
    "\n",
    "When imputing categorical variables, its best to use predictive mean matching in order to preserve the distribution of the variables. I set the mean matching scheme to use the 5 nearest neighbors. For more details, view the readme on [this repo](https://github.com/AnotherSamWilson/miceforest). "
   ]
  },
  {
   "cell_type": "code",
   "execution_count": 82,
   "metadata": {},
   "outputs": [],
   "source": [
    "mean_match = mean_match_default.copy()\n",
    "mean_match.set_mean_match_candidates(5)"
   ]
  },
  {
   "attachments": {},
   "cell_type": "markdown",
   "metadata": {},
   "source": [
    "## Setup pipeline components, instantiate pipe\n",
    "\n",
    "Next, I set up each of the pipeline components that will be used during a random search for optimal parameters, and risk estimation. These steps consist of: \n",
    "\n",
    "1. Impute missing values, tuning either constant imputation (`simple_union`) or mice imputation (`mice_union`)\n",
    "2. Add a single missingness variable for the sexual history related variables, as this constitutes the bulk of the missingness.\n",
    "3. Train/tune LGBM classifier\n",
    "\n",
    "To do step (2), I provide the `missing_transformer.py` module, which just permits us to add a *single* missing value indicator for a subset of columns in an `sklearn` pipeline. This is distinct from `sklearn.impute.MissingIndicator`, which creates separate indicators for every variable. Instead, I take a subset of variables, and if any of them is missing, then a single indicator is coded as 1, otherwise 0. This avoids perfect collinearity in the missingness indicators for the STD columns.\n",
    "\n",
    "Previously, I instantiated the pipeline with a memory cache in order to not have to impute the data except when the folds change. However, the disk-read overhead ends up being too high, so this is now commented out. This is an area for improvement for someone more skilled than I, as right now sklearn caches on disk, as opposed to in RAM, which would be superior in terms of speed."
   ]
  },
  {
   "cell_type": "code",
   "execution_count": 83,
   "metadata": {},
   "outputs": [],
   "source": [
    "simple_union = FeatureUnion(\n",
    "    transformer_list=[\n",
    "         ('features', SimpleImputer(strategy='median')),\n",
    "         ('indicator', missing_transformer())\n",
    "         ]\n",
    ")\n",
    "\n",
    "mice_union = FeatureUnion(\n",
    "    transformer_list=[\n",
    "         ('features', mice_imputer(mean_match_scheme = mean_match, mice_iterations = 15, variable_parameters = varparms)),\n",
    "         ('indicator', missing_transformer())]\n",
    ")\n",
    "\n",
    "#cachedir = mkdtemp()\n",
    "#memory = Memory(location=cachedir, verbose=0)\n",
    "pipe = Pipeline(\n",
    "    #memory = memory,\n",
    "    steps = [\n",
    "        (\"imputer\", simple_union),\n",
    "        (\"classifier\", clf)\n",
    "    ]\n",
    ")"
   ]
  },
  {
   "attachments": {},
   "cell_type": "markdown",
   "metadata": {},
   "source": [
    "## (Some) Marginal distributions for random search"
   ]
  },
  {
   "attachments": {},
   "cell_type": "markdown",
   "metadata": {},
   "source": [
    "LightGBM is a tree-based boosting algorithm, so we'll need to tune a host of parameters. To do so, I employ a random search, with two of the less intuitive distributions used in this search being visualized below. Namely, we have:\n",
    "\n",
    "1. For the number of boosting rounds, I use a negative binomial distribution and add 1 to all values to avoid zero boosting rounds as a possibility. The parameters used in the distribution and it associated probability mass function as well as some summary statistics can be found below. \n",
    "\n",
    "2. For the learning rate, I use an exponential distribution, with parameters chosen such that smaller learning rates are given greater probability than larger ones. Again, details on the distribution are found below.\n",
    "\n",
    "3. For other parameters, I use discrete uniform distributions with limits chosen appropriately for each. These are found in the code cells below. "
   ]
  },
  {
   "cell_type": "code",
   "execution_count": 84,
   "metadata": {},
   "outputs": [],
   "source": [
    "plt.rcParams['figure.figsize'] = [5, 5]"
   ]
  },
  {
   "cell_type": "code",
   "execution_count": 85,
   "metadata": {},
   "outputs": [
    {
     "data": {
      "image/png": "[encoded data removed]",
      "text/plain": [
       "<Figure size 500x500 with 1 Axes>"
      ]
     },
     "metadata": {},
     "output_type": "display_data"
    }
   ],
   "source": [
    "n = 3\n",
    "p = .0075\n",
    "xl = np.floor(np.linspace(0, 1250, 1250))\n",
    "fig, ax = plt.subplots()\n",
    "\n",
    "nb = ax.bar(\n",
    "    xl, \n",
    "    stats.nbinom.pmf(xl, n = n, p = p, loc = 1)\n",
    ")\n",
    "ax.set_title(f\"N Estimators Distribution [nbinom(p = {p}, n = {n})]\")\n",
    "ax.set_ylabel(\"Probability Mass\")\n",
    "ax.set_xlabel(\"N Estimators\")\n",
    "plt.show()"
   ]
  },
  {
   "cell_type": "code",
   "execution_count": 86,
   "metadata": {},
   "outputs": [
    {
     "name": "stdout",
     "output_type": "stream",
     "text": [
      "Percentiles, mean, and standard deviation of theoretical distribution:\n"
     ]
    },
    {
     "data": {
      "text/html": [
       "<div>\n",
       "<style scoped>\n",
       "    .dataframe tbody tr th:only-of-type {\n",
       "        vertical-align: middle;\n",
       "    }\n",
       "\n",
       "    .dataframe tbody tr th {\n",
       "        vertical-align: top;\n",
       "    }\n",
       "\n",
       "    .dataframe thead th {\n",
       "        text-align: right;\n",
       "    }\n",
       "</style>\n",
       "<table border=\"1\" class=\"dataframe\">\n",
       "  <thead>\n",
       "    <tr style=\"text-align: right;\">\n",
       "      <th></th>\n",
       "      <th>0.01</th>\n",
       "      <th>0.1</th>\n",
       "      <th>0.25</th>\n",
       "      <th>0.5</th>\n",
       "      <th>0.75</th>\n",
       "      <th>0.9</th>\n",
       "      <th>0.99</th>\n",
       "      <th>mean</th>\n",
       "      <th>std</th>\n",
       "    </tr>\n",
       "  </thead>\n",
       "  <tbody>\n",
       "    <tr>\n",
       "      <th>value</th>\n",
       "      <td>56.0</td>\n",
       "      <td>145.0</td>\n",
       "      <td>228.0</td>\n",
       "      <td>354.0</td>\n",
       "      <td>519.0</td>\n",
       "      <td>705.0</td>\n",
       "      <td>1115.0</td>\n",
       "      <td>397.0</td>\n",
       "      <td>230.072452</td>\n",
       "    </tr>\n",
       "  </tbody>\n",
       "</table>\n",
       "</div>"
      ],
      "text/plain": [
       "       0.01    0.1   0.25    0.5   0.75    0.9    0.99   mean         std\n",
       "value  56.0  145.0  228.0  354.0  519.0  705.0  1115.0  397.0  230.072452"
      ]
     },
     "execution_count": 86,
     "metadata": {},
     "output_type": "execute_result"
    }
   ],
   "source": [
    "mn = n*(1-p)/p\n",
    "st = np.sqrt(mn*p**-1)\n",
    "ps = [.01, .1, .25, .5, .75, .9, .99]\n",
    "qs = stats.nbinom.ppf(ps, n = n, p = p)\n",
    "qs = {str(p) : q for p,q in zip(ps, qs)}\n",
    "qs[\"mean\"] = mn \n",
    "qs[\"std\"] = st \n",
    "\n",
    "print(\"Percentiles, mean, and standard deviation of theoretical distribution:\")\n",
    "pd.DataFrame(qs, index = [\"value\"])"
   ]
  },
  {
   "cell_type": "code",
   "execution_count": 87,
   "metadata": {},
   "outputs": [
    {
     "data": {
      "image/png": "[encoded data removed]",
      "text/plain": [
       "<Figure size 500x500 with 1 Axes>"
      ]
     },
     "metadata": {},
     "output_type": "display_data"
    }
   ],
   "source": [
    "scale = .3\n",
    "xl = np.linspace(0, 1, 1000)\n",
    "fig, ax = plt.subplots()\n",
    "\n",
    "ex = ax.plot(\n",
    "    xl, \n",
    "    stats.expon.pdf(xl, scale = scale)\n",
    ")\n",
    "ax.set_title(f\"Learning Rate Distribution [expon(scale = {scale})]\")\n",
    "ax.set_ylabel(\"Probability Density\")\n",
    "ax.set_xlabel(\"Learning Rate\")\n",
    "plt.show()"
   ]
  },
  {
   "cell_type": "code",
   "execution_count": 88,
   "metadata": {},
   "outputs": [
    {
     "name": "stdout",
     "output_type": "stream",
     "text": [
      "Percentiles, mean, and standard deviation of theoretical distribution:\n"
     ]
    },
    {
     "data": {
      "text/html": [
       "<div>\n",
       "<style scoped>\n",
       "    .dataframe tbody tr th:only-of-type {\n",
       "        vertical-align: middle;\n",
       "    }\n",
       "\n",
       "    .dataframe tbody tr th {\n",
       "        vertical-align: top;\n",
       "    }\n",
       "\n",
       "    .dataframe thead th {\n",
       "        text-align: right;\n",
       "    }\n",
       "</style>\n",
       "<table border=\"1\" class=\"dataframe\">\n",
       "  <thead>\n",
       "    <tr style=\"text-align: right;\">\n",
       "      <th></th>\n",
       "      <th>0.01</th>\n",
       "      <th>0.1</th>\n",
       "      <th>0.25</th>\n",
       "      <th>0.5</th>\n",
       "      <th>0.75</th>\n",
       "      <th>0.9</th>\n",
       "      <th>0.99</th>\n",
       "      <th>mean</th>\n",
       "      <th>std</th>\n",
       "    </tr>\n",
       "  </thead>\n",
       "  <tbody>\n",
       "    <tr>\n",
       "      <th>value</th>\n",
       "      <td>0.003015</td>\n",
       "      <td>0.031608</td>\n",
       "      <td>0.086305</td>\n",
       "      <td>0.207944</td>\n",
       "      <td>0.415888</td>\n",
       "      <td>0.690776</td>\n",
       "      <td>1.381551</td>\n",
       "      <td>0.3</td>\n",
       "      <td>0.3</td>\n",
       "    </tr>\n",
       "  </tbody>\n",
       "</table>\n",
       "</div>"
      ],
      "text/plain": [
       "           0.01       0.1      0.25       0.5      0.75       0.9      0.99  \\\n",
       "value  0.003015  0.031608  0.086305  0.207944  0.415888  0.690776  1.381551   \n",
       "\n",
       "       mean  std  \n",
       "value   0.3  0.3  "
      ]
     },
     "execution_count": 88,
     "metadata": {},
     "output_type": "execute_result"
    }
   ],
   "source": [
    "mn = scale\n",
    "st = scale\n",
    "ps = [.01, .1, .25, .5, .75, .9, .99]\n",
    "qs = stats.expon.ppf(ps, scale = scale)\n",
    "qs = {str(p) : q for p,q in zip(ps, qs)}\n",
    "qs[\"mean\"] = mn \n",
    "qs[\"std\"] = st \n",
    "\n",
    "print(\"Percentiles, mean, and standard deviation of theoretical distribution:\")\n",
    "pd.DataFrame(qs, index = [\"value\"])"
   ]
  },
  {
   "attachments": {},
   "cell_type": "markdown",
   "metadata": {},
   "source": [
    "## Define random search grid\n",
    "\n",
    "Here we just input the specified distributions for each parameter to the \"grid.\" The `base_grid` is common to both the `mice` and `simple` imputation schemes. "
   ]
  },
  {
   "cell_type": "code",
   "execution_count": 89,
   "metadata": {},
   "outputs": [],
   "source": [
    "lr_dist = stats.expon(scale = scale)\n",
    "ne_dist = stats.nbinom(n = n, p = p, loc = 1)\n",
    "nl_dist = stats.randint(2, 51)\n",
    "md_dist = stats.randint(1, 10)\n",
    "pc_dist = stats.randint(1, 2)\n",
    "mc_dist = stats.randint(15, 75)\n",
    "\n",
    "base_grid = {\n",
    "    \"classifier__n_estimators\" : ne_dist,\n",
    "    \"classifier__num_leaves\" : nl_dist,\n",
    "    \"classifier__max_depth\" : md_dist,\n",
    "    \"classifier__learning_rate\" : lr_dist,\n",
    "    \"classifier__min_child_samples\" : mc_dist\n",
    "}\n",
    "\n",
    "grid = [\n",
    "    {\n",
    "        \"imputer\" : [simple_union],\n",
    "        \"imputer__features__strategy\" : [\"median\"],\n",
    "        **base_grid\n",
    "    },\n",
    "    {\n",
    "        \"imputer\" : [mice_union],\n",
    "        \"imputer__features__lgb_iterations\" : ne_dist,\n",
    "        \"imputer__features__lgb_learning_rate\" : lr_dist,\n",
    "        \"imputer__features__lgb_max_depth\" : md_dist,\n",
    "        \"imputer__features__lgb_num_leaves\" : nl_dist,\n",
    "        **base_grid\n",
    "    }\n",
    "]"
   ]
  },
  {
   "attachments": {},
   "cell_type": "markdown",
   "metadata": {},
   "source": [
    "## Setup nested CV folds, flush RAM\n",
    "\n",
    "For the following reasons, it is appropriate to use nested, repeated, stratified K-fold cross validation. \n",
    "\n",
    "1. For the cross validation, we want to both tune hyperparameters, and estimate the selected model's risk. This requires nested cross validation in order to avoid data leakage. \n",
    "\n",
    "2. We have imbalanced data, so stratifying to preserve the class distribution will be done. \n",
    "\n",
    "3. We have a small data set with class imbalance, so we'll want to repeat this process to reduce the variance on our estimate of the risk. "
   ]
  },
  {
   "cell_type": "code",
   "execution_count": 90,
   "metadata": {},
   "outputs": [],
   "source": [
    "inner_cv = StratifiedKFold(n_splits = 5, random_state = 874841, shuffle = True)\n",
    "outer_cv = RepeatedStratifiedKFold(n_splits = 5, n_repeats = 5, random_state = 878571)"
   ]
  },
  {
   "cell_type": "code",
   "execution_count": 91,
   "metadata": {},
   "outputs": [
    {
     "data": {
      "text/plain": [
       "80818"
      ]
     },
     "execution_count": 91,
     "metadata": {},
     "output_type": "execute_result"
    }
   ],
   "source": [
    "# Flush ram before fit\n",
    "gc.collect()"
   ]
  },
  {
   "attachments": {},
   "cell_type": "markdown",
   "metadata": {},
   "source": [
    "## Fit model, cleanup, and save\n",
    "\n",
    "Note that before fitting the model, I define a scoring criteria for model selection. I define an F2 scorer, which is analogous to the F1 score, but puts twice as much weight on the recall when computing the geomtric mean. This is one because of the context of the problem we're solving: we want to predict cancer. Thus, false negatives are costly, much more so than false positives. Of course, we want to minimize invasive procedures, but this is not nearly as problematic as failing to catch cancer. In fact, the case could be made to just use recall as the scoring criteria here. In any case, I weight recall twice as heavily than precision when computing the F-score here.\n",
    "\n",
    "Finally, we'll parallelize the outer cross validation loop, and leave the inner one serial. "
   ]
  },
  {
   "cell_type": "code",
   "execution_count": 92,
   "metadata": {},
   "outputs": [],
   "source": [
    "def save_obj(obj, filename):\n",
    "    with open(filename, 'wb') as outp:  # Overwrites any existing file.\n",
    "        pickle.dump(obj, outp, pickle.HIGHEST_PROTOCOL)\n",
    "\n",
    "f_scorer = make_scorer(fbeta_score, beta = 2)\n",
    "\n",
    "rcv = RandomizedSearchCV(\n",
    "    estimator = pipe,\n",
    "    param_distributions = grid, \n",
    "    scoring = f_scorer,\n",
    "    refit = True, \n",
    "    cv = inner_cv,\n",
    "    return_train_score = True,\n",
    "    n_jobs = 1,\n",
    "    n_iter = 500,\n",
    "    random_state = 97417\n",
    ")\n",
    "\n",
    "if run:\n",
    "    res = cross_validate(\n",
    "        rcv, \n",
    "        X = x, \n",
    "        y = y.values.flatten(), \n",
    "        cv = outer_cv, \n",
    "        return_estimator = True, \n",
    "        scoring = [\"average_precision\", \"balanced_accuracy\", \"f1\", \"precision\", \"recall\"],\n",
    "        n_jobs = -1,\n",
    "        verbose = 999\n",
    "    )\n",
    "\n",
    "    save_obj(res, \"./rcv.pkl\")\n",
    "else: \n",
    "    with open(\"./rcv.pkl\", \"rb\") as f:\n",
    "        res = pickle.load(f)"
   ]
  },
  {
   "cell_type": "code",
   "execution_count": 93,
   "metadata": {},
   "outputs": [
    {
     "name": "stdout",
     "output_type": "stream",
     "text": [
      "No cache to remove.\n"
     ]
    },
    {
     "data": {
      "text/plain": [
       "6575"
      ]
     },
     "execution_count": 93,
     "metadata": {},
     "output_type": "execute_result"
    }
   ],
   "source": [
    "# remove memory object if it exists, flush RAM again.\n",
    "try:\n",
    "    rmtree(cachedir)\n",
    "except:\n",
    "    print(\"No cache to remove.\") \n",
    "\n",
    "gc.collect()"
   ]
  },
  {
   "attachments": {},
   "cell_type": "markdown",
   "metadata": {},
   "source": [
    "# Post-estimation analysis\n",
    "\n",
    "## Selecting a \"best\" model\n",
    "\n",
    "First thing is we'll need to determine the best estimator. With nested cross validation this can be tricky, as different parameters can be chosen for each inner cv loop. Moreover, we are using a boosting algorithm, so multiple of the parameters trade-off against eachother, for example the learning rate and the number of boosting rounds. Thus, two seemingly-different models can often achieve the same performance.\n",
    "\n",
    "The first thing to do here is to see if the results are stable. First, I see whether either imputation strategy dominates by checking the length of the chosen parameter vector; if either imputation method wins every time, then the number of unique lengths for the chosen parameter vector will be 1, otherwise 2.\n",
    "\n",
    "Doing this below we see that sometimes the MICE imputer won, other times the median imputer won. So the next step will be to see how stable the results are across each of these sets of models. "
   ]
  },
  {
   "cell_type": "code",
   "execution_count": 94,
   "metadata": {},
   "outputs": [
    {
     "data": {
      "text/plain": [
       "array([ 7, 10])"
      ]
     },
     "execution_count": 94,
     "metadata": {},
     "output_type": "execute_result"
    }
   ],
   "source": [
    "lens = [len(est.best_params_) for est in res['estimator']]\n",
    "np.unique(lens)"
   ]
  },
  {
   "attachments": {},
   "cell_type": "markdown",
   "metadata": {},
   "source": [
    "To take a look at the models, I create a table of the number of parameters, the best (training) score, and the learning rate for each of the winning models. Note that if the learning rate is the same between any pair of models, then we can be certain that this pair of models also has the same values for all other parameters (i.e., they have the same specification), as the probability of sampling the same exact learning rate from a continuous distribution is zero. Thus, by putting the learning rate in the table below, I'm effectively seeing if the same model was selected or not. "
   ]
  },
  {
   "cell_type": "code",
   "execution_count": 95,
   "metadata": {},
   "outputs": [],
   "source": [
    "best_parms = list(map(lambda x: x.best_params_, res[\"estimator\"]))"
   ]
  },
  {
   "cell_type": "code",
   "execution_count": 96,
   "metadata": {},
   "outputs": [],
   "source": [
    "best_parms = [est.best_params_ for est in res[\"estimator\"]]\n",
    "best_inner_scores = [est.best_score_ for est in res[\"estimator\"]]\n",
    "best_rate = [parms[\"classifier__learning_rate\"] for parms in best_parms]\n",
    "best_parms_7 = [parms for parms in best_parms if len(parms) == 7]\n",
    "best_parms_10 = [parms for parms in best_parms if len(parms) == 10]\n"
   ]
  },
  {
   "cell_type": "code",
   "execution_count": 97,
   "metadata": {},
   "outputs": [
    {
     "data": {
      "text/html": [
       "<div>\n",
       "<style scoped>\n",
       "    .dataframe tbody tr th:only-of-type {\n",
       "        vertical-align: middle;\n",
       "    }\n",
       "\n",
       "    .dataframe tbody tr th {\n",
       "        vertical-align: top;\n",
       "    }\n",
       "\n",
       "    .dataframe thead th {\n",
       "        text-align: right;\n",
       "    }\n",
       "</style>\n",
       "<table border=\"1\" class=\"dataframe\">\n",
       "  <thead>\n",
       "    <tr style=\"text-align: right;\">\n",
       "      <th></th>\n",
       "      <th>n_parms</th>\n",
       "      <th>f2_score_inner</th>\n",
       "      <th>classifier_learning_rate</th>\n",
       "    </tr>\n",
       "  </thead>\n",
       "  <tbody>\n",
       "    <tr>\n",
       "      <th>3</th>\n",
       "      <td>10</td>\n",
       "      <td>0.475631</td>\n",
       "      <td>0.112633</td>\n",
       "    </tr>\n",
       "    <tr>\n",
       "      <th>19</th>\n",
       "      <td>10</td>\n",
       "      <td>0.471704</td>\n",
       "      <td>0.068610</td>\n",
       "    </tr>\n",
       "    <tr>\n",
       "      <th>22</th>\n",
       "      <td>10</td>\n",
       "      <td>0.463573</td>\n",
       "      <td>0.420959</td>\n",
       "    </tr>\n",
       "    <tr>\n",
       "      <th>8</th>\n",
       "      <td>10</td>\n",
       "      <td>0.462116</td>\n",
       "      <td>0.112633</td>\n",
       "    </tr>\n",
       "    <tr>\n",
       "      <th>4</th>\n",
       "      <td>10</td>\n",
       "      <td>0.457928</td>\n",
       "      <td>0.420959</td>\n",
       "    </tr>\n",
       "    <tr>\n",
       "      <th>6</th>\n",
       "      <td>10</td>\n",
       "      <td>0.457751</td>\n",
       "      <td>0.420959</td>\n",
       "    </tr>\n",
       "    <tr>\n",
       "      <th>14</th>\n",
       "      <td>10</td>\n",
       "      <td>0.440718</td>\n",
       "      <td>0.112633</td>\n",
       "    </tr>\n",
       "    <tr>\n",
       "      <th>12</th>\n",
       "      <td>10</td>\n",
       "      <td>0.437861</td>\n",
       "      <td>0.112633</td>\n",
       "    </tr>\n",
       "    <tr>\n",
       "      <th>17</th>\n",
       "      <td>10</td>\n",
       "      <td>0.428084</td>\n",
       "      <td>0.068610</td>\n",
       "    </tr>\n",
       "    <tr>\n",
       "      <th>16</th>\n",
       "      <td>7</td>\n",
       "      <td>0.427004</td>\n",
       "      <td>0.051701</td>\n",
       "    </tr>\n",
       "    <tr>\n",
       "      <th>18</th>\n",
       "      <td>10</td>\n",
       "      <td>0.421101</td>\n",
       "      <td>0.210302</td>\n",
       "    </tr>\n",
       "    <tr>\n",
       "      <th>24</th>\n",
       "      <td>10</td>\n",
       "      <td>0.414929</td>\n",
       "      <td>0.328242</td>\n",
       "    </tr>\n",
       "    <tr>\n",
       "      <th>1</th>\n",
       "      <td>10</td>\n",
       "      <td>0.414407</td>\n",
       "      <td>0.112633</td>\n",
       "    </tr>\n",
       "    <tr>\n",
       "      <th>20</th>\n",
       "      <td>10</td>\n",
       "      <td>0.407657</td>\n",
       "      <td>0.112633</td>\n",
       "    </tr>\n",
       "    <tr>\n",
       "      <th>13</th>\n",
       "      <td>10</td>\n",
       "      <td>0.406239</td>\n",
       "      <td>0.021446</td>\n",
       "    </tr>\n",
       "    <tr>\n",
       "      <th>23</th>\n",
       "      <td>10</td>\n",
       "      <td>0.401944</td>\n",
       "      <td>0.210302</td>\n",
       "    </tr>\n",
       "    <tr>\n",
       "      <th>21</th>\n",
       "      <td>7</td>\n",
       "      <td>0.398142</td>\n",
       "      <td>0.005485</td>\n",
       "    </tr>\n",
       "    <tr>\n",
       "      <th>9</th>\n",
       "      <td>10</td>\n",
       "      <td>0.394758</td>\n",
       "      <td>0.420959</td>\n",
       "    </tr>\n",
       "    <tr>\n",
       "      <th>11</th>\n",
       "      <td>10</td>\n",
       "      <td>0.380013</td>\n",
       "      <td>0.068610</td>\n",
       "    </tr>\n",
       "    <tr>\n",
       "      <th>5</th>\n",
       "      <td>10</td>\n",
       "      <td>0.373932</td>\n",
       "      <td>0.022343</td>\n",
       "    </tr>\n",
       "    <tr>\n",
       "      <th>10</th>\n",
       "      <td>10</td>\n",
       "      <td>0.364958</td>\n",
       "      <td>0.210302</td>\n",
       "    </tr>\n",
       "    <tr>\n",
       "      <th>7</th>\n",
       "      <td>10</td>\n",
       "      <td>0.364418</td>\n",
       "      <td>0.010036</td>\n",
       "    </tr>\n",
       "    <tr>\n",
       "      <th>15</th>\n",
       "      <td>7</td>\n",
       "      <td>0.349660</td>\n",
       "      <td>0.006299</td>\n",
       "    </tr>\n",
       "    <tr>\n",
       "      <th>0</th>\n",
       "      <td>10</td>\n",
       "      <td>0.347386</td>\n",
       "      <td>0.210302</td>\n",
       "    </tr>\n",
       "    <tr>\n",
       "      <th>2</th>\n",
       "      <td>10</td>\n",
       "      <td>0.345968</td>\n",
       "      <td>0.112633</td>\n",
       "    </tr>\n",
       "  </tbody>\n",
       "</table>\n",
       "</div>"
      ],
      "text/plain": [
       "    n_parms  f2_score_inner  classifier_learning_rate\n",
       "3        10        0.475631                  0.112633\n",
       "19       10        0.471704                  0.068610\n",
       "22       10        0.463573                  0.420959\n",
       "8        10        0.462116                  0.112633\n",
       "4        10        0.457928                  0.420959\n",
       "6        10        0.457751                  0.420959\n",
       "14       10        0.440718                  0.112633\n",
       "12       10        0.437861                  0.112633\n",
       "17       10        0.428084                  0.068610\n",
       "16        7        0.427004                  0.051701\n",
       "18       10        0.421101                  0.210302\n",
       "24       10        0.414929                  0.328242\n",
       "1        10        0.414407                  0.112633\n",
       "20       10        0.407657                  0.112633\n",
       "13       10        0.406239                  0.021446\n",
       "23       10        0.401944                  0.210302\n",
       "21        7        0.398142                  0.005485\n",
       "9        10        0.394758                  0.420959\n",
       "11       10        0.380013                  0.068610\n",
       "5        10        0.373932                  0.022343\n",
       "10       10        0.364958                  0.210302\n",
       "7        10        0.364418                  0.010036\n",
       "15        7        0.349660                  0.006299\n",
       "0        10        0.347386                  0.210302\n",
       "2        10        0.345968                  0.112633"
      ]
     },
     "execution_count": 97,
     "metadata": {},
     "output_type": "execute_result"
    }
   ],
   "source": [
    "pd.DataFrame(\n",
    "    [i for i in zip(lens, best_inner_scores, best_rate)], \n",
    "    columns = ['n_parms', \"f2_score_inner\", \"classifier_learning_rate\"]\n",
    ").sort_values(\"f2_score_inner\", ascending=False)"
   ]
  },
  {
   "attachments": {},
   "cell_type": "markdown",
   "metadata": {},
   "source": [
    "Looking at the table above, we can see that the model with the learning rate of ~0.113 has the best inner cv score, and appears often in the top half of selected models. Moreover, it is selected in a plurality of models, and its estimated F2 score is somewhat stable around the 0.45 mark. Thus, I select his model as the \"best\" model, and refit on the entire dataset."
   ]
  },
  {
   "cell_type": "code",
   "execution_count": 98,
   "metadata": {},
   "outputs": [
    {
     "data": {
      "text/html": [
       "<style>#sk-container-id-2 {color: black;background-color: white;}#sk-container-id-2 pre{padding: 0;}#sk-container-id-2 div.sk-toggleable {background-color: white;}#sk-container-id-2 label.sk-toggleable__label {cursor: pointer;display: block;width: 100%;margin-bottom: 0;padding: 0.3em;box-sizing: border-box;text-align: center;}#sk-container-id-2 label.sk-toggleable__label-arrow:before {content: \"▸\";float: left;margin-right: 0.25em;color: #696969;}#sk-container-id-2 label.sk-toggleable__label-arrow:hover:before {color: black;}#sk-container-id-2 div.sk-estimator:hover label.sk-toggleable__label-arrow:before {color: black;}#sk-container-id-2 div.sk-toggleable__content {max-height: 0;max-width: 0;overflow: hidden;text-align: left;background-color: #f0f8ff;}#sk-container-id-2 div.sk-toggleable__content pre {margin: 0.2em;color: black;border-radius: 0.25em;background-color: #f0f8ff;}#sk-container-id-2 input.sk-toggleable__control:checked~div.sk-toggleable__content {max-height: 200px;max-width: 100%;overflow: auto;}#sk-container-id-2 input.sk-toggleable__control:checked~label.sk-toggleable__label-arrow:before {content: \"▾\";}#sk-container-id-2 div.sk-estimator input.sk-toggleable__control:checked~label.sk-toggleable__label {background-color: #d4ebff;}#sk-container-id-2 div.sk-label input.sk-toggleable__control:checked~label.sk-toggleable__label {background-color: #d4ebff;}#sk-container-id-2 input.sk-hidden--visually {border: 0;clip: rect(1px 1px 1px 1px);clip: rect(1px, 1px, 1px, 1px);height: 1px;margin: -1px;overflow: hidden;padding: 0;position: absolute;width: 1px;}#sk-container-id-2 div.sk-estimator {font-family: monospace;background-color: #f0f8ff;border: 1px dotted black;border-radius: 0.25em;box-sizing: border-box;margin-bottom: 0.5em;}#sk-container-id-2 div.sk-estimator:hover {background-color: #d4ebff;}#sk-container-id-2 div.sk-parallel-item::after {content: \"\";width: 100%;border-bottom: 1px solid gray;flex-grow: 1;}#sk-container-id-2 div.sk-label:hover label.sk-toggleable__label {background-color: #d4ebff;}#sk-container-id-2 div.sk-serial::before {content: \"\";position: absolute;border-left: 1px solid gray;box-sizing: border-box;top: 0;bottom: 0;left: 50%;z-index: 0;}#sk-container-id-2 div.sk-serial {display: flex;flex-direction: column;align-items: center;background-color: white;padding-right: 0.2em;padding-left: 0.2em;position: relative;}#sk-container-id-2 div.sk-item {position: relative;z-index: 1;}#sk-container-id-2 div.sk-parallel {display: flex;align-items: stretch;justify-content: center;background-color: white;position: relative;}#sk-container-id-2 div.sk-item::before, #sk-container-id-2 div.sk-parallel-item::before {content: \"\";position: absolute;border-left: 1px solid gray;box-sizing: border-box;top: 0;bottom: 0;left: 50%;z-index: -1;}#sk-container-id-2 div.sk-parallel-item {display: flex;flex-direction: column;z-index: 1;position: relative;background-color: white;}#sk-container-id-2 div.sk-parallel-item:first-child::after {align-self: flex-end;width: 50%;}#sk-container-id-2 div.sk-parallel-item:last-child::after {align-self: flex-start;width: 50%;}#sk-container-id-2 div.sk-parallel-item:only-child::after {width: 0;}#sk-container-id-2 div.sk-dashed-wrapped {border: 1px dashed gray;margin: 0 0.4em 0.5em 0.4em;box-sizing: border-box;padding-bottom: 0.4em;background-color: white;}#sk-container-id-2 div.sk-label label {font-family: monospace;font-weight: bold;display: inline-block;line-height: 1.2em;}#sk-container-id-2 div.sk-label-container {text-align: center;}#sk-container-id-2 div.sk-container {/* jupyter's `normalize.less` sets `[hidden] { display: none; }` but bootstrap.min.css set `[hidden] { display: none !important; }` so we also need the `!important` here to be able to override the default hidden behavior on the sphinx rendered scikit-learn.org. See: https://github.com/scikit-learn/scikit-learn/issues/21755 */display: inline-block !important;position: relative;}#sk-container-id-2 div.sk-text-repr-fallback {display: none;}</style><div id=\"sk-container-id-2\" class=\"sk-top-container\"><div class=\"sk-text-repr-fallback\"><pre>Pipeline(steps=[(&#x27;imputer&#x27;,\n",
       "                 FeatureUnion(transformer_list=[(&#x27;features&#x27;,\n",
       "                                                 mice_imputer(lgb_iterations=266,\n",
       "                                                              lgb_learning_rate=0.13709275624689288,\n",
       "                                                              lgb_max_depth=6,\n",
       "                                                              lgb_num_leaves=44,\n",
       "                                                              mean_match_scheme=&lt;miceforest.MeanMatchScheme.MeanMatchScheme object at 0x7f380ea1a830&gt;,\n",
       "                                                              mice_iterations=15,\n",
       "                                                              variable_parameters={1: {&#x27;objective&#x27;: &#x27;poisson&#x27;},\n",
       "                                                                                   2: {&#x27;objective&#x27;: &#x27;poisson&#x27;}...\n",
       "                                                                                   7: {&#x27;objective&#x27;: &#x27;regression&#x27;},\n",
       "                                                                                   9: {&#x27;is_unbalance&#x27;: True,\n",
       "                                                                                       &#x27;objective&#x27;: &#x27;binary&#x27;},\n",
       "                                                                                   10: {&#x27;is_unbalance&#x27;: True,\n",
       "                                                                                        &#x27;objective&#x27;: &#x27;binary&#x27;},\n",
       "                                                                                   12: {&#x27;objective&#x27;: &#x27;poisson&#x27;}})),\n",
       "                                                (&#x27;indicator&#x27;,\n",
       "                                                 missing_transformer())])),\n",
       "                (&#x27;classifier&#x27;,\n",
       "                 LGBMClassifier(is_unbalance=True,\n",
       "                                learning_rate=0.11263311888445775, max_depth=1,\n",
       "                                min_child_samples=16, n_estimators=399,\n",
       "                                num_leaves=6, objective=&#x27;binary&#x27;))])</pre><b>In a Jupyter environment, please rerun this cell to show the HTML representation or trust the notebook. <br />On GitHub, the HTML representation is unable to render, please try loading this page with nbviewer.org.</b></div><div class=\"sk-container\" hidden><div class=\"sk-item sk-dashed-wrapped\"><div class=\"sk-label-container\"><div class=\"sk-label sk-toggleable\"><input class=\"sk-toggleable__control sk-hidden--visually\" id=\"sk-estimator-id-6\" type=\"checkbox\" ><label for=\"sk-estimator-id-6\" class=\"sk-toggleable__label sk-toggleable__label-arrow\">Pipeline</label><div class=\"sk-toggleable__content\"><pre>Pipeline(steps=[(&#x27;imputer&#x27;,\n",
       "                 FeatureUnion(transformer_list=[(&#x27;features&#x27;,\n",
       "                                                 mice_imputer(lgb_iterations=266,\n",
       "                                                              lgb_learning_rate=0.13709275624689288,\n",
       "                                                              lgb_max_depth=6,\n",
       "                                                              lgb_num_leaves=44,\n",
       "                                                              mean_match_scheme=&lt;miceforest.MeanMatchScheme.MeanMatchScheme object at 0x7f380ea1a830&gt;,\n",
       "                                                              mice_iterations=15,\n",
       "                                                              variable_parameters={1: {&#x27;objective&#x27;: &#x27;poisson&#x27;},\n",
       "                                                                                   2: {&#x27;objective&#x27;: &#x27;poisson&#x27;}...\n",
       "                                                                                   7: {&#x27;objective&#x27;: &#x27;regression&#x27;},\n",
       "                                                                                   9: {&#x27;is_unbalance&#x27;: True,\n",
       "                                                                                       &#x27;objective&#x27;: &#x27;binary&#x27;},\n",
       "                                                                                   10: {&#x27;is_unbalance&#x27;: True,\n",
       "                                                                                        &#x27;objective&#x27;: &#x27;binary&#x27;},\n",
       "                                                                                   12: {&#x27;objective&#x27;: &#x27;poisson&#x27;}})),\n",
       "                                                (&#x27;indicator&#x27;,\n",
       "                                                 missing_transformer())])),\n",
       "                (&#x27;classifier&#x27;,\n",
       "                 LGBMClassifier(is_unbalance=True,\n",
       "                                learning_rate=0.11263311888445775, max_depth=1,\n",
       "                                min_child_samples=16, n_estimators=399,\n",
       "                                num_leaves=6, objective=&#x27;binary&#x27;))])</pre></div></div></div><div class=\"sk-serial\"><div class=\"sk-item sk-dashed-wrapped\"><div class=\"sk-label-container\"><div class=\"sk-label sk-toggleable\"><input class=\"sk-toggleable__control sk-hidden--visually\" id=\"sk-estimator-id-7\" type=\"checkbox\" ><label for=\"sk-estimator-id-7\" class=\"sk-toggleable__label sk-toggleable__label-arrow\">imputer: FeatureUnion</label><div class=\"sk-toggleable__content\"><pre>FeatureUnion(transformer_list=[(&#x27;features&#x27;,\n",
       "                                mice_imputer(lgb_iterations=266,\n",
       "                                             lgb_learning_rate=0.13709275624689288,\n",
       "                                             lgb_max_depth=6, lgb_num_leaves=44,\n",
       "                                             mean_match_scheme=&lt;miceforest.MeanMatchScheme.MeanMatchScheme object at 0x7f380ea1a830&gt;,\n",
       "                                             mice_iterations=15,\n",
       "                                             variable_parameters={1: {&#x27;objective&#x27;: &#x27;poisson&#x27;},\n",
       "                                                                  2: {&#x27;objective&#x27;: &#x27;poisson&#x27;},\n",
       "                                                                  3: {&#x27;objective&#x27;: &#x27;poisson&#x27;},\n",
       "                                                                  4: {&#x27;objective&#x27;: &#x27;regression&#x27;},\n",
       "                                                                  5: {&#x27;objective&#x27;: &#x27;regression&#x27;},\n",
       "                                                                  6: {&#x27;objective&#x27;: &#x27;regression&#x27;},\n",
       "                                                                  7: {&#x27;objective&#x27;: &#x27;regression&#x27;},\n",
       "                                                                  9: {&#x27;is_unbalance&#x27;: True,\n",
       "                                                                      &#x27;objective&#x27;: &#x27;binary&#x27;},\n",
       "                                                                  10: {&#x27;is_unbalance&#x27;: True,\n",
       "                                                                       &#x27;objective&#x27;: &#x27;binary&#x27;},\n",
       "                                                                  12: {&#x27;objective&#x27;: &#x27;poisson&#x27;}})),\n",
       "                               (&#x27;indicator&#x27;, missing_transformer())])</pre></div></div></div><div class=\"sk-parallel\"><div class=\"sk-parallel-item\"><div class=\"sk-item\"><div class=\"sk-label-container\"><div class=\"sk-label sk-toggleable\"><label>features</label></div></div><div class=\"sk-serial\"><div class=\"sk-item\"><div class=\"sk-estimator sk-toggleable\"><input class=\"sk-toggleable__control sk-hidden--visually\" id=\"sk-estimator-id-8\" type=\"checkbox\" ><label for=\"sk-estimator-id-8\" class=\"sk-toggleable__label sk-toggleable__label-arrow\">mice_imputer</label><div class=\"sk-toggleable__content\"><pre>mice_imputer(lgb_iterations=266, lgb_learning_rate=0.13709275624689288,\n",
       "             lgb_max_depth=6, lgb_num_leaves=44,\n",
       "             mean_match_scheme=&lt;miceforest.MeanMatchScheme.MeanMatchScheme object at 0x7f380ea1a830&gt;,\n",
       "             mice_iterations=15,\n",
       "             variable_parameters={1: {&#x27;objective&#x27;: &#x27;poisson&#x27;},\n",
       "                                  2: {&#x27;objective&#x27;: &#x27;poisson&#x27;},\n",
       "                                  3: {&#x27;objective&#x27;: &#x27;poisson&#x27;},\n",
       "                                  4: {&#x27;objective&#x27;: &#x27;regression&#x27;},\n",
       "                                  5: {&#x27;objective&#x27;: &#x27;regression&#x27;},\n",
       "                                  6: {&#x27;objective&#x27;: &#x27;regression&#x27;},\n",
       "                                  7: {&#x27;objective&#x27;: &#x27;regression&#x27;},\n",
       "                                  9: {&#x27;is_unbalance&#x27;: True,\n",
       "                                      &#x27;objective&#x27;: &#x27;binary&#x27;},\n",
       "                                  10: {&#x27;is_unbalance&#x27;: True,\n",
       "                                       &#x27;objective&#x27;: &#x27;binary&#x27;},\n",
       "                                  12: {&#x27;objective&#x27;: &#x27;poisson&#x27;}})</pre></div></div></div></div></div></div><div class=\"sk-parallel-item\"><div class=\"sk-item\"><div class=\"sk-label-container\"><div class=\"sk-label sk-toggleable\"><label>indicator</label></div></div><div class=\"sk-serial\"><div class=\"sk-item\"><div class=\"sk-estimator sk-toggleable\"><input class=\"sk-toggleable__control sk-hidden--visually\" id=\"sk-estimator-id-9\" type=\"checkbox\" ><label for=\"sk-estimator-id-9\" class=\"sk-toggleable__label sk-toggleable__label-arrow\">missing_transformer</label><div class=\"sk-toggleable__content\"><pre>missing_transformer()</pre></div></div></div></div></div></div></div></div><div class=\"sk-item\"><div class=\"sk-estimator sk-toggleable\"><input class=\"sk-toggleable__control sk-hidden--visually\" id=\"sk-estimator-id-10\" type=\"checkbox\" ><label for=\"sk-estimator-id-10\" class=\"sk-toggleable__label sk-toggleable__label-arrow\">LGBMClassifier</label><div class=\"sk-toggleable__content\"><pre>LGBMClassifier(is_unbalance=True, learning_rate=0.11263311888445775,\n",
       "               max_depth=1, min_child_samples=16, n_estimators=399,\n",
       "               num_leaves=6, objective=&#x27;binary&#x27;)</pre></div></div></div></div></div></div></div>"
      ],
      "text/plain": [
       "Pipeline(steps=[('imputer',\n",
       "                 FeatureUnion(transformer_list=[('features',\n",
       "                                                 mice_imputer(lgb_iterations=266,\n",
       "                                                              lgb_learning_rate=0.13709275624689288,\n",
       "                                                              lgb_max_depth=6,\n",
       "                                                              lgb_num_leaves=44,\n",
       "                                                              mean_match_scheme=<miceforest.MeanMatchScheme.MeanMatchScheme object at 0x7f380ea1a830>,\n",
       "                                                              mice_iterations=15,\n",
       "                                                              variable_parameters={1: {'objective': 'poisson'},\n",
       "                                                                                   2: {'objective': 'poisson'}...\n",
       "                                                                                   7: {'objective': 'regression'},\n",
       "                                                                                   9: {'is_unbalance': True,\n",
       "                                                                                       'objective': 'binary'},\n",
       "                                                                                   10: {'is_unbalance': True,\n",
       "                                                                                        'objective': 'binary'},\n",
       "                                                                                   12: {'objective': 'poisson'}})),\n",
       "                                                ('indicator',\n",
       "                                                 missing_transformer())])),\n",
       "                ('classifier',\n",
       "                 LGBMClassifier(is_unbalance=True,\n",
       "                                learning_rate=0.11263311888445775, max_depth=1,\n",
       "                                min_child_samples=16, n_estimators=399,\n",
       "                                num_leaves=6, objective='binary'))])"
      ]
     },
     "execution_count": 98,
     "metadata": {},
     "output_type": "execute_result"
    }
   ],
   "source": [
    "best_final = best_parms[3]\n",
    "final = pipe.set_params(**best_final)\n",
    "final.fit(x, y.values.flatten())"
   ]
  },
  {
   "attachments": {},
   "cell_type": "markdown",
   "metadata": {},
   "source": [
    "Several estimated performance metrics for the model then follow below. Based on work by the original authors, this model outperforms most of the models they consider for the citology-only case, found in [table 3](https://www.ncbi.nlm.nih.gov/pmc/articles/PMC7924508/pdf/peerj-cs-04-154.pdf). This performance was achieved without any deep learning or other computationally intensive tricks, but with good data preprocessing and analysis. "
   ]
  },
  {
   "cell_type": "code",
   "execution_count": 99,
   "metadata": {},
   "outputs": [
    {
     "data": {
      "text/html": [
       "<div>\n",
       "<style scoped>\n",
       "    .dataframe tbody tr th:only-of-type {\n",
       "        vertical-align: middle;\n",
       "    }\n",
       "\n",
       "    .dataframe tbody tr th {\n",
       "        vertical-align: top;\n",
       "    }\n",
       "\n",
       "    .dataframe thead th {\n",
       "        text-align: right;\n",
       "    }\n",
       "</style>\n",
       "<table border=\"1\" class=\"dataframe\">\n",
       "  <thead>\n",
       "    <tr style=\"text-align: right;\">\n",
       "      <th></th>\n",
       "      <th>mean</th>\n",
       "      <th>sd</th>\n",
       "    </tr>\n",
       "  </thead>\n",
       "  <tbody>\n",
       "    <tr>\n",
       "      <th>test_average_precision</th>\n",
       "      <td>0.314029</td>\n",
       "      <td>0.137079</td>\n",
       "    </tr>\n",
       "    <tr>\n",
       "      <th>test_balanced_accuracy</th>\n",
       "      <td>0.704061</td>\n",
       "      <td>0.080519</td>\n",
       "    </tr>\n",
       "    <tr>\n",
       "      <th>test_f1</th>\n",
       "      <td>0.322088</td>\n",
       "      <td>0.089252</td>\n",
       "    </tr>\n",
       "    <tr>\n",
       "      <th>test_precision</th>\n",
       "      <td>0.239489</td>\n",
       "      <td>0.082498</td>\n",
       "    </tr>\n",
       "    <tr>\n",
       "      <th>test_recall</th>\n",
       "      <td>0.530909</td>\n",
       "      <td>0.167983</td>\n",
       "    </tr>\n",
       "  </tbody>\n",
       "</table>\n",
       "</div>"
      ],
      "text/plain": [
       "                            mean        sd\n",
       "test_average_precision  0.314029  0.137079\n",
       "test_balanced_accuracy  0.704061  0.080519\n",
       "test_f1                 0.322088  0.089252\n",
       "test_precision          0.239489  0.082498\n",
       "test_recall             0.530909  0.167983"
      ]
     },
     "execution_count": 99,
     "metadata": {},
     "output_type": "execute_result"
    }
   ],
   "source": [
    "mn = []\n",
    "sd = []\n",
    "names = []\n",
    "\n",
    "for i in res.keys():\n",
    "    if i.startswith(\"test\"):\n",
    "        names.append(i)\n",
    "        mn.append(res[i].mean())\n",
    "        sd.append(res[i].std())\n",
    "\n",
    "pd.DataFrame({\n",
    "    \"mean\": mn, \n",
    "    \"sd\" : sd\n",
    "    },\n",
    "    index = names\n",
    ")"
   ]
  },
  {
   "attachments": {},
   "cell_type": "markdown",
   "metadata": {},
   "source": [
    "## Variable importance\n",
    "\n",
    "Note that both of the variable importance metrics computed below have drawbacks. I encourage readers to do their own research on both permutation importance and partial dependence in order to become familiar with what problems these approaches have. \n",
    "\n",
    "Additionally, *these are computed on the full dataset*. This is done because the dataset is so small that a train/val/test split was not done; k-fold cross-validation was used. In otherwords, computing these quantitities on a test set wouldn't be very accurate, as there is not enough data to do so. Thus, these importances are biased towards finding an effect, as they are computed on the training data. "
   ]
  },
  {
   "attachments": {},
   "cell_type": "markdown",
   "metadata": {},
   "source": [
    "### Permutation Importance"
   ]
  },
  {
   "attachments": {},
   "cell_type": "markdown",
   "metadata": {},
   "source": [
    "I first compute the permutation variable importance. Briefly, this just takes each column, randomly shuffles it, and re-scores the model using the shuffled variable. If the variable is useful in reducing the loss (or improving the score), then shuffling it randomly should cause the score to decrease, or the loss to increase. In contrast, if it is unimportant, then shuffling it should result in little or no change in the loss/score. \n",
    "\n",
    "Permutation importance offers the advantage of being computable on the test set, whereas the typical mean decrease importance metric is necessarily computed on the training data. That said, I do compute the permutation importance on the training data here, as was discussed in the introduction to this section."
   ]
  },
  {
   "cell_type": "code",
   "execution_count": 100,
   "metadata": {},
   "outputs": [],
   "source": [
    "imp = permutation_importance(\n",
    "    final, \n",
    "    x, \n",
    "    y.values.flatten(),\n",
    "    scoring = f_scorer,\n",
    "    n_repeats = 500,\n",
    "    random_state = 897447,\n",
    "    n_jobs=-1\n",
    ")\n",
    "\n",
    "imp_sort = imp.importances_mean.argsort()\n",
    "imp_df = pd.DataFrame(\n",
    "    imp.importances[imp_sort].T,\n",
    "    columns = x.columns[imp_sort]\n",
    ")"
   ]
  },
  {
   "cell_type": "code",
   "execution_count": 101,
   "metadata": {},
   "outputs": [
    {
     "data": {
      "text/plain": [
       "Text(0.5, 1.0, 'Permutation Importance 95% Normal Approx. Confidence Interval')"
      ]
     },
     "execution_count": 101,
     "metadata": {},
     "output_type": "execute_result"
    },
    {
     "data": {
      "image/png": "[encoded data removed]",
      "text/plain": [
       "<Figure size 600x600 with 1 Axes>"
      ]
     },
     "metadata": {},
     "output_type": "display_data"
    }
   ],
   "source": [
    "mpl.rcParams['figure.figsize'] = [6, 6]\n",
    "bplot = plt.errorbar(x=imp_df.mean(), y = imp_df.columns, xerr = 1.96*imp_df.std(), linestyle='None', marker='o')\n",
    "plt.axvline(x = 0, color='red', linestyle = ':')\n",
    "plt.xlabel(\"Change in Score\")\n",
    "plt.title(\"Permutation Importance 95% Normal Approx. Confidence Interval\")"
   ]
  },
  {
   "attachments": {},
   "cell_type": "markdown",
   "metadata": {},
   "source": [
    "Based on the above permutation importance plot, there is statistical reason to believe that citology results, age, hormonal BC, number of pregnancies, age at first sexual intercourse, and any previous cervical diagnosis are all driving the predictive power behind the chosen model. However, one of the known drawbacks of permutation importance is that it merely reflects the importance of the variable for the model; thus, if the model is bad (which in this case, it is, as the data is not so great), then we may not find important features where we would if the model were better."
   ]
  },
  {
   "attachments": {},
   "cell_type": "markdown",
   "metadata": {},
   "source": [
    "### Partial Dependence"
   ]
  },
  {
   "attachments": {},
   "cell_type": "markdown",
   "metadata": {},
   "source": [
    "Next, I compute the partial dependence of each feature. Partial dependence computes average effect of a variable on the predicted probability, marginalizing over all other variables. Mathematically we have the theoretical expectation, and its sample-based estimator below (from [section 4.1.3](https://scikit-learn.org/stable/modules/partial_dependence.html#mathematical-definition) of the sklearn documentation):\n",
    "\n",
    "$$\\frac{1}{n}\\sum_i g(x_S, x_C^{(i)}) \\overset{p}{\\rightarrow} \\mathbb{E}_{X_c}[g(x_s, X_c)] = \\int g(x_S, x_C) dF_{X_c}$$\n",
    "\n",
    "where $g()$ computes the predicted probability of an estimator, $X_s$ is the set of variables we're interested in computing the partial dependence of, while $X_c$ is the set of remaining variables, and the right-hand integral is the Riemann-Stieltjes integral. \n",
    "\n",
    "In words then, we do the following to estimate partial dependence for a single feature $X_s$ (e.g., age):\n",
    "\n",
    "1. For each value of interest, $x_s$ (e.g., age = 18, 19, ..., 75): \n",
    "    * set the value of variable $X_s$ to $x_s$ for all observations $i$, keeping the other variables $X_c$ at their original values. (e.g., set age variable to 18 for everyone, keep everything else the same)\n",
    "    * compute the predicted probability of all observations, $g(x_s, x_c) \\forall i$, (i.e., \"what is the predicted probability of each observation *if we set age to 18*\")\n",
    "    * compute the sample mean of these predicted probabilities over all observations, (i.e., \"what is the average predicted probability if we set age to 18 for all observations.\")\n",
    "\n",
    "At the end, we have the average predicted probability at each value of age, which we call the the partial dependence. \n",
    "\n",
    "Computing these below, we then have the count of observations indicated on the right-hand axis of each plot, with the histogram corresponding to this axis, or the grey points for binary variables."
   ]
  },
  {
   "cell_type": "code",
   "execution_count": 102,
   "metadata": {},
   "outputs": [
    {
     "data": {
      "image/png": "[encoded data removed]",
      "text/plain": [
       "<Figure size 1000x1600 with 27 Axes>"
      ]
     },
     "metadata": {},
     "output_type": "display_data"
    }
   ],
   "source": [
    "mpl.rcParams['figure.figsize'] = [10, 16]\n",
    "\n",
    "is_cat = x.apply(func = lambda x: x.nunique() == 2) \n",
    "\n",
    "pdep = PartialDependenceDisplay.from_estimator(final, x, features = x.columns.values, grid_resolution=1000, categorical_features=is_cat, n_jobs = -1)\n",
    "\n",
    "fts = np.array(pdep.features).flatten()\n",
    "ft_names = x.columns.values[fts]\n",
    "\n",
    "for ax, var, ft_ind in zip(pdep.axes_.ravel(), ft_names, fts):\n",
    "\n",
    "    sec_ax = ax.twinx()\n",
    "\n",
    "\n",
    "    if ft_ind == 5:\n",
    "        sec_ax.set_ylabel(\"Count of Observations\")\n",
    "\n",
    "    if is_cat[ft_ind]:\n",
    "        sec_ax.scatter(x = [0, 1], y = x.groupby(var)[var].count(), c='grey')\n",
    "    else: \n",
    "        sec_ax.hist(x[var], bins = 30, color = 'grey', alpha = .25)\n",
    "\n",
    "plt.suptitle(\"Partial Dependence Plots\")\n",
    "plt.tight_layout(rect=[0, 0.03, 1, 0.99])\n"
   ]
  },
  {
   "attachments": {},
   "cell_type": "markdown",
   "metadata": {},
   "source": [
    "Computing these partial dependencies, we can observe the following:\n",
    "\n",
    "1. Middle aged women tend to have a higher risk of cervical cancer, consistent with current medical understanding. Although the plot spikes in later years, we can see that there is very little data in the right-tail, so results there are suspect. \n",
    "2. Number of sexual partners most likely has no strong effect. Despite some fluctuation, this occurs in locations with little data. \n",
    "3. The age at first sexual intercourse is difficult to make claims about. It appears that first intercourse occurring between ages 15-20 may be associated with greater risk, but again there is little data in the two tails, so this is probably an artifact. \n",
    "4. Having 3-4 pregnancies may be associated with greater risk, but again, data...\n",
    "5. Surprisingly, the number of years smoking has no effect on risk; the quantity of cigarattes smoked, however, does increase risk of cancer. Notably, after we pass the point-mass at zero packs per year (implying a non-smoker), risk takes a step-function-like increase. It drops down shortly after, but this is likely due to very little data at the higher numbers of packs per year.\n",
    "6. After 8-9 years of hormonal birth control, risk increases. \n",
    "7. Merely having an IUD does not increase risk, all else equal. However, keep in mind that some IUDs are hormonal, in which case the hormonal BC effects should be considered. \n",
    "8. Unsurprisingly, a positive pap result carries greater risk.\n",
    "9. Both STDs and any previous cervical diagnoses carry greater risk. The number of STDs however appears to be negligable in its effect, with the real issue being whether you have an STD or not. \n",
    "\n"
   ]
  }
 ],
 "metadata": {
  "kernelspec": {
   "display_name": "cervical",
   "language": "python",
   "name": "python3"
  },
  "language_info": {
   "codemirror_mode": {
    "name": "ipython",
    "version": 3
   },
   "file_extension": ".py",
   "mimetype": "text/x-python",
   "name": "python",
   "nbconvert_exporter": "python",
   "pygments_lexer": "ipython3",
   "version": "3.10.9"
  },
  "orig_nbformat": 4,
  "vscode": {
   "interpreter": {
    "hash": "36a4d8ebaadf09211e7ea3eda12f34cb65c6aa2c0258225f56eef2ad8727d175"
   }
  }
 },
 "nbformat": 4,
 "nbformat_minor": 2
}
