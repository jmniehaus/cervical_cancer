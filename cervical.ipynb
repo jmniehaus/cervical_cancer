{
 "cells": [
  {
   "cell_type": "code",
   "execution_count": null,
   "metadata": {},
   "outputs": [],
   "source": [
    "# schiller test --> iodine that stains different on abnormal cells on cervix\n",
    "# hinsellman --> coloscopy using scope on cervix\n",
    "# cytology --> pap smear\n",
    "# biopsy --> biopsy \n",
    "# These indicate the RESULTS of these tests, assuming they were carried out. 1 means suspect screening, 0 means okay screening. \n",
    "\n",
    "# dx columns mean previous cervical diagnosis \n",
    "# stds_number is the sum over all std columns\n",
    "# Cant figure out what stds_n_diagnosis is, though. "
   ]
  },
  {
   "cell_type": "code",
   "execution_count": 168,
   "metadata": {},
   "outputs": [],
   "source": [
    "import pandas as pd\n",
    "import numpy as np\n",
    "from sklearn.preprocessing import StandardScaler\n",
    "from sklearn.decomposition import PCA\n",
    "from sklearn.model_selection import train_test_split, KFold\n",
    "from sklearn.pipeline import Pipeline\n",
    "from sklearn.metrics import classification_report, RocCurveDisplay, PrecisionRecallDisplay\n",
    "import matplotlib.pyplot as plt\n",
    "import miceforest as mf\n",
    "from miceforest import mean_match_default\n",
    "import seaborn as sns\n",
    "from lightgbm import LGBMClassifier"
   ]
  },
  {
   "cell_type": "code",
   "execution_count": null,
   "metadata": {},
   "outputs": [],
   "source": [
    "df = pd.read_csv(\"./data.csv\")"
   ]
  },
  {
   "attachments": {},
   "cell_type": "markdown",
   "metadata": {},
   "source": [
    "# Encode missings"
   ]
  },
  {
   "cell_type": "code",
   "execution_count": null,
   "metadata": {},
   "outputs": [],
   "source": [
    "df = df.replace({\"?\": pd.NA})"
   ]
  },
  {
   "attachments": {},
   "cell_type": "markdown",
   "metadata": {},
   "source": [
    "# Rename columns to be more manageable"
   ]
  },
  {
   "cell_type": "code",
   "execution_count": null,
   "metadata": {},
   "outputs": [],
   "source": [
    "df.columns.values"
   ]
  },
  {
   "cell_type": "code",
   "execution_count": null,
   "metadata": {},
   "outputs": [],
   "source": [
    "new_names = df.columns \n",
    "to_rep = {\n",
    "    \"Number\" : \"n\",\n",
    "    \"Contraceptives\" : \"bc\", \n",
    "    \"Num\" : \"n\",\n",
    "    \"-\" : \"_\",\n",
    "    \"of\" : \"\",\n",
    "    \" \" : \"_\", \n",
    "    \"(\" : \"\",\n",
    "    \")\" : \"\",\n",
    "    \"/\" : \"_\",\n",
    "    \":\" : \"_\", \n",
    "    \"__\" : \"_\"\n",
    "\n",
    "}\n",
    "\n",
    "for key, value in to_rep.items(): \n",
    "    new_names = new_names.str.replace(key, value, regex = True)\n",
    "\n",
    "new_names = new_names.str.lower()\n",
    "\n",
    "df = df.set_axis(new_names, axis = 1)\n",
    "\n",
    "df.columns.values\n"
   ]
  },
  {
   "cell_type": "code",
   "execution_count": null,
   "metadata": {},
   "outputs": [],
   "source": [
    "df = df.apply(pd.to_numeric, axis = 1).convert_dtypes() # convert_dtypes not working without the apply() call. Probably due to the earlier replace statement, but fiddled for an hour and no dice."
   ]
  },
  {
   "attachments": {},
   "cell_type": "markdown",
   "metadata": {},
   "source": [
    "# Verifies that the count of stds is the sum over all std columns. "
   ]
  },
  {
   "cell_type": "code",
   "execution_count": null,
   "metadata": {},
   "outputs": [],
   "source": [
    "all((df[df.columns.values[df.columns.str.startswith(\"stds_\")]].drop([\"stds_time_since_first_diagnosis\", \"stds_time_since_last_diagnosis\", \"stds_n_diagnosis\", \"stds_number\"], axis = 1).sum(axis = 1) == df.stds_n_diagnosis).dropna())"
   ]
  },
  {
   "attachments": {},
   "cell_type": "markdown",
   "metadata": {},
   "source": [
    "# Drop n_diagnosis col"
   ]
  },
  {
   "cell_type": "code",
   "execution_count": null,
   "metadata": {},
   "outputs": [],
   "source": [
    "df.drop([\"stds_n_diagnosis\"], axis = 1, inplace = True)"
   ]
  },
  {
   "attachments": {},
   "cell_type": "markdown",
   "metadata": {},
   "source": [
    "# Check missingness "
   ]
  },
  {
   "cell_type": "code",
   "execution_count": null,
   "metadata": {},
   "outputs": [],
   "source": [
    "df.isna().mean().sort_values(ascending = False)"
   ]
  },
  {
   "attachments": {},
   "cell_type": "markdown",
   "metadata": {},
   "source": [
    "# Drop time since std diagnoses"
   ]
  },
  {
   "cell_type": "code",
   "execution_count": null,
   "metadata": {},
   "outputs": [],
   "source": [
    "df.drop(df.columns.values[df.columns.str.startswith(\"stds_time\")], axis = 1, inplace = True)"
   ]
  },
  {
   "attachments": {},
   "cell_type": "markdown",
   "metadata": {},
   "source": [
    "# Check for constant columns"
   ]
  },
  {
   "cell_type": "code",
   "execution_count": null,
   "metadata": {},
   "outputs": [],
   "source": [
    "const = df.nunique() == 1\n",
    "\n",
    "if any(const):\n",
    "    print(\"Deleting constant columns: {}\".format(df.columns.values[const]))\n",
    "    df.drop(df.columns.values[const], axis = 1, inplace = True)"
   ]
  },
  {
   "attachments": {},
   "cell_type": "markdown",
   "metadata": {},
   "source": [
    "# Iud/smoking years are always >0 if you have an IUD/smoke."
   ]
  },
  {
   "cell_type": "code",
   "execution_count": null,
   "metadata": {},
   "outputs": [],
   "source": [
    "df.loc[(df.iud == 1) & (df.iud_years == 0)]"
   ]
  },
  {
   "cell_type": "code",
   "execution_count": null,
   "metadata": {},
   "outputs": [],
   "source": [
    "df.loc[(df.smokes == 1) & (df.smokes_years == 0)]"
   ]
  },
  {
   "cell_type": "markdown",
   "metadata": {},
   "source": [
    "# PCA on STD Columns"
   ]
  },
  {
   "cell_type": "code",
   "execution_count": null,
   "metadata": {},
   "outputs": [],
   "source": [
    "stds = df[df.columns.values[df.columns.str.startswith(\"stds_\")]].drop(\"stds_number\", axis = 1).dropna()"
   ]
  },
  {
   "cell_type": "code",
   "execution_count": null,
   "metadata": {},
   "outputs": [],
   "source": [
    "scaler = StandardScaler()\n",
    "pc = PCA()\n",
    "stds_s = scaler.fit_transform(stds)\n",
    "pc.fit(stds_s)"
   ]
  },
  {
   "cell_type": "code",
   "execution_count": null,
   "metadata": {},
   "outputs": [],
   "source": [
    "eigs = pc.explained_variance_ratio_\n",
    "eigs_cum = np.cumsum(eigs)\n",
    "ind = [i + 1 for i in range(len(eigs))]\n",
    "print(eigs_cum)"
   ]
  },
  {
   "cell_type": "code",
   "execution_count": null,
   "metadata": {},
   "outputs": [],
   "source": [
    "plt.plot(ind, eigs)\n",
    "plt.plot(ind, eigs_cum)"
   ]
  },
  {
   "cell_type": "code",
   "execution_count": null,
   "metadata": {},
   "outputs": [],
   "source": [
    "pc.explained_variance_[0:3]"
   ]
  },
  {
   "cell_type": "code",
   "execution_count": null,
   "metadata": {},
   "outputs": [],
   "source": [
    "loadings = pc.components_[0:3].T * np.sqrt(pc.explained_variance_[0:3])\n",
    "\n",
    "loadmat = pd.DataFrame(np.round(loadings, 4), columns=['PC1', 'PC2', 'PC3'], index=stds.columns.values)\n",
    "loadmat\n"
   ]
  },
  {
   "cell_type": "code",
   "execution_count": 155,
   "metadata": {},
   "outputs": [],
   "source": [
    "x = df.drop([\"smokes\", \"hormonal_bc\", \"iud\", \"stds\", \"schiller\", \"citology\", \"biopsy\", \"hinselmann\"], axis = 1)\n",
    "x[\"n_stds\"] = x[\"stds_number\"]\n",
    "x.drop(x.columns.values[x.columns.str.startswith(\"stds\")], axis = 1, inplace = True)\n",
    "y = df[[\"biopsy\"]].astype(\"int64\")\n"
   ]
  },
  {
   "cell_type": "code",
   "execution_count": 122,
   "metadata": {},
   "outputs": [
    {
     "data": {
      "text/plain": [
       "age                           Int64\n",
       "n_sexual_partners             Int64\n",
       "first_sexual_intercourse      Int64\n",
       "n_pregnancies                 Int64\n",
       "smokes_years                Float64\n",
       "smokes_packs_year           Float64\n",
       "hormonal_bc_years           Float64\n",
       "iud_years                   Float64\n",
       "dx_cancer                     Int64\n",
       "dx_cin                        Int64\n",
       "dx_hpv                        Int64\n",
       "dx                            Int64\n",
       "n_stds                        Int64\n",
       "dtype: object"
      ]
     },
     "execution_count": 122,
     "metadata": {},
     "output_type": "execute_result"
    }
   ],
   "source": [
    "x.dtypes"
   ]
  },
  {
   "cell_type": "code",
   "execution_count": 156,
   "metadata": {},
   "outputs": [
    {
     "data": {
      "text/plain": [
       "age                          float64\n",
       "n_sexual_partners            float64\n",
       "first_sexual_intercourse     float64\n",
       "n_pregnancies                float64\n",
       "smokes_years                 float64\n",
       "smokes_packs_year            float64\n",
       "hormonal_bc_years            float64\n",
       "iud_years                    float64\n",
       "dx_cancer                   category\n",
       "dx_cin                      category\n",
       "dx_hpv                      category\n",
       "dx                          category\n",
       "n_stds                       float64\n",
       "dtype: object"
      ]
     },
     "execution_count": 156,
     "metadata": {},
     "output_type": "execute_result"
    }
   ],
   "source": [
    "x[x.select_dtypes(include=['Int64', 'Float64']).columns.values] = x.select_dtypes(include=['Int64', 'Float64']).astype('float64')\n",
    "x[x.columns.values[x.columns.str.startswith(\"dx\")]] = x[x.columns.values[x.columns.str.startswith(\"dx\")]].astype(\"category\")\n",
    "x.dtypes"
   ]
  },
  {
   "cell_type": "code",
   "execution_count": 157,
   "metadata": {},
   "outputs": [],
   "source": [
    "x_train, x_test, y_train, y_test = train_test_split(x, y)"
   ]
  },
  {
   "cell_type": "code",
   "execution_count": 149,
   "metadata": {},
   "outputs": [
    {
     "name": "stdout",
     "output_type": "stream",
     "text": [
      "(643, 1) (215, 1)\n"
     ]
    },
    {
     "data": {
      "text/html": [
       "<div>\n",
       "<style scoped>\n",
       "    .dataframe tbody tr th:only-of-type {\n",
       "        vertical-align: middle;\n",
       "    }\n",
       "\n",
       "    .dataframe tbody tr th {\n",
       "        vertical-align: top;\n",
       "    }\n",
       "\n",
       "    .dataframe thead th {\n",
       "        text-align: right;\n",
       "    }\n",
       "</style>\n",
       "<table border=\"1\" class=\"dataframe\">\n",
       "  <thead>\n",
       "    <tr style=\"text-align: right;\">\n",
       "      <th></th>\n",
       "      <th>age</th>\n",
       "      <th>n_sexual_partners</th>\n",
       "      <th>first_sexual_intercourse</th>\n",
       "      <th>n_pregnancies</th>\n",
       "      <th>smokes_years</th>\n",
       "      <th>smokes_packs_year</th>\n",
       "      <th>hormonal_bc_years</th>\n",
       "      <th>iud_years</th>\n",
       "      <th>dx_cancer</th>\n",
       "      <th>dx_cin</th>\n",
       "      <th>dx_hpv</th>\n",
       "      <th>dx</th>\n",
       "      <th>n_stds</th>\n",
       "    </tr>\n",
       "  </thead>\n",
       "  <tbody>\n",
       "    <tr>\n",
       "      <th>840</th>\n",
       "      <td>24.0</td>\n",
       "      <td>2.0</td>\n",
       "      <td>16.0</td>\n",
       "      <td>3.0</td>\n",
       "      <td>0.0</td>\n",
       "      <td>0.000000</td>\n",
       "      <td>5.00</td>\n",
       "      <td>0.0</td>\n",
       "      <td>0.0</td>\n",
       "      <td>0.0</td>\n",
       "      <td>0.0</td>\n",
       "      <td>0.0</td>\n",
       "      <td>0.0</td>\n",
       "    </tr>\n",
       "    <tr>\n",
       "      <th>670</th>\n",
       "      <td>47.0</td>\n",
       "      <td>2.0</td>\n",
       "      <td>17.0</td>\n",
       "      <td>3.0</td>\n",
       "      <td>0.0</td>\n",
       "      <td>0.000000</td>\n",
       "      <td>20.00</td>\n",
       "      <td>0.0</td>\n",
       "      <td>0.0</td>\n",
       "      <td>0.0</td>\n",
       "      <td>0.0</td>\n",
       "      <td>0.0</td>\n",
       "      <td>0.0</td>\n",
       "    </tr>\n",
       "    <tr>\n",
       "      <th>845</th>\n",
       "      <td>19.0</td>\n",
       "      <td>2.0</td>\n",
       "      <td>15.0</td>\n",
       "      <td>2.0</td>\n",
       "      <td>0.0</td>\n",
       "      <td>0.000000</td>\n",
       "      <td>0.75</td>\n",
       "      <td>0.0</td>\n",
       "      <td>0.0</td>\n",
       "      <td>0.0</td>\n",
       "      <td>0.0</td>\n",
       "      <td>0.0</td>\n",
       "      <td>0.0</td>\n",
       "    </tr>\n",
       "    <tr>\n",
       "      <th>219</th>\n",
       "      <td>23.0</td>\n",
       "      <td>4.0</td>\n",
       "      <td>18.0</td>\n",
       "      <td>1.0</td>\n",
       "      <td>4.0</td>\n",
       "      <td>0.513202</td>\n",
       "      <td>2.00</td>\n",
       "      <td>0.0</td>\n",
       "      <td>0.0</td>\n",
       "      <td>0.0</td>\n",
       "      <td>0.0</td>\n",
       "      <td>0.0</td>\n",
       "      <td>0.0</td>\n",
       "    </tr>\n",
       "    <tr>\n",
       "      <th>771</th>\n",
       "      <td>34.0</td>\n",
       "      <td>2.0</td>\n",
       "      <td>16.0</td>\n",
       "      <td>3.0</td>\n",
       "      <td>0.0</td>\n",
       "      <td>0.000000</td>\n",
       "      <td>NaN</td>\n",
       "      <td>NaN</td>\n",
       "      <td>0.0</td>\n",
       "      <td>0.0</td>\n",
       "      <td>0.0</td>\n",
       "      <td>0.0</td>\n",
       "      <td>NaN</td>\n",
       "    </tr>\n",
       "  </tbody>\n",
       "</table>\n",
       "</div>"
      ],
      "text/plain": [
       "      age  n_sexual_partners  first_sexual_intercourse  n_pregnancies  \\\n",
       "840  24.0                2.0                      16.0            3.0   \n",
       "670  47.0                2.0                      17.0            3.0   \n",
       "845  19.0                2.0                      15.0            2.0   \n",
       "219  23.0                4.0                      18.0            1.0   \n",
       "771  34.0                2.0                      16.0            3.0   \n",
       "\n",
       "     smokes_years  smokes_packs_year  hormonal_bc_years  iud_years dx_cancer  \\\n",
       "840           0.0           0.000000               5.00        0.0       0.0   \n",
       "670           0.0           0.000000              20.00        0.0       0.0   \n",
       "845           0.0           0.000000               0.75        0.0       0.0   \n",
       "219           4.0           0.513202               2.00        0.0       0.0   \n",
       "771           0.0           0.000000                NaN        NaN       0.0   \n",
       "\n",
       "    dx_cin dx_hpv   dx  n_stds  \n",
       "840    0.0    0.0  0.0     0.0  \n",
       "670    0.0    0.0  0.0     0.0  \n",
       "845    0.0    0.0  0.0     0.0  \n",
       "219    0.0    0.0  0.0     0.0  \n",
       "771    0.0    0.0  0.0     NaN  "
      ]
     },
     "execution_count": 149,
     "metadata": {},
     "output_type": "execute_result"
    }
   ],
   "source": [
    "print(y_train.shape, y_test.shape)\n",
    "x_train.head()"
   ]
  },
  {
   "cell_type": "code",
   "execution_count": 158,
   "metadata": {},
   "outputs": [],
   "source": [
    "mean_match = mean_match_default.copy()\n",
    "mean_match.set_mean_match_candidates(5)\n",
    "\n",
    "pipe = Pipeline([\n",
    "    (\"imputer\", mf.ImputationKernel(x_train, mean_match_scheme=mean_match, datasets=1)),\n",
    "    (\"fitter\", LGBMClassifier())\n",
    "])"
   ]
  },
  {
   "cell_type": "code",
   "execution_count": 159,
   "metadata": {},
   "outputs": [
    {
     "data": {
      "text/html": [
       "<style>#sk-container-id-3 {color: black;background-color: white;}#sk-container-id-3 pre{padding: 0;}#sk-container-id-3 div.sk-toggleable {background-color: white;}#sk-container-id-3 label.sk-toggleable__label {cursor: pointer;display: block;width: 100%;margin-bottom: 0;padding: 0.3em;box-sizing: border-box;text-align: center;}#sk-container-id-3 label.sk-toggleable__label-arrow:before {content: \"▸\";float: left;margin-right: 0.25em;color: #696969;}#sk-container-id-3 label.sk-toggleable__label-arrow:hover:before {color: black;}#sk-container-id-3 div.sk-estimator:hover label.sk-toggleable__label-arrow:before {color: black;}#sk-container-id-3 div.sk-toggleable__content {max-height: 0;max-width: 0;overflow: hidden;text-align: left;background-color: #f0f8ff;}#sk-container-id-3 div.sk-toggleable__content pre {margin: 0.2em;color: black;border-radius: 0.25em;background-color: #f0f8ff;}#sk-container-id-3 input.sk-toggleable__control:checked~div.sk-toggleable__content {max-height: 200px;max-width: 100%;overflow: auto;}#sk-container-id-3 input.sk-toggleable__control:checked~label.sk-toggleable__label-arrow:before {content: \"▾\";}#sk-container-id-3 div.sk-estimator input.sk-toggleable__control:checked~label.sk-toggleable__label {background-color: #d4ebff;}#sk-container-id-3 div.sk-label input.sk-toggleable__control:checked~label.sk-toggleable__label {background-color: #d4ebff;}#sk-container-id-3 input.sk-hidden--visually {border: 0;clip: rect(1px 1px 1px 1px);clip: rect(1px, 1px, 1px, 1px);height: 1px;margin: -1px;overflow: hidden;padding: 0;position: absolute;width: 1px;}#sk-container-id-3 div.sk-estimator {font-family: monospace;background-color: #f0f8ff;border: 1px dotted black;border-radius: 0.25em;box-sizing: border-box;margin-bottom: 0.5em;}#sk-container-id-3 div.sk-estimator:hover {background-color: #d4ebff;}#sk-container-id-3 div.sk-parallel-item::after {content: \"\";width: 100%;border-bottom: 1px solid gray;flex-grow: 1;}#sk-container-id-3 div.sk-label:hover label.sk-toggleable__label {background-color: #d4ebff;}#sk-container-id-3 div.sk-serial::before {content: \"\";position: absolute;border-left: 1px solid gray;box-sizing: border-box;top: 0;bottom: 0;left: 50%;z-index: 0;}#sk-container-id-3 div.sk-serial {display: flex;flex-direction: column;align-items: center;background-color: white;padding-right: 0.2em;padding-left: 0.2em;position: relative;}#sk-container-id-3 div.sk-item {position: relative;z-index: 1;}#sk-container-id-3 div.sk-parallel {display: flex;align-items: stretch;justify-content: center;background-color: white;position: relative;}#sk-container-id-3 div.sk-item::before, #sk-container-id-3 div.sk-parallel-item::before {content: \"\";position: absolute;border-left: 1px solid gray;box-sizing: border-box;top: 0;bottom: 0;left: 50%;z-index: -1;}#sk-container-id-3 div.sk-parallel-item {display: flex;flex-direction: column;z-index: 1;position: relative;background-color: white;}#sk-container-id-3 div.sk-parallel-item:first-child::after {align-self: flex-end;width: 50%;}#sk-container-id-3 div.sk-parallel-item:last-child::after {align-self: flex-start;width: 50%;}#sk-container-id-3 div.sk-parallel-item:only-child::after {width: 0;}#sk-container-id-3 div.sk-dashed-wrapped {border: 1px dashed gray;margin: 0 0.4em 0.5em 0.4em;box-sizing: border-box;padding-bottom: 0.4em;background-color: white;}#sk-container-id-3 div.sk-label label {font-family: monospace;font-weight: bold;display: inline-block;line-height: 1.2em;}#sk-container-id-3 div.sk-label-container {text-align: center;}#sk-container-id-3 div.sk-container {/* jupyter's `normalize.less` sets `[hidden] { display: none; }` but bootstrap.min.css set `[hidden] { display: none !important; }` so we also need the `!important` here to be able to override the default hidden behavior on the sphinx rendered scikit-learn.org. See: https://github.com/scikit-learn/scikit-learn/issues/21755 */display: inline-block !important;position: relative;}#sk-container-id-3 div.sk-text-repr-fallback {display: none;}</style><div id=\"sk-container-id-3\" class=\"sk-top-container\"><div class=\"sk-text-repr-fallback\"><pre>Pipeline(steps=[(&#x27;imputer&#x27;,\n",
       "                 \n",
       "              Class: ImputationKernel\n",
       "           Datasets: 1\n",
       "         Iterations: 2\n",
       "       Data Samples: 643\n",
       "       Data Columns: 13\n",
       "  Imputed Variables: 8\n",
       "save_all_iterations: True),\n",
       "                (&#x27;fitter&#x27;, LGBMClassifier())])</pre><b>In a Jupyter environment, please rerun this cell to show the HTML representation or trust the notebook. <br />On GitHub, the HTML representation is unable to render, please try loading this page with nbviewer.org.</b></div><div class=\"sk-container\" hidden><div class=\"sk-item sk-dashed-wrapped\"><div class=\"sk-label-container\"><div class=\"sk-label sk-toggleable\"><input class=\"sk-toggleable__control sk-hidden--visually\" id=\"sk-estimator-id-3\" type=\"checkbox\" ><label for=\"sk-estimator-id-3\" class=\"sk-toggleable__label sk-toggleable__label-arrow\">Pipeline</label><div class=\"sk-toggleable__content\"><pre>Pipeline(steps=[(&#x27;imputer&#x27;,\n",
       "                 \n",
       "              Class: ImputationKernel\n",
       "           Datasets: 1\n",
       "         Iterations: 2\n",
       "       Data Samples: 643\n",
       "       Data Columns: 13\n",
       "  Imputed Variables: 8\n",
       "save_all_iterations: True),\n",
       "                (&#x27;fitter&#x27;, LGBMClassifier())])</pre></div></div></div><div class=\"sk-serial\"><div class=\"sk-item\"><div class=\"sk-estimator sk-toggleable\"><input class=\"sk-toggleable__control sk-hidden--visually\" id=\"sk-estimator-id-4\" type=\"checkbox\" ><label for=\"sk-estimator-id-4\" class=\"sk-toggleable__label sk-toggleable__label-arrow\">ImputationKernel</label><div class=\"sk-toggleable__content\"><pre>\n",
       "              Class: ImputationKernel\n",
       "           Datasets: 1\n",
       "         Iterations: 2\n",
       "       Data Samples: 643\n",
       "       Data Columns: 13\n",
       "  Imputed Variables: 8\n",
       "save_all_iterations: True</pre></div></div></div><div class=\"sk-item\"><div class=\"sk-estimator sk-toggleable\"><input class=\"sk-toggleable__control sk-hidden--visually\" id=\"sk-estimator-id-5\" type=\"checkbox\" ><label for=\"sk-estimator-id-5\" class=\"sk-toggleable__label sk-toggleable__label-arrow\">LGBMClassifier</label><div class=\"sk-toggleable__content\"><pre>LGBMClassifier()</pre></div></div></div></div></div></div></div>"
      ],
      "text/plain": [
       "Pipeline(steps=[('imputer',\n",
       "                 \n",
       "              Class: ImputationKernel\n",
       "           Datasets: 1\n",
       "         Iterations: 2\n",
       "       Data Samples: 643\n",
       "       Data Columns: 13\n",
       "  Imputed Variables: 8\n",
       "save_all_iterations: True),\n",
       "                ('fitter', LGBMClassifier())])"
      ]
     },
     "execution_count": 159,
     "metadata": {},
     "output_type": "execute_result"
    }
   ],
   "source": [
    "pipe.fit(x_train, y_train.values.flatten())"
   ]
  },
  {
   "cell_type": "code",
   "execution_count": 163,
   "metadata": {},
   "outputs": [
    {
     "name": "stdout",
     "output_type": "stream",
     "text": [
      "              precision    recall  f1-score   support\n",
      "\n",
      "           0       0.95      1.00      0.97       204\n",
      "           1       0.50      0.09      0.15        11\n",
      "\n",
      "    accuracy                           0.95       215\n",
      "   macro avg       0.73      0.54      0.56       215\n",
      "weighted avg       0.93      0.95      0.93       215\n",
      "\n"
     ]
    }
   ],
   "source": [
    "print(classification_report(y_true = y_test, y_pred = pipe.predict(x_test)))"
   ]
  },
  {
   "cell_type": "code",
   "execution_count": 167,
   "metadata": {},
   "outputs": [
    {
     "data": {
      "text/plain": [
       "<sklearn.metrics._plot.roc_curve.RocCurveDisplay at 0x7f34b32e0fa0>"
      ]
     },
     "execution_count": 167,
     "metadata": {},
     "output_type": "execute_result"
    },
    {
     "data": {
      "image/png": "[encoded data removed]",
      "text/plain": [
       "<Figure size 640x480 with 1 Axes>"
      ]
     },
     "metadata": {},
     "output_type": "display_data"
    }
   ],
   "source": [
    "RocCurveDisplay.from_estimator(pipe, x_test, y_test)"
   ]
  },
  {
   "cell_type": "code",
   "execution_count": 169,
   "metadata": {},
   "outputs": [
    {
     "data": {
      "text/plain": [
       "<sklearn.metrics._plot.precision_recall_curve.PrecisionRecallDisplay at 0x7f34b3223e50>"
      ]
     },
     "execution_count": 169,
     "metadata": {},
     "output_type": "execute_result"
    },
    {
     "data": {
      "image/png": "[encoded data removed]",
      "text/plain": [
       "<Figure size 640x480 with 1 Axes>"
      ]
     },
     "metadata": {},
     "output_type": "display_data"
    }
   ],
   "source": [
    "PrecisionRecallDisplay.from_estimator(pipe, x_test, y_test)"
   ]
  }
 ],
 "metadata": {
  "kernelspec": {
   "display_name": "cervical",
   "language": "python",
   "name": "python3"
  },
  "language_info": {
   "codemirror_mode": {
    "name": "ipython",
    "version": 3
   },
   "file_extension": ".py",
   "mimetype": "text/x-python",
   "name": "python",
   "nbconvert_exporter": "python",
   "pygments_lexer": "ipython3",
   "version": "3.10.9"
  },
  "orig_nbformat": 4,
  "vscode": {
   "interpreter": {
    "hash": "36a4d8ebaadf09211e7ea3eda12f34cb65c6aa2c0258225f56eef2ad8727d175"
   }
  }
 },
 "nbformat": 4,
 "nbformat_minor": 2
}
